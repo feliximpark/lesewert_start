{
 "cells": [
  {
   "cell_type": "code",
   "execution_count": 1,
   "id": "abcb9418",
   "metadata": {
    "ExecuteTime": {
     "end_time": "2021-09-13T17:22:20.297784Z",
     "start_time": "2021-09-13T17:21:52.380379Z"
    }
   },
   "outputs": [
    {
     "name": "stdout",
     "output_type": "stream",
     "text": [
      "Lesewert Screenshot-Modul geladen!\n"
     ]
    },
    {
     "data": {
      "text/plain": [
       "<module 'lesewert_screenshots' from 'C:\\\\Users\\\\c_knoop\\\\Desktop\\\\SDZ_Abschluss\\\\lesewert_screenshots.py'>"
      ]
     },
     "execution_count": 1,
     "metadata": {},
     "output_type": "execute_result"
    }
   ],
   "source": [
    "import pandas as pd\n",
    "import lesewert_screenshots as ls\n",
    "import screenshot_powerBI as sp\n",
    "import importlib\n",
    "importlib.reload(ls)"
   ]
  },
  {
   "cell_type": "code",
   "execution_count": 2,
   "id": "013f78ce",
   "metadata": {
    "ExecuteTime": {
     "end_time": "2021-09-13T17:22:20.600330Z",
     "start_time": "2021-09-13T17:22:20.320718Z"
    }
   },
   "outputs": [],
   "source": [
    "na_val = ['-1.#IND', '1.#QNAN', '1.#IND', '-1.#QNAN', '#N/A N/A', '#N/A', 'N/A', \\\n",
    "             'n/a', '', '#NA', 'NULL', 'null',  '-NaN', 'nan', '-nan', '']\n",
    "data_url = \"./data/K.csv\"\n",
    "df = pd.read_csv(data_url ,\\\n",
    "                 keep_default_na=False,\\\n",
    "                 na_values= na_val)"
   ]
  },
  {
   "cell_type": "code",
   "execution_count": 3,
   "id": "63160a94",
   "metadata": {
    "ExecuteTime": {
     "end_time": "2021-09-13T17:22:20.712982Z",
     "start_time": "2021-09-13T17:22:20.707995Z"
    }
   },
   "outputs": [],
   "source": [
    "kunden_nr = 1020"
   ]
  },
  {
   "cell_type": "code",
   "execution_count": 4,
   "id": "aaea50ff",
   "metadata": {
    "ExecuteTime": {
     "end_time": "2021-09-13T17:22:20.807732Z",
     "start_time": "2021-09-13T17:22:20.801741Z"
    }
   },
   "outputs": [],
   "source": [
    "# Column-Names anpassen\n",
    "df.rename(columns={\"Ausgabeteil\":\"Ausgabenteil\"}, inplace=True)"
   ]
  },
  {
   "cell_type": "code",
   "execution_count": 5,
   "id": "0cb6e798",
   "metadata": {
    "ExecuteTime": {
     "end_time": "2021-09-13T17:22:33.352745Z",
     "start_time": "2021-09-13T17:22:33.337805Z"
    }
   },
   "outputs": [],
   "source": [
    "df = df[df[\"Seitentitel\"]==\"Stadtviertel\"]"
   ]
  },
  {
   "cell_type": "code",
   "execution_count": 6,
   "id": "b4ce04c1",
   "metadata": {
    "ExecuteTime": {
     "end_time": "2021-09-13T17:22:37.516021Z",
     "start_time": "2021-09-13T17:22:37.451196Z"
    }
   },
   "outputs": [
    {
     "data": {
      "text/html": [
       "<div>\n",
       "<style scoped>\n",
       "    .dataframe tbody tr th:only-of-type {\n",
       "        vertical-align: middle;\n",
       "    }\n",
       "\n",
       "    .dataframe tbody tr th {\n",
       "        vertical-align: top;\n",
       "    }\n",
       "\n",
       "    .dataframe thead th {\n",
       "        text-align: right;\n",
       "    }\n",
       "</style>\n",
       "<table border=\"1\" class=\"dataframe\">\n",
       "  <thead>\n",
       "    <tr style=\"text-align: right;\">\n",
       "      <th></th>\n",
       "      <th>SplitId</th>\n",
       "      <th>ArtikelId</th>\n",
       "      <th>Artikel</th>\n",
       "      <th>ErscheinungsId</th>\n",
       "      <th>AusgabeId</th>\n",
       "      <th>Datum</th>\n",
       "      <th>Seite</th>\n",
       "      <th>Ausgabeleser</th>\n",
       "      <th>Artikelleser</th>\n",
       "      <th>BW</th>\n",
       "      <th>...</th>\n",
       "      <th>Kumulierung</th>\n",
       "      <th>Wellennummer</th>\n",
       "      <th>Dachzeile</th>\n",
       "      <th>Wochentag</th>\n",
       "      <th>Worte</th>\n",
       "      <th>Seitenreihung</th>\n",
       "      <th>Optik</th>\n",
       "      <th>Ressort_neu</th>\n",
       "      <th>Ressort_neu2</th>\n",
       "      <th>DF</th>\n",
       "    </tr>\n",
       "  </thead>\n",
       "  <tbody>\n",
       "    <tr>\n",
       "      <th>107</th>\n",
       "      <td>5543</td>\n",
       "      <td>17312</td>\n",
       "      <td>Arbeiten an den Rathaus-Fassaden</td>\n",
       "      <td>88</td>\n",
       "      <td>3</td>\n",
       "      <td>13.04.2021</td>\n",
       "      <td>37</td>\n",
       "      <td>72</td>\n",
       "      <td>10</td>\n",
       "      <td>13,89</td>\n",
       "      <td>...</td>\n",
       "      <td>nein</td>\n",
       "      <td>6</td>\n",
       "      <td>NaN</td>\n",
       "      <td>Dienstag</td>\n",
       "      <td>114</td>\n",
       "      <td>1</td>\n",
       "      <td>nein</td>\n",
       "      <td>Stadtviertel</td>\n",
       "      <td>Lok 1 München</td>\n",
       "      <td>Nachricht</td>\n",
       "    </tr>\n",
       "    <tr>\n",
       "      <th>110</th>\n",
       "      <td>5878</td>\n",
       "      <td>18314</td>\n",
       "      <td>Runter vom Gehsteig</td>\n",
       "      <td>93</td>\n",
       "      <td>3</td>\n",
       "      <td>14.04.2021</td>\n",
       "      <td>36</td>\n",
       "      <td>74</td>\n",
       "      <td>12</td>\n",
       "      <td>16,22</td>\n",
       "      <td>...</td>\n",
       "      <td>nein</td>\n",
       "      <td>6</td>\n",
       "      <td>NaN</td>\n",
       "      <td>Mittwoch</td>\n",
       "      <td>88</td>\n",
       "      <td>2</td>\n",
       "      <td>nein</td>\n",
       "      <td>Stadtviertel</td>\n",
       "      <td>Stadtviertel</td>\n",
       "      <td>Nachricht</td>\n",
       "    </tr>\n",
       "    <tr>\n",
       "      <th>113</th>\n",
       "      <td>6219</td>\n",
       "      <td>19262</td>\n",
       "      <td>Poller gegen Schleichverkehr</td>\n",
       "      <td>98</td>\n",
       "      <td>3</td>\n",
       "      <td>15.04.2021</td>\n",
       "      <td>43</td>\n",
       "      <td>73</td>\n",
       "      <td>2</td>\n",
       "      <td>2,74</td>\n",
       "      <td>...</td>\n",
       "      <td>nein</td>\n",
       "      <td>6</td>\n",
       "      <td>NaN</td>\n",
       "      <td>Donnerstag</td>\n",
       "      <td>61</td>\n",
       "      <td>3</td>\n",
       "      <td>nein</td>\n",
       "      <td>Stadtviertel</td>\n",
       "      <td>Stadtviertel</td>\n",
       "      <td>Nachricht</td>\n",
       "    </tr>\n",
       "    <tr>\n",
       "      <th>117</th>\n",
       "      <td>6517</td>\n",
       "      <td>20201</td>\n",
       "      <td>Gegen den Wildwuchs der E-Scooter</td>\n",
       "      <td>103</td>\n",
       "      <td>3</td>\n",
       "      <td>16.04.2021</td>\n",
       "      <td>34</td>\n",
       "      <td>70</td>\n",
       "      <td>6</td>\n",
       "      <td>8,57</td>\n",
       "      <td>...</td>\n",
       "      <td>nein</td>\n",
       "      <td>6</td>\n",
       "      <td>NaN</td>\n",
       "      <td>Freitag</td>\n",
       "      <td>202</td>\n",
       "      <td>2</td>\n",
       "      <td>nein</td>\n",
       "      <td>Stadtviertel</td>\n",
       "      <td>Stadtviertel</td>\n",
       "      <td>Nachricht</td>\n",
       "    </tr>\n",
       "    <tr>\n",
       "      <th>122</th>\n",
       "      <td>8148</td>\n",
       "      <td>25317</td>\n",
       "      <td>Pandemie-Service im Würmtal</td>\n",
       "      <td>128</td>\n",
       "      <td>3</td>\n",
       "      <td>22.04.2021</td>\n",
       "      <td>40</td>\n",
       "      <td>64</td>\n",
       "      <td>3</td>\n",
       "      <td>4,69</td>\n",
       "      <td>...</td>\n",
       "      <td>nein</td>\n",
       "      <td>6</td>\n",
       "      <td>NaN</td>\n",
       "      <td>Donnerstag</td>\n",
       "      <td>69</td>\n",
       "      <td>2</td>\n",
       "      <td>nein</td>\n",
       "      <td>Stadtviertel</td>\n",
       "      <td>Stadtviertel</td>\n",
       "      <td>Nachricht</td>\n",
       "    </tr>\n",
       "    <tr>\n",
       "      <th>...</th>\n",
       "      <td>...</td>\n",
       "      <td>...</td>\n",
       "      <td>...</td>\n",
       "      <td>...</td>\n",
       "      <td>...</td>\n",
       "      <td>...</td>\n",
       "      <td>...</td>\n",
       "      <td>...</td>\n",
       "      <td>...</td>\n",
       "      <td>...</td>\n",
       "      <td>...</td>\n",
       "      <td>...</td>\n",
       "      <td>...</td>\n",
       "      <td>...</td>\n",
       "      <td>...</td>\n",
       "      <td>...</td>\n",
       "      <td>...</td>\n",
       "      <td>...</td>\n",
       "      <td>...</td>\n",
       "      <td>...</td>\n",
       "      <td>...</td>\n",
       "    </tr>\n",
       "    <tr>\n",
       "      <th>11199</th>\n",
       "      <td>18008</td>\n",
       "      <td>56699</td>\n",
       "      <td>Drei Haushalte dürfen sich treffen</td>\n",
       "      <td>278</td>\n",
       "      <td>3</td>\n",
       "      <td>31.05.2021</td>\n",
       "      <td>34</td>\n",
       "      <td>46</td>\n",
       "      <td>4</td>\n",
       "      <td>8,7</td>\n",
       "      <td>...</td>\n",
       "      <td>nein</td>\n",
       "      <td>6</td>\n",
       "      <td>NORDEN UND WESTEN</td>\n",
       "      <td>Montag</td>\n",
       "      <td>128</td>\n",
       "      <td>2</td>\n",
       "      <td>nein</td>\n",
       "      <td>Stadtviertel</td>\n",
       "      <td>Stadtviertel</td>\n",
       "      <td>Nachricht</td>\n",
       "    </tr>\n",
       "    <tr>\n",
       "      <th>11200</th>\n",
       "      <td>18384</td>\n",
       "      <td>57858</td>\n",
       "      <td>Um den Schlaf gebracht</td>\n",
       "      <td>283</td>\n",
       "      <td>3</td>\n",
       "      <td>01.06.2021</td>\n",
       "      <td>38</td>\n",
       "      <td>42</td>\n",
       "      <td>4</td>\n",
       "      <td>9,52</td>\n",
       "      <td>...</td>\n",
       "      <td>nein</td>\n",
       "      <td>6</td>\n",
       "      <td>WESTEN UND WÜRMTAL</td>\n",
       "      <td>Dienstag</td>\n",
       "      <td>221</td>\n",
       "      <td>2</td>\n",
       "      <td>nein</td>\n",
       "      <td>Stadtviertel</td>\n",
       "      <td>Stadtviertel</td>\n",
       "      <td>Nachricht</td>\n",
       "    </tr>\n",
       "    <tr>\n",
       "      <th>11201</th>\n",
       "      <td>18695</td>\n",
       "      <td>58794</td>\n",
       "      <td>Runter vom Gas</td>\n",
       "      <td>288</td>\n",
       "      <td>3</td>\n",
       "      <td>02.06.2021</td>\n",
       "      <td>49</td>\n",
       "      <td>42</td>\n",
       "      <td>6</td>\n",
       "      <td>14,29</td>\n",
       "      <td>...</td>\n",
       "      <td>nein</td>\n",
       "      <td>6</td>\n",
       "      <td>ZENTRUM</td>\n",
       "      <td>Mittwoch</td>\n",
       "      <td>138</td>\n",
       "      <td>1</td>\n",
       "      <td>nein</td>\n",
       "      <td>Stadtviertel</td>\n",
       "      <td>Lok 1 München</td>\n",
       "      <td>Nachricht</td>\n",
       "    </tr>\n",
       "    <tr>\n",
       "      <th>11202</th>\n",
       "      <td>18724</td>\n",
       "      <td>58862</td>\n",
       "      <td>Vertikales Grün</td>\n",
       "      <td>288</td>\n",
       "      <td>3</td>\n",
       "      <td>02.06.2021</td>\n",
       "      <td>51</td>\n",
       "      <td>42</td>\n",
       "      <td>3</td>\n",
       "      <td>7,14</td>\n",
       "      <td>...</td>\n",
       "      <td>nein</td>\n",
       "      <td>6</td>\n",
       "      <td>NORDEN UND WESTEN</td>\n",
       "      <td>Mittwoch</td>\n",
       "      <td>78</td>\n",
       "      <td>3</td>\n",
       "      <td>nein</td>\n",
       "      <td>Stadtviertel</td>\n",
       "      <td>Stadtviertel</td>\n",
       "      <td>Nachricht</td>\n",
       "    </tr>\n",
       "    <tr>\n",
       "      <th>11203</th>\n",
       "      <td>18961</td>\n",
       "      <td>59701</td>\n",
       "      <td>Fotoprojekt über Migranten</td>\n",
       "      <td>293</td>\n",
       "      <td>3</td>\n",
       "      <td>04.06.2021</td>\n",
       "      <td>34</td>\n",
       "      <td>45</td>\n",
       "      <td>3</td>\n",
       "      <td>6,67</td>\n",
       "      <td>...</td>\n",
       "      <td>nein</td>\n",
       "      <td>6</td>\n",
       "      <td>WESTEN UND WÜRMTAL</td>\n",
       "      <td>Freitag</td>\n",
       "      <td>109</td>\n",
       "      <td>2</td>\n",
       "      <td>nein</td>\n",
       "      <td>Stadtviertel</td>\n",
       "      <td>Stadtviertel</td>\n",
       "      <td>Nachricht</td>\n",
       "    </tr>\n",
       "  </tbody>\n",
       "</table>\n",
       "<p>856 rows × 33 columns</p>\n",
       "</div>"
      ],
      "text/plain": [
       "       SplitId  ArtikelId                             Artikel  ErscheinungsId  \\\n",
       "107       5543      17312    Arbeiten an den Rathaus-Fassaden              88   \n",
       "110       5878      18314                 Runter vom Gehsteig              93   \n",
       "113       6219      19262        Poller gegen Schleichverkehr              98   \n",
       "117       6517      20201   Gegen den Wildwuchs der E-Scooter             103   \n",
       "122       8148      25317         Pandemie-Service im Würmtal             128   \n",
       "...        ...        ...                                 ...             ...   \n",
       "11199    18008      56699  Drei Haushalte dürfen sich treffen             278   \n",
       "11200    18384      57858              Um den Schlaf gebracht             283   \n",
       "11201    18695      58794                      Runter vom Gas             288   \n",
       "11202    18724      58862                     Vertikales Grün             288   \n",
       "11203    18961      59701          Fotoprojekt über Migranten             293   \n",
       "\n",
       "       AusgabeId       Datum  Seite  Ausgabeleser  Artikelleser     BW  ...  \\\n",
       "107            3  13.04.2021     37            72            10  13,89  ...   \n",
       "110            3  14.04.2021     36            74            12  16,22  ...   \n",
       "113            3  15.04.2021     43            73             2   2,74  ...   \n",
       "117            3  16.04.2021     34            70             6   8,57  ...   \n",
       "122            3  22.04.2021     40            64             3   4,69  ...   \n",
       "...          ...         ...    ...           ...           ...    ...  ...   \n",
       "11199          3  31.05.2021     34            46             4    8,7  ...   \n",
       "11200          3  01.06.2021     38            42             4   9,52  ...   \n",
       "11201          3  02.06.2021     49            42             6  14,29  ...   \n",
       "11202          3  02.06.2021     51            42             3   7,14  ...   \n",
       "11203          3  04.06.2021     34            45             3   6,67  ...   \n",
       "\n",
       "      Kumulierung Wellennummer           Dachzeile   Wochentag Worte  \\\n",
       "107          nein            6                 NaN    Dienstag   114   \n",
       "110          nein            6                 NaN    Mittwoch    88   \n",
       "113          nein            6                 NaN  Donnerstag    61   \n",
       "117          nein            6                 NaN     Freitag   202   \n",
       "122          nein            6                 NaN  Donnerstag    69   \n",
       "...           ...          ...                 ...         ...   ...   \n",
       "11199        nein            6   NORDEN UND WESTEN      Montag   128   \n",
       "11200        nein            6  WESTEN UND WÜRMTAL    Dienstag   221   \n",
       "11201        nein            6             ZENTRUM    Mittwoch   138   \n",
       "11202        nein            6   NORDEN UND WESTEN    Mittwoch    78   \n",
       "11203        nein            6  WESTEN UND WÜRMTAL     Freitag   109   \n",
       "\n",
       "      Seitenreihung Optik   Ressort_neu   Ressort_neu2         DF  \n",
       "107               1  nein  Stadtviertel  Lok 1 München  Nachricht  \n",
       "110               2  nein  Stadtviertel   Stadtviertel  Nachricht  \n",
       "113               3  nein  Stadtviertel   Stadtviertel  Nachricht  \n",
       "117               2  nein  Stadtviertel   Stadtviertel  Nachricht  \n",
       "122               2  nein  Stadtviertel   Stadtviertel  Nachricht  \n",
       "...             ...   ...           ...            ...        ...  \n",
       "11199             2  nein  Stadtviertel   Stadtviertel  Nachricht  \n",
       "11200             2  nein  Stadtviertel   Stadtviertel  Nachricht  \n",
       "11201             1  nein  Stadtviertel  Lok 1 München  Nachricht  \n",
       "11202             3  nein  Stadtviertel   Stadtviertel  Nachricht  \n",
       "11203             2  nein  Stadtviertel   Stadtviertel  Nachricht  \n",
       "\n",
       "[856 rows x 33 columns]"
      ]
     },
     "execution_count": 6,
     "metadata": {},
     "output_type": "execute_result"
    }
   ],
   "source": [
    "df"
   ]
  },
  {
   "cell_type": "code",
   "execution_count": 7,
   "id": "973611db",
   "metadata": {
    "ExecuteTime": {
     "end_time": "2021-09-13T17:22:41.948409Z",
     "start_time": "2021-09-13T17:22:41.942421Z"
    }
   },
   "outputs": [],
   "source": [
    "shot = ls.Screenshot(df, 1020)"
   ]
  },
  {
   "cell_type": "code",
   "execution_count": 8,
   "id": "b1b87744",
   "metadata": {
    "ExecuteTime": {
     "end_time": "2021-09-13T17:22:48.483873Z",
     "start_time": "2021-09-13T17:22:43.205851Z"
    }
   },
   "outputs": [
    {
     "name": "stdout",
     "output_type": "stream",
     "text": [
      "Top-10-Screenhotsgestartet, 4 angefordert.\n",
      "Vorhandender Ordner C:\\Users\\c_knoop\\Desktop\\SDZ_Abschluss\\./screenshots/top_article/Lokales München/                 mit allen Unterordnern gelöscht.\n",
      "Ordner ./screenshots/top_article/Lokales München/ erfolgreich erstellt\n",
      "4 Screenshots Lokales München erstellt.\n",
      "---------------------------------------------------\n",
      "\n",
      "Top-10-Screenshots nach 5.27             Sekunden abgeschlossen.\n"
     ]
    }
   ],
   "source": [
    "shot.top_screenshots(4)"
   ]
  },
  {
   "cell_type": "code",
   "execution_count": 16,
   "id": "c51eed0a",
   "metadata": {
    "ExecuteTime": {
     "end_time": "2021-08-17T18:32:28.524498Z",
     "start_time": "2021-08-17T18:32:28.468391Z"
    }
   },
   "outputs": [
    {
     "ename": "AttributeError",
     "evalue": "'DataFrame' object has no attribute 'Ressorts'",
     "output_type": "error",
     "traceback": [
      "\u001b[1;31m---------------------------------------------------------------------------\u001b[0m",
      "\u001b[1;31mAttributeError\u001b[0m                            Traceback (most recent call last)",
      "\u001b[1;32m<ipython-input-16-0b47f9c37c57>\u001b[0m in \u001b[0;36m<module>\u001b[1;34m\u001b[0m\n\u001b[1;32m----> 1\u001b[1;33m \u001b[0mdf\u001b[0m\u001b[1;33m.\u001b[0m\u001b[0mRessorts\u001b[0m\u001b[1;33m\u001b[0m\u001b[1;33m\u001b[0m\u001b[0m\n\u001b[0m",
      "\u001b[1;32mc:\\users\\c_knoop\\appdata\\local\\programs\\python\\python39\\lib\\site-packages\\pandas\\core\\generic.py\u001b[0m in \u001b[0;36m__getattr__\u001b[1;34m(self, name)\u001b[0m\n\u001b[0;32m   5463\u001b[0m             \u001b[1;32mif\u001b[0m \u001b[0mself\u001b[0m\u001b[1;33m.\u001b[0m\u001b[0m_info_axis\u001b[0m\u001b[1;33m.\u001b[0m\u001b[0m_can_hold_identifiers_and_holds_name\u001b[0m\u001b[1;33m(\u001b[0m\u001b[0mname\u001b[0m\u001b[1;33m)\u001b[0m\u001b[1;33m:\u001b[0m\u001b[1;33m\u001b[0m\u001b[1;33m\u001b[0m\u001b[0m\n\u001b[0;32m   5464\u001b[0m                 \u001b[1;32mreturn\u001b[0m \u001b[0mself\u001b[0m\u001b[1;33m[\u001b[0m\u001b[0mname\u001b[0m\u001b[1;33m]\u001b[0m\u001b[1;33m\u001b[0m\u001b[1;33m\u001b[0m\u001b[0m\n\u001b[1;32m-> 5465\u001b[1;33m             \u001b[1;32mreturn\u001b[0m \u001b[0mobject\u001b[0m\u001b[1;33m.\u001b[0m\u001b[0m__getattribute__\u001b[0m\u001b[1;33m(\u001b[0m\u001b[0mself\u001b[0m\u001b[1;33m,\u001b[0m \u001b[0mname\u001b[0m\u001b[1;33m)\u001b[0m\u001b[1;33m\u001b[0m\u001b[1;33m\u001b[0m\u001b[0m\n\u001b[0m\u001b[0;32m   5466\u001b[0m \u001b[1;33m\u001b[0m\u001b[0m\n\u001b[0;32m   5467\u001b[0m     \u001b[1;32mdef\u001b[0m \u001b[0m__setattr__\u001b[0m\u001b[1;33m(\u001b[0m\u001b[0mself\u001b[0m\u001b[1;33m,\u001b[0m \u001b[0mname\u001b[0m\u001b[1;33m:\u001b[0m \u001b[0mstr\u001b[0m\u001b[1;33m,\u001b[0m \u001b[0mvalue\u001b[0m\u001b[1;33m)\u001b[0m \u001b[1;33m->\u001b[0m \u001b[1;32mNone\u001b[0m\u001b[1;33m:\u001b[0m\u001b[1;33m\u001b[0m\u001b[1;33m\u001b[0m\u001b[0m\n",
      "\u001b[1;31mAttributeError\u001b[0m: 'DataFrame' object has no attribute 'Ressorts'"
     ]
    }
   ],
   "source": [
    "df.Ressorts"
   ]
  },
  {
   "cell_type": "code",
   "execution_count": 17,
   "id": "5e7af141",
   "metadata": {
    "ExecuteTime": {
     "end_time": "2021-08-17T18:32:35.188284Z",
     "start_time": "2021-08-17T18:32:35.181302Z"
    }
   },
   "outputs": [
    {
     "data": {
      "text/plain": [
       "array(['Lokales', 'München', 'Titelseite', 'Bayern', 'Wirtschaft',\n",
       "       'Panorama', 'SZ Extra/Spezial/Beilage', 'TV-Programm',\n",
       "       'Kinderseiten', 'Sport in Bayern', 'Region/Landkreis', 'Wissen',\n",
       "       'Sport', 'Politik', 'Feuilleton', 'Forum & Leserbriefe', 'Leute',\n",
       "       'Reise', 'Schule und Hochschule', 'Mobiles Leben', 'Junge Leute',\n",
       "       'Regiokultur', 'Sport in der Region', 'Gesellschaft',\n",
       "       'Sonderthemen', 'Themen des Tages', 'Meinungsseite', 'Stil',\n",
       "       'Rätsel', 'Akteneinsicht', 'Die Seite Drei', 'Buch Zwei'],\n",
       "      dtype=object)"
      ]
     },
     "execution_count": 17,
     "metadata": {},
     "output_type": "execute_result"
    }
   ],
   "source": [
    "df.Ressort.unique()"
   ]
  },
  {
   "cell_type": "code",
   "execution_count": null,
   "id": "24a0ab33",
   "metadata": {},
   "outputs": [],
   "source": []
  }
 ],
 "metadata": {
  "hide_input": false,
  "kernelspec": {
   "display_name": "Python 3",
   "language": "python",
   "name": "python3"
  },
  "language_info": {
   "codemirror_mode": {
    "name": "ipython",
    "version": 3
   },
   "file_extension": ".py",
   "mimetype": "text/x-python",
   "name": "python",
   "nbconvert_exporter": "python",
   "pygments_lexer": "ipython3",
   "version": "3.9.5"
  },
  "toc": {
   "base_numbering": 1,
   "nav_menu": {},
   "number_sections": true,
   "sideBar": true,
   "skip_h1_title": false,
   "title_cell": "Table of Contents",
   "title_sidebar": "Contents",
   "toc_cell": false,
   "toc_position": {},
   "toc_section_display": true,
   "toc_window_display": false
  },
  "varInspector": {
   "cols": {
    "lenName": 16,
    "lenType": 16,
    "lenVar": 40
   },
   "kernels_config": {
    "python": {
     "delete_cmd_postfix": "",
     "delete_cmd_prefix": "del ",
     "library": "var_list.py",
     "varRefreshCmd": "print(var_dic_list())"
    },
    "r": {
     "delete_cmd_postfix": ") ",
     "delete_cmd_prefix": "rm(",
     "library": "var_list.r",
     "varRefreshCmd": "cat(var_dic_list()) "
    }
   },
   "types_to_exclude": [
    "module",
    "function",
    "builtin_function_or_method",
    "instance",
    "_Feature"
   ],
   "window_display": false
  }
 },
 "nbformat": 4,
 "nbformat_minor": 5
}
