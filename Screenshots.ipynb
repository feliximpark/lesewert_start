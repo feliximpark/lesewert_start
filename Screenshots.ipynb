{
 "cells": [
  {
   "cell_type": "code",
   "execution_count": 1,
   "id": "abcb9418",
   "metadata": {
    "ExecuteTime": {
     "end_time": "2022-07-26T06:24:08.692402Z",
     "start_time": "2022-07-26T06:24:05.816919Z"
    }
   },
   "outputs": [
    {
     "data": {
      "text/plain": [
       "<module 'modules.lesewert_screenshots' from 'C:\\\\Users\\\\c_knoop\\\\Desktop\\\\BNN\\\\modules\\\\lesewert_screenshots.py'>"
      ]
     },
     "execution_count": 1,
     "metadata": {},
     "output_type": "execute_result"
    }
   ],
   "source": [
    "import pandas as pd\n",
    "from modules import lesewert_screenshots as ls\n",
    "#import screenshot_powerBI as sp\n",
    "import importlib\n",
    "importlib.reload(ls)"
   ]
  },
  {
   "cell_type": "code",
   "execution_count": 2,
   "id": "013f78ce",
   "metadata": {
    "ExecuteTime": {
     "end_time": "2022-07-26T06:24:08.896424Z",
     "start_time": "2022-07-26T06:24:08.733407Z"
    }
   },
   "outputs": [],
   "source": [
    "dfk = pd.read_pickle(\"./data/k.pkl\")\n",
    "dfnk = pd.read_pickle(\"./data/nk.pkl\")\n",
    "kunden_nr = 1024"
   ]
  },
  {
   "cell_type": "code",
   "execution_count": 20,
   "id": "5b657d12",
   "metadata": {
    "ExecuteTime": {
     "end_time": "2021-11-18T13:31:43.718890Z",
     "start_time": "2021-11-18T13:31:43.708950Z"
    }
   },
   "outputs": [],
   "source": [
    "# df_lok = df[(df[\"Ressort\"]==\"Lokales Pinneberger Tageblatt\") | (df[\"Ressort\"]==\"Lokales Hamburg & Umland\")]\n",
    "# df_reg = df[(df[\"Ressort\"]==\"Schleswig-Holstein\") | (df[\"Ressort\"]==\"Hamburg / Schleswig-Holstein\")]"
   ]
  },
  {
   "cell_type": "code",
   "execution_count": 3,
   "id": "667c2a6a",
   "metadata": {
    "ExecuteTime": {
     "end_time": "2022-07-25T17:57:29.007450Z",
     "start_time": "2022-07-25T17:57:27.423403Z"
    }
   },
   "outputs": [
    {
     "ename": "NameError",
     "evalue": "name 'df_lok' is not defined",
     "output_type": "error",
     "traceback": [
      "\u001b[1;31m---------------------------------------------------------------------------\u001b[0m",
      "\u001b[1;31mNameError\u001b[0m                                 Traceback (most recent call last)",
      "\u001b[1;32m~\\AppData\\Local\\Temp\\ipykernel_19508\\2676089503.py\u001b[0m in \u001b[0;36m<cell line: 1>\u001b[1;34m()\u001b[0m\n\u001b[1;32m----> 1\u001b[1;33m \u001b[0mdf_lok\u001b[0m\u001b[1;33m[\u001b[0m\u001b[1;34m\"Ressort\"\u001b[0m\u001b[1;33m]\u001b[0m \u001b[1;33m=\u001b[0m \u001b[1;34m\"Lok\"\u001b[0m\u001b[1;33m\u001b[0m\u001b[1;33m\u001b[0m\u001b[0m\n\u001b[0m\u001b[0;32m      2\u001b[0m \u001b[0mdf_lok\u001b[0m\u001b[1;33m[\u001b[0m\u001b[1;34m\"Ausgabenteil\"\u001b[0m\u001b[1;33m]\u001b[0m \u001b[1;33m=\u001b[0m \u001b[1;34m\"1\"\u001b[0m\u001b[1;33m\u001b[0m\u001b[1;33m\u001b[0m\u001b[0m\n\u001b[0;32m      3\u001b[0m \u001b[0mdf_reg\u001b[0m\u001b[1;33m[\u001b[0m\u001b[1;34m\"Ressort\"\u001b[0m\u001b[1;33m]\u001b[0m \u001b[1;33m=\u001b[0m \u001b[1;34m\"reg\"\u001b[0m\u001b[1;33m\u001b[0m\u001b[1;33m\u001b[0m\u001b[0m\n\u001b[0;32m      4\u001b[0m \u001b[0mdf_reg\u001b[0m\u001b[1;33m[\u001b[0m\u001b[1;34m\"Ausgabenteil\"\u001b[0m\u001b[1;33m]\u001b[0m \u001b[1;33m=\u001b[0m \u001b[1;34m\"1\"\u001b[0m\u001b[1;33m\u001b[0m\u001b[1;33m\u001b[0m\u001b[0m\n",
      "\u001b[1;31mNameError\u001b[0m: name 'df_lok' is not defined"
     ]
    }
   ],
   "source": [
    "df_lok[\"Ressort\"] = \"Lok\"\n",
    "df_lok[\"Ausgabenteil\"] = \"1\"\n",
    "df_reg[\"Ressort\"] = \"reg\"\n",
    "df_reg[\"Ausgabenteil\"] = \"1\"\n"
   ]
  },
  {
   "cell_type": "code",
   "execution_count": 4,
   "id": "0e19d1aa",
   "metadata": {
    "ExecuteTime": {
     "end_time": "2022-07-25T17:57:34.487167Z",
     "start_time": "2022-07-25T17:57:34.439169Z"
    }
   },
   "outputs": [],
   "source": [
    "dfk[\"Ausgabenteil\"] = \"Gesamt\"\n",
    "dfnk[\"Ausgabenteil\"] = \"Gesamt\"\n",
    "dfk_ = dfk[(dfk[\"Ressort\"]==\"Magazin\") & (dfk[\"Ausgabe\"]==\"BNN\")]\n",
    "dfk_ = dfk[(dfk[\"Ressort\"]==\"Meinung /Hintergrund\") | (dfk[\"Ressort\"]==\"Politik\") | (dfk[\"Ressort\"]==\"Meinung und Hintergrund\")]\n",
    "dfk_ = dfk_[dfk_[\"Seite\"]==2]\n",
    "dfk_ = dfk_[dfk_[\"Ausgabe\"]==\"BNN\"]"
   ]
  },
  {
   "cell_type": "code",
   "execution_count": 31,
   "id": "b7b45788",
   "metadata": {
    "ExecuteTime": {
     "end_time": "2022-06-24T10:11:51.378240Z",
     "start_time": "2022-06-24T10:11:51.368192Z"
    }
   },
   "outputs": [],
   "source": [
    "dfk_[\"Ressort\"] = \"MeinungpolitikBNN\"\n",
    "dfk_[\"Seitentitel\"] = \"MeinungpolitikBNN\""
   ]
  },
  {
   "cell_type": "code",
   "execution_count": 5,
   "id": "3f820161",
   "metadata": {
    "ExecuteTime": {
     "end_time": "2022-07-25T17:58:12.121631Z",
     "start_time": "2022-07-25T17:58:12.102628Z"
    }
   },
   "outputs": [
    {
     "data": {
      "text/plain": [
       "array(['BNN_MB', 'BNN_KA', 'BT_RA'], dtype=object)"
      ]
     },
     "execution_count": 5,
     "metadata": {},
     "output_type": "execute_result"
    }
   ],
   "source": [
    "dfnk.Ausgabe.unique()"
   ]
  },
  {
   "cell_type": "code",
   "execution_count": 7,
   "id": "e680ce86",
   "metadata": {
    "ExecuteTime": {
     "end_time": "2022-07-26T07:19:16.754993Z",
     "start_time": "2022-07-26T07:19:16.574279Z"
    }
   },
   "outputs": [
    {
     "name": "stderr",
     "output_type": "stream",
     "text": [
      "C:\\Users\\c_knoop\\AppData\\Local\\Temp\\ipykernel_12836\\1335463365.py:2: SettingWithCopyWarning: \n",
      "A value is trying to be set on a copy of a slice from a DataFrame.\n",
      "Try using .loc[row_indexer,col_indexer] = value instead\n",
      "\n",
      "See the caveats in the documentation: https://pandas.pydata.org/pandas-docs/stable/user_guide/indexing.html#returning-a-view-versus-a-copy\n",
      "  df[\"Ausgabenteil\"] = \"\"\n"
     ]
    }
   ],
   "source": [
    "df = dfnk[dfnk[\"Ressort\"]==\"Sport Lokal\"]\n",
    "df[\"Ausgabenteil\"] = \"\""
   ]
  },
  {
   "cell_type": "code",
   "execution_count": 8,
   "id": "2d16780a",
   "metadata": {
    "ExecuteTime": {
     "end_time": "2022-07-26T07:19:17.917712Z",
     "start_time": "2022-07-26T07:19:17.906581Z"
    }
   },
   "outputs": [],
   "source": [
    "df = df[df[\"Ausgabe\"]==\"BNN_KA\"]"
   ]
  },
  {
   "cell_type": "code",
   "execution_count": null,
   "id": "dc97e49d",
   "metadata": {},
   "outputs": [],
   "source": []
  },
  {
   "cell_type": "code",
   "execution_count": null,
   "id": "96d33052",
   "metadata": {},
   "outputs": [],
   "source": []
  },
  {
   "cell_type": "code",
   "execution_count": 15,
   "id": "167a52e0",
   "metadata": {
    "ExecuteTime": {
     "end_time": "2022-07-06T11:14:01.801584Z",
     "start_time": "2022-07-06T11:14:01.796548Z"
    }
   },
   "outputs": [],
   "source": [
    "df = df[df[\"ArtikelId\"]!=37102]"
   ]
  },
  {
   "cell_type": "code",
   "execution_count": 9,
   "id": "bf4d2a64",
   "metadata": {
    "ExecuteTime": {
     "end_time": "2022-07-26T07:19:22.215319Z",
     "start_time": "2022-07-26T07:19:22.162271Z"
    }
   },
   "outputs": [
    {
     "data": {
      "text/html": [
       "<div>\n",
       "<style scoped>\n",
       "    .dataframe tbody tr th:only-of-type {\n",
       "        vertical-align: middle;\n",
       "    }\n",
       "\n",
       "    .dataframe tbody tr th {\n",
       "        vertical-align: top;\n",
       "    }\n",
       "\n",
       "    .dataframe thead th {\n",
       "        text-align: right;\n",
       "    }\n",
       "</style>\n",
       "<table border=\"1\" class=\"dataframe\">\n",
       "  <thead>\n",
       "    <tr style=\"text-align: right;\">\n",
       "      <th></th>\n",
       "      <th>SplitId</th>\n",
       "      <th>ArtikelId</th>\n",
       "      <th>Artikel</th>\n",
       "      <th>ErscheinungsId</th>\n",
       "      <th>AusgabeId</th>\n",
       "      <th>Datum</th>\n",
       "      <th>Seite</th>\n",
       "      <th>BW</th>\n",
       "      <th>DW</th>\n",
       "      <th>LW</th>\n",
       "      <th>...</th>\n",
       "      <th>Wochentag</th>\n",
       "      <th>offen/codiert</th>\n",
       "      <th>Spalte</th>\n",
       "      <th>Seitenreihung</th>\n",
       "      <th>Lesedauer</th>\n",
       "      <th>Ressort</th>\n",
       "      <th>SortierungWT</th>\n",
       "      <th>DF</th>\n",
       "      <th>PL</th>\n",
       "      <th>Ausgabenteil</th>\n",
       "    </tr>\n",
       "  </thead>\n",
       "  <tbody>\n",
       "    <tr>\n",
       "      <th>6291</th>\n",
       "      <td>30587</td>\n",
       "      <td>37102</td>\n",
       "      <td>Familienbande</td>\n",
       "      <td>187</td>\n",
       "      <td>1</td>\n",
       "      <td>09.04.2022</td>\n",
       "      <td>22</td>\n",
       "      <td>20.512821</td>\n",
       "      <td>93.429673</td>\n",
       "      <td>19.165061</td>\n",
       "      <td>...</td>\n",
       "      <td>Samstag</td>\n",
       "      <td>codiert</td>\n",
       "      <td>NaN</td>\n",
       "      <td>1</td>\n",
       "      <td>0.650</td>\n",
       "      <td>Sport Lokal</td>\n",
       "      <td>6</td>\n",
       "      <td>Freies Format</td>\n",
       "      <td>Aufmacher</td>\n",
       "      <td></td>\n",
       "    </tr>\n",
       "    <tr>\n",
       "      <th>11293</th>\n",
       "      <td>48552</td>\n",
       "      <td>60073</td>\n",
       "      <td>Mähroboter erobert Sportplätze</td>\n",
       "      <td>304</td>\n",
       "      <td>1</td>\n",
       "      <td>28.05.2022</td>\n",
       "      <td>21</td>\n",
       "      <td>14.606742</td>\n",
       "      <td>87.708321</td>\n",
       "      <td>12.811328</td>\n",
       "      <td>...</td>\n",
       "      <td>Samstag</td>\n",
       "      <td>codiert</td>\n",
       "      <td>NaN</td>\n",
       "      <td>1</td>\n",
       "      <td>2.755</td>\n",
       "      <td>Sport Lokal</td>\n",
       "      <td>6</td>\n",
       "      <td>Bericht/Feature</td>\n",
       "      <td>Seitenkeller</td>\n",
       "      <td></td>\n",
       "    </tr>\n",
       "    <tr>\n",
       "      <th>11283</th>\n",
       "      <td>46304</td>\n",
       "      <td>57188</td>\n",
       "      <td>Sie können auch anders</td>\n",
       "      <td>289</td>\n",
       "      <td>1</td>\n",
       "      <td>21.05.2022</td>\n",
       "      <td>20</td>\n",
       "      <td>14.285714</td>\n",
       "      <td>71.131705</td>\n",
       "      <td>10.161672</td>\n",
       "      <td>...</td>\n",
       "      <td>Samstag</td>\n",
       "      <td>codiert</td>\n",
       "      <td>NaN</td>\n",
       "      <td>1</td>\n",
       "      <td>3.995</td>\n",
       "      <td>Sport Lokal</td>\n",
       "      <td>6</td>\n",
       "      <td>Bericht/Feature</td>\n",
       "      <td>Aufmacher</td>\n",
       "      <td></td>\n",
       "    </tr>\n",
       "    <tr>\n",
       "      <th>11287</th>\n",
       "      <td>46768</td>\n",
       "      <td>57826</td>\n",
       "      <td>Ein überraschender Sprung</td>\n",
       "      <td>292</td>\n",
       "      <td>1</td>\n",
       "      <td>23.05.2022</td>\n",
       "      <td>19</td>\n",
       "      <td>15.000000</td>\n",
       "      <td>56.645668</td>\n",
       "      <td>8.496850</td>\n",
       "      <td>...</td>\n",
       "      <td>Montag</td>\n",
       "      <td>codiert</td>\n",
       "      <td>NaN</td>\n",
       "      <td>2</td>\n",
       "      <td>2.715</td>\n",
       "      <td>Sport Lokal</td>\n",
       "      <td>1</td>\n",
       "      <td>Bericht/Feature</td>\n",
       "      <td>Aufmacher</td>\n",
       "      <td></td>\n",
       "    </tr>\n",
       "    <tr>\n",
       "      <th>11275</th>\n",
       "      <td>43562</td>\n",
       "      <td>53693</td>\n",
       "      <td>Runter vom Parkett</td>\n",
       "      <td>271</td>\n",
       "      <td>1</td>\n",
       "      <td>14.05.2022</td>\n",
       "      <td>21</td>\n",
       "      <td>11.458333</td>\n",
       "      <td>72.371073</td>\n",
       "      <td>8.292519</td>\n",
       "      <td>...</td>\n",
       "      <td>Samstag</td>\n",
       "      <td>codiert</td>\n",
       "      <td>NaN</td>\n",
       "      <td>1</td>\n",
       "      <td>3.640</td>\n",
       "      <td>Sport Lokal</td>\n",
       "      <td>6</td>\n",
       "      <td>Bericht/Feature</td>\n",
       "      <td>Aufmacher</td>\n",
       "      <td></td>\n",
       "    </tr>\n",
       "    <tr>\n",
       "      <th>...</th>\n",
       "      <td>...</td>\n",
       "      <td>...</td>\n",
       "      <td>...</td>\n",
       "      <td>...</td>\n",
       "      <td>...</td>\n",
       "      <td>...</td>\n",
       "      <td>...</td>\n",
       "      <td>...</td>\n",
       "      <td>...</td>\n",
       "      <td>...</td>\n",
       "      <td>...</td>\n",
       "      <td>...</td>\n",
       "      <td>...</td>\n",
       "      <td>...</td>\n",
       "      <td>...</td>\n",
       "      <td>...</td>\n",
       "      <td>...</td>\n",
       "      <td>...</td>\n",
       "      <td>...</td>\n",
       "      <td>...</td>\n",
       "      <td>...</td>\n",
       "    </tr>\n",
       "    <tr>\n",
       "      <th>7731</th>\n",
       "      <td>48540</td>\n",
       "      <td>60061</td>\n",
       "      <td>Hohe Hürde für Spielberg</td>\n",
       "      <td>304</td>\n",
       "      <td>1</td>\n",
       "      <td>28.05.2022</td>\n",
       "      <td>21</td>\n",
       "      <td>1.123596</td>\n",
       "      <td>4.947526</td>\n",
       "      <td>0.055590</td>\n",
       "      <td>...</td>\n",
       "      <td>Samstag</td>\n",
       "      <td>codiert</td>\n",
       "      <td>NaN</td>\n",
       "      <td>1</td>\n",
       "      <td>1.405</td>\n",
       "      <td>Sport Lokal</td>\n",
       "      <td>6</td>\n",
       "      <td>Nachricht</td>\n",
       "      <td>Einspalter</td>\n",
       "      <td></td>\n",
       "    </tr>\n",
       "    <tr>\n",
       "      <th>7717</th>\n",
       "      <td>42193</td>\n",
       "      <td>51978</td>\n",
       "      <td>SVL nutzt Überzahl nicht</td>\n",
       "      <td>262</td>\n",
       "      <td>1</td>\n",
       "      <td>11.05.2022</td>\n",
       "      <td>20</td>\n",
       "      <td>0.934579</td>\n",
       "      <td>4.060089</td>\n",
       "      <td>0.037945</td>\n",
       "      <td>...</td>\n",
       "      <td>Mittwoch</td>\n",
       "      <td>codiert</td>\n",
       "      <td>NaN</td>\n",
       "      <td>1</td>\n",
       "      <td>1.815</td>\n",
       "      <td>Sport Lokal</td>\n",
       "      <td>3</td>\n",
       "      <td>Nachricht</td>\n",
       "      <td>Einspalter</td>\n",
       "      <td></td>\n",
       "    </tr>\n",
       "    <tr>\n",
       "      <th>11229</th>\n",
       "      <td>31129</td>\n",
       "      <td>37827</td>\n",
       "      <td>Diszipliniert ins Finale</td>\n",
       "      <td>190</td>\n",
       "      <td>1</td>\n",
       "      <td>11.04.2022</td>\n",
       "      <td>20</td>\n",
       "      <td>0.877193</td>\n",
       "      <td>2.409111</td>\n",
       "      <td>0.021133</td>\n",
       "      <td>...</td>\n",
       "      <td>Montag</td>\n",
       "      <td>codiert</td>\n",
       "      <td>NaN</td>\n",
       "      <td>1</td>\n",
       "      <td>1.850</td>\n",
       "      <td>Sport Lokal</td>\n",
       "      <td>1</td>\n",
       "      <td>Bericht/Feature</td>\n",
       "      <td>Seitenkeller</td>\n",
       "      <td></td>\n",
       "    </tr>\n",
       "    <tr>\n",
       "      <th>11265</th>\n",
       "      <td>38658</td>\n",
       "      <td>47406</td>\n",
       "      <td>Effiziente Spielberger</td>\n",
       "      <td>238</td>\n",
       "      <td>1</td>\n",
       "      <td>02.05.2022</td>\n",
       "      <td>21</td>\n",
       "      <td>0.869565</td>\n",
       "      <td>1.798022</td>\n",
       "      <td>0.015635</td>\n",
       "      <td>...</td>\n",
       "      <td>Montag</td>\n",
       "      <td>codiert</td>\n",
       "      <td>NaN</td>\n",
       "      <td>2</td>\n",
       "      <td>2.485</td>\n",
       "      <td>Sport Lokal</td>\n",
       "      <td>1</td>\n",
       "      <td>Bericht/Feature</td>\n",
       "      <td>Aufmacher</td>\n",
       "      <td></td>\n",
       "    </tr>\n",
       "    <tr>\n",
       "      <th>11771</th>\n",
       "      <td>37167</td>\n",
       "      <td>45522</td>\n",
       "      <td>Wende nach der Pause</td>\n",
       "      <td>229</td>\n",
       "      <td>1</td>\n",
       "      <td>28.04.2022</td>\n",
       "      <td>20</td>\n",
       "      <td>0.909091</td>\n",
       "      <td>1.076631</td>\n",
       "      <td>0.009788</td>\n",
       "      <td>...</td>\n",
       "      <td>Donnerstag</td>\n",
       "      <td>codiert</td>\n",
       "      <td>NaN</td>\n",
       "      <td>1</td>\n",
       "      <td>1.130</td>\n",
       "      <td>Sport Lokal</td>\n",
       "      <td>4</td>\n",
       "      <td>Bericht/Feature</td>\n",
       "      <td>Zweispalter</td>\n",
       "      <td></td>\n",
       "    </tr>\n",
       "  </tbody>\n",
       "</table>\n",
       "<p>222 rows × 30 columns</p>\n",
       "</div>"
      ],
      "text/plain": [
       "       SplitId  ArtikelId                         Artikel  ErscheinungsId  \\\n",
       "6291     30587      37102                   Familienbande             187   \n",
       "11293    48552      60073  Mähroboter erobert Sportplätze             304   \n",
       "11283    46304      57188          Sie können auch anders             289   \n",
       "11287    46768      57826       Ein überraschender Sprung             292   \n",
       "11275    43562      53693              Runter vom Parkett             271   \n",
       "...        ...        ...                             ...             ...   \n",
       "7731     48540      60061        Hohe Hürde für Spielberg             304   \n",
       "7717     42193      51978        SVL nutzt Überzahl nicht             262   \n",
       "11229    31129      37827        Diszipliniert ins Finale             190   \n",
       "11265    38658      47406          Effiziente Spielberger             238   \n",
       "11771    37167      45522            Wende nach der Pause             229   \n",
       "\n",
       "       AusgabeId       Datum  Seite         BW         DW         LW  ...  \\\n",
       "6291           1  09.04.2022     22  20.512821  93.429673  19.165061  ...   \n",
       "11293          1  28.05.2022     21  14.606742  87.708321  12.811328  ...   \n",
       "11283          1  21.05.2022     20  14.285714  71.131705  10.161672  ...   \n",
       "11287          1  23.05.2022     19  15.000000  56.645668   8.496850  ...   \n",
       "11275          1  14.05.2022     21  11.458333  72.371073   8.292519  ...   \n",
       "...          ...         ...    ...        ...        ...        ...  ...   \n",
       "7731           1  28.05.2022     21   1.123596   4.947526   0.055590  ...   \n",
       "7717           1  11.05.2022     20   0.934579   4.060089   0.037945  ...   \n",
       "11229          1  11.04.2022     20   0.877193   2.409111   0.021133  ...   \n",
       "11265          1  02.05.2022     21   0.869565   1.798022   0.015635  ...   \n",
       "11771          1  28.04.2022     20   0.909091   1.076631   0.009788  ...   \n",
       "\n",
       "        Wochentag offen/codiert Spalte Seitenreihung Lesedauer      Ressort  \\\n",
       "6291      Samstag       codiert    NaN             1     0.650  Sport Lokal   \n",
       "11293     Samstag       codiert    NaN             1     2.755  Sport Lokal   \n",
       "11283     Samstag       codiert    NaN             1     3.995  Sport Lokal   \n",
       "11287      Montag       codiert    NaN             2     2.715  Sport Lokal   \n",
       "11275     Samstag       codiert    NaN             1     3.640  Sport Lokal   \n",
       "...           ...           ...    ...           ...       ...          ...   \n",
       "7731      Samstag       codiert    NaN             1     1.405  Sport Lokal   \n",
       "7717     Mittwoch       codiert    NaN             1     1.815  Sport Lokal   \n",
       "11229      Montag       codiert    NaN             1     1.850  Sport Lokal   \n",
       "11265      Montag       codiert    NaN             2     2.485  Sport Lokal   \n",
       "11771  Donnerstag       codiert    NaN             1     1.130  Sport Lokal   \n",
       "\n",
       "      SortierungWT               DF            PL Ausgabenteil  \n",
       "6291             6    Freies Format     Aufmacher               \n",
       "11293            6  Bericht/Feature  Seitenkeller               \n",
       "11283            6  Bericht/Feature     Aufmacher               \n",
       "11287            1  Bericht/Feature     Aufmacher               \n",
       "11275            6  Bericht/Feature     Aufmacher               \n",
       "...            ...              ...           ...          ...  \n",
       "7731             6        Nachricht    Einspalter               \n",
       "7717             3        Nachricht    Einspalter               \n",
       "11229            1  Bericht/Feature  Seitenkeller               \n",
       "11265            1  Bericht/Feature     Aufmacher               \n",
       "11771            4  Bericht/Feature   Zweispalter               \n",
       "\n",
       "[222 rows x 30 columns]"
      ]
     },
     "execution_count": 9,
     "metadata": {},
     "output_type": "execute_result"
    }
   ],
   "source": [
    "df.sort_values(by=\"LW\", ascending=False)"
   ]
  },
  {
   "cell_type": "code",
   "execution_count": 10,
   "id": "47c0a7d7",
   "metadata": {
    "ExecuteTime": {
     "end_time": "2022-07-26T07:19:38.273050Z",
     "start_time": "2022-07-26T07:19:28.979376Z"
    }
   },
   "outputs": [
    {
     "name": "stdout",
     "output_type": "stream",
     "text": [
      "Top-10-Screenhotsgestartet, 5 angefordert.\n",
      "Vorhandender Ordner C:\\Users\\c_knoop\\Desktop\\BNN\\./screenshots/top_article/Sport_Lokal/                 mit allen Unterordnern gelöscht.\n",
      "Ordner ./screenshots/top_article/Sport_Lokal/ erfolgreich erstellt\n",
      "5 Screenshots Sport_Lokal erstellt.\n",
      "---------------------------------------------------\n",
      "\n",
      "Top-10-Screenshots nach 9.27             Sekunden abgeschlossen.\n"
     ]
    }
   ],
   "source": [
    "\n",
    "shot = ls.Screenshot(df, kunden_nr, seitentitel=\"Seitentitel\")\n",
    "shot.top_screenshots(5)"
   ]
  },
  {
   "cell_type": "code",
   "execution_count": 7,
   "id": "942edb55",
   "metadata": {
    "ExecuteTime": {
     "end_time": "2022-06-01T18:42:03.345607Z",
     "start_time": "2022-06-01T18:42:03.337575Z"
    }
   },
   "outputs": [
    {
     "data": {
      "text/plain": [
       "Index(['Artikel', 'Datum', 'Ressort', 'Seitentitel', 'Seite', 'LW', 'BW', 'DW',\n",
       "       'Handlungsorte', 'Akteure', 'Themen', 'Wortanzahl', 'Männer', 'Frauen',\n",
       "       'Wochentag', 'Layerlink', 'ArtikelId', 'AusgabeId', 'ErscheinungsId',\n",
       "       'Platzierungen', 'Beschreibung', 'Darstellungsformen', 'Ausgabenteil'],\n",
       "      dtype='object')"
      ]
     },
     "execution_count": 7,
     "metadata": {},
     "output_type": "execute_result"
    }
   ],
   "source": [
    "df.columns"
   ]
  },
  {
   "cell_type": "code",
   "execution_count": null,
   "id": "6e8ab323",
   "metadata": {},
   "outputs": [],
   "source": []
  },
  {
   "cell_type": "code",
   "execution_count": 26,
   "id": "973611db",
   "metadata": {
    "ExecuteTime": {
     "end_time": "2021-11-17T16:33:34.615130Z",
     "start_time": "2021-11-17T16:33:34.607190Z"
    }
   },
   "outputs": [],
   "source": [
    "df_[\"Ausgabenteil\"] = 1\n",
    "df_[\"Ressort\"] = \"Gesamt\"\n",
    "shot = ls.Screenshot(df_, 1021, seitentitel=\"Seite\")\n",
    "shot.top_screenshots(4)"
   ]
  },
  {
   "cell_type": "code",
   "execution_count": 27,
   "id": "b1b87744",
   "metadata": {
    "ExecuteTime": {
     "end_time": "2021-11-17T16:33:39.020385Z",
     "start_time": "2021-11-17T16:33:35.542068Z"
    }
   },
   "outputs": [
    {
     "name": "stdout",
     "output_type": "stream",
     "text": [
      "Top-10-Screenhotsgestartet, 4 angefordert.\n",
      "Ordner ./screenshots/top_article/Gesamt/ erfolgreich erstellt\n",
      "4 Screenshots Gesamt erstellt.\n",
      "---------------------------------------------------\n",
      "\n",
      "Top-10-Screenshots nach 3.47             Sekunden abgeschlossen.\n"
     ]
    }
   ],
   "source": [
    "shot = ls.Screenshot(df, 1021, seitentitel=\"Seite\")\n",
    "shot.top_screenshots(4)"
   ]
  },
  {
   "cell_type": "code",
   "execution_count": null,
   "id": "24a0ab33",
   "metadata": {},
   "outputs": [],
   "source": [
    "df"
   ]
  }
 ],
 "metadata": {
  "hide_input": false,
  "kernelspec": {
   "display_name": "Python 3 (ipykernel)",
   "language": "python",
   "name": "python3"
  },
  "language_info": {
   "codemirror_mode": {
    "name": "ipython",
    "version": 3
   },
   "file_extension": ".py",
   "mimetype": "text/x-python",
   "name": "python",
   "nbconvert_exporter": "python",
   "pygments_lexer": "ipython3",
   "version": "3.10.5"
  },
  "toc": {
   "base_numbering": 1,
   "nav_menu": {},
   "number_sections": true,
   "sideBar": true,
   "skip_h1_title": false,
   "title_cell": "Table of Contents",
   "title_sidebar": "Contents",
   "toc_cell": false,
   "toc_position": {},
   "toc_section_display": true,
   "toc_window_display": false
  },
  "varInspector": {
   "cols": {
    "lenName": 16,
    "lenType": 16,
    "lenVar": 40
   },
   "kernels_config": {
    "python": {
     "delete_cmd_postfix": "",
     "delete_cmd_prefix": "del ",
     "library": "var_list.py",
     "varRefreshCmd": "print(var_dic_list())"
    },
    "r": {
     "delete_cmd_postfix": ") ",
     "delete_cmd_prefix": "rm(",
     "library": "var_list.r",
     "varRefreshCmd": "cat(var_dic_list()) "
    }
   },
   "types_to_exclude": [
    "module",
    "function",
    "builtin_function_or_method",
    "instance",
    "_Feature"
   ],
   "window_display": false
  }
 },
 "nbformat": 4,
 "nbformat_minor": 5
}
