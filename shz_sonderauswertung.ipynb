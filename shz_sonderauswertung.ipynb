{
 "cells": [
  {
   "cell_type": "code",
   "execution_count": 2,
   "id": "f5f6e10f",
   "metadata": {
    "ExecuteTime": {
     "end_time": "2022-06-01T11:40:02.858032Z",
     "start_time": "2022-06-01T11:40:01.113500Z"
    }
   },
   "outputs": [],
   "source": [
    "import pandas as pd"
   ]
  },
  {
   "cell_type": "code",
   "execution_count": 14,
   "id": "218da234",
   "metadata": {
    "ExecuteTime": {
     "end_time": "2022-06-01T20:23:04.221584Z",
     "start_time": "2022-06-01T20:23:04.096539Z"
    }
   },
   "outputs": [],
   "source": [
    "#df = pd.read_clipboard(decimal=\",\")"
   ]
  },
  {
   "cell_type": "code",
   "execution_count": 15,
   "id": "f7339780",
   "metadata": {
    "ExecuteTime": {
     "end_time": "2022-06-01T20:23:10.851128Z",
     "start_time": "2022-06-01T20:23:10.826091Z"
    }
   },
   "outputs": [],
   "source": [
    "#df.to_pickle(\"mks_20220601.pkl\")"
   ]
  },
  {
   "cell_type": "code",
   "execution_count": 16,
   "id": "dd68ab75",
   "metadata": {
    "ExecuteTime": {
     "end_time": "2022-06-01T20:23:16.534878Z",
     "start_time": "2022-06-01T20:23:16.497651Z"
    }
   },
   "outputs": [],
   "source": [
    "df = pd.read_pickle(\"nichtkum_20220601.pkl\")"
   ]
  },
  {
   "cell_type": "code",
   "execution_count": 17,
   "id": "d3ac44aa",
   "metadata": {
    "ExecuteTime": {
     "end_time": "2022-06-01T20:23:19.294442Z",
     "start_time": "2022-06-01T20:23:19.179348Z"
    }
   },
   "outputs": [],
   "source": [
    "df_scans = pd.read_pickle(\"scans_20220601.pkl\")"
   ]
  },
  {
   "cell_type": "code",
   "execution_count": 18,
   "id": "daf1ae24",
   "metadata": {
    "ExecuteTime": {
     "end_time": "2022-06-01T20:23:41.241979Z",
     "start_time": "2022-06-01T20:23:41.230979Z"
    }
   },
   "outputs": [],
   "source": [
    "df_mks = pd.read_pickle(\"mks_20220601.pkl\")"
   ]
  },
  {
   "cell_type": "code",
   "execution_count": 21,
   "id": "b851532f",
   "metadata": {
    "ExecuteTime": {
     "end_time": "2022-06-01T20:24:06.300287Z",
     "start_time": "2022-06-01T20:24:06.289285Z"
    }
   },
   "outputs": [
    {
     "data": {
      "text/plain": [
       "Muss    705\n",
       "Kann    490\n",
       "Soll    394\n",
       "Name: Key, dtype: int64"
      ]
     },
     "execution_count": 21,
     "metadata": {},
     "output_type": "execute_result"
    }
   ],
   "source": [
    "df_mks.Key.value_counts()"
   ]
  },
  {
   "cell_type": "code",
   "execution_count": null,
   "id": "80c1866b",
   "metadata": {},
   "outputs": [],
   "source": []
  },
  {
   "cell_type": "code",
   "execution_count": null,
   "id": "eef06c67",
   "metadata": {},
   "outputs": [],
   "source": []
  },
  {
   "cell_type": "code",
   "execution_count": null,
   "id": "d9a24dac",
   "metadata": {},
   "outputs": [],
   "source": []
  },
  {
   "cell_type": "code",
   "execution_count": null,
   "id": "0ccfc0d9",
   "metadata": {},
   "outputs": [],
   "source": []
  },
  {
   "cell_type": "code",
   "execution_count": null,
   "id": "27d26dec",
   "metadata": {},
   "outputs": [],
   "source": []
  },
  {
   "cell_type": "code",
   "execution_count": null,
   "id": "ca5f82a1",
   "metadata": {},
   "outputs": [],
   "source": []
  },
  {
   "cell_type": "code",
   "execution_count": null,
   "id": "6372bd37",
   "metadata": {},
   "outputs": [],
   "source": []
  },
  {
   "cell_type": "raw",
   "id": "64d851da",
   "metadata": {
    "cell_style": "split"
   },
   "source": [
    "# "
   ]
  },
  {
   "cell_type": "markdown",
   "id": "e3a87595",
   "metadata": {},
   "source": [
    "# Sonderauswertung"
   ]
  },
  {
   "cell_type": "markdown",
   "id": "4a8710a0",
   "metadata": {
    "heading_collapsed": true
   },
   "source": [
    "## Artikel Ø pro TAg"
   ]
  },
  {
   "cell_type": "code",
   "execution_count": 6,
   "id": "8b72636f",
   "metadata": {
    "ExecuteTime": {
     "end_time": "2022-06-01T10:13:26.245018Z",
     "start_time": "2022-06-01T10:13:26.191022Z"
    },
    "hidden": true
   },
   "outputs": [
    {
     "name": "stdout",
     "output_type": "stream",
     "text": [
      "[71, 70, 78, 68, 108, 86, 93, 68, 69, 71, 91, 75, 76, 73, 105, 70, 85, 83, 80, 73, 70, 80, 81, 71, 86, 91, 84, 72, 103, 116, 117, 86, 91, 77, 99, 71, 71, 89, 87, 73, 85, 73, 109, 67, 72, 86]\n",
      "82.6086956521739\n",
      "Unit-Test: ArtikelId    82.608696\n",
      "dtype: float64.\n"
     ]
    }
   ],
   "source": [
    "def average_articles_per_day(df, date_col=\"Datum\"):\n",
    "    list_with_articlenumber = []\n",
    "    for day in df[date_col].unique():\n",
    "        df_ = df[df[date_col] == day]\n",
    "        list_with_articlenumber.append(df_.shape[0])\n",
    "    average = np.mean(list_with_articlenumber)\n",
    "    print(list_with_articlenumber)\n",
    "    return average\n",
    "\n",
    "\n",
    "print(average_articles_per_day(df))\n",
    "print(f'Unit-Test: {df.groupby(\"Datum\").agg({\"ArtikelId\":\"count\"}).mean()}.')"
   ]
  },
  {
   "cell_type": "markdown",
   "id": "e60938f5",
   "metadata": {},
   "source": [
    "## Beste Ausgabe"
   ]
  },
  {
   "cell_type": "code",
   "execution_count": 7,
   "id": "12632f6e",
   "metadata": {
    "ExecuteTime": {
     "end_time": "2022-06-01T10:15:34.674566Z",
     "start_time": "2022-06-01T10:15:34.623602Z"
    }
   },
   "outputs": [
    {
     "name": "stdout",
     "output_type": "stream",
     "text": [
      "Bester Tag: 14.04.2022, Wert: 24.17\n"
     ]
    }
   ],
   "source": [
    "def edition_with_highest_value(df, date_col=\"Datum\"):\n",
    "    start_val = 0\n",
    "    best_day = \"\"\n",
    "    all_dates = df[date_col].unique()\n",
    "    for date in all_dates:\n",
    "        mean_average = df[df[date_col] == date][\"LW\"].mean()\n",
    "        if mean_average > start_val:\n",
    "            start_val = mean_average\n",
    "            best_day = date\n",
    "    return best_day, start_val\n",
    "\n",
    "\n",
    "best_day, lesewert = edition_with_highest_value(df)\n",
    "print(f\"Bester Tag: {best_day}, Wert: {round(lesewert, 2)}\")"
   ]
  },
  {
   "cell_type": "code",
   "execution_count": null,
   "id": "7ef575b2",
   "metadata": {},
   "outputs": [],
   "source": []
  },
  {
   "cell_type": "markdown",
   "id": "8ef29c43",
   "metadata": {},
   "source": [
    "## Leser nach Uhrzeit"
   ]
  },
  {
   "cell_type": "code",
   "execution_count": 7,
   "id": "e8f482c3",
   "metadata": {
    "ExecuteTime": {
     "end_time": "2022-06-01T11:42:21.192606Z",
     "start_time": "2022-06-01T11:42:20.089535Z"
    }
   },
   "outputs": [
    {
     "name": "stderr",
     "output_type": "stream",
     "text": [
      "<ipython-input-7-221349b081a3>:26: FutureWarning: Dropping of nuisance columns in DataFrame reductions (with 'numeric_only=None') is deprecated; in a future version this will raise TypeError.  Select only valid columns before calling the reduction.\n",
      "  nn = new_df.mean()\n"
     ]
    }
   ],
   "source": [
    "df_scans[\"Stunde\"] = df_scans[\"Erfassungsuhrzeit\"].str[:2].astype(int)\n",
    "df_group = df_scans.groupby(\"Stunde\", as_index=False)\n",
    "\n",
    "all_hours = list(range(24))\n",
    "all_cols = all_hours.copy()\n",
    "all_cols.insert(0, \"Datum\")\n",
    "all_cols\n",
    "\n",
    "all_date = df_scans.Erscheinungsdatum.unique()\n",
    "\n",
    "from collections import defaultdict\n",
    "new_df = pd.DataFrame(columns=all_cols)\n",
    "\n",
    "for dat in all_date:\n",
    "    new_dict = defaultdict(int)\n",
    "    df_ = df_scans[df_scans[\"Erscheinungsdatum\"] == dat]\n",
    "    new_dict[\"Datum\"] = dat\n",
    "    for hour in all_hours:\n",
    "        df__ = df_[df_[\"Stunde\"] == hour].WellenteilnahmenId.nunique()\n",
    "        new_dict[hour] = df__\n",
    "\n",
    "    new_ser = pd.Series(new_dict)\n",
    "\n",
    "    new_df = new_df.append(new_ser, ignore_index=True)\n",
    "    \n",
    "nn = new_df.mean()\n",
    "df_fin = pd.DataFrame([nn]).transpose().reset_index()\n",
    "df_fin.columns = [\"Uhrzeit\", \"Leser\"]"
   ]
  },
  {
   "cell_type": "code",
   "execution_count": 13,
   "id": "4d076528",
   "metadata": {
    "ExecuteTime": {
     "end_time": "2022-06-01T11:48:52.139419Z",
     "start_time": "2022-06-01T11:48:52.128751Z"
    }
   },
   "outputs": [],
   "source": [
    "df_fin.to_clipboard(decimal=\",\")"
   ]
  },
  {
   "cell_type": "code",
   "execution_count": null,
   "id": "3010ed92",
   "metadata": {},
   "outputs": [],
   "source": []
  },
  {
   "cell_type": "code",
   "execution_count": null,
   "id": "3871f63a",
   "metadata": {},
   "outputs": [],
   "source": []
  },
  {
   "cell_type": "code",
   "execution_count": null,
   "id": "d7038a94",
   "metadata": {},
   "outputs": [],
   "source": []
  }
 ],
 "metadata": {
  "hide_input": false,
  "kernelspec": {
   "display_name": "Python 3 (ipykernel)",
   "language": "python",
   "name": "python3"
  },
  "language_info": {
   "codemirror_mode": {
    "name": "ipython",
    "version": 3
   },
   "file_extension": ".py",
   "mimetype": "text/x-python",
   "name": "python",
   "nbconvert_exporter": "python",
   "pygments_lexer": "ipython3",
   "version": "3.10.5"
  },
  "toc": {
   "base_numbering": 1,
   "nav_menu": {},
   "number_sections": true,
   "sideBar": true,
   "skip_h1_title": false,
   "title_cell": "Table of Contents",
   "title_sidebar": "Contents",
   "toc_cell": false,
   "toc_position": {},
   "toc_section_display": true,
   "toc_window_display": true
  },
  "varInspector": {
   "cols": {
    "lenName": 16,
    "lenType": 16,
    "lenVar": 40
   },
   "kernels_config": {
    "python": {
     "delete_cmd_postfix": "",
     "delete_cmd_prefix": "del ",
     "library": "var_list.py",
     "varRefreshCmd": "print(var_dic_list())"
    },
    "r": {
     "delete_cmd_postfix": ") ",
     "delete_cmd_prefix": "rm(",
     "library": "var_list.r",
     "varRefreshCmd": "cat(var_dic_list()) "
    }
   },
   "types_to_exclude": [
    "module",
    "function",
    "builtin_function_or_method",
    "instance",
    "_Feature"
   ],
   "window_display": false
  }
 },
 "nbformat": 4,
 "nbformat_minor": 5
}
