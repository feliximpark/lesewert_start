{
 "cells": [
  {
   "cell_type": "code",
   "execution_count": 134,
   "id": "ee5053f2",
   "metadata": {
    "ExecuteTime": {
     "end_time": "2021-09-10T15:36:34.358657Z",
     "start_time": "2021-09-10T15:36:34.354666Z"
    }
   },
   "outputs": [],
   "source": [
    "import pandas as pd\n",
    "\n",
    "from datetime import datetime, timedelta\n",
    "import pyodbc\n",
    "import pymssql"
   ]
  },
  {
   "cell_type": "code",
   "execution_count": 135,
   "id": "f311b6cc",
   "metadata": {
    "ExecuteTime": {
     "end_time": "2021-09-10T15:36:34.672015Z",
     "start_time": "2021-09-10T15:36:34.667004Z"
    }
   },
   "outputs": [],
   "source": [
    "server = 'tcp:lw-azuresql-1.database.windows.net'\n",
    "database = 'LesewertMandantenDB_SDZ'\n",
    "username = 'Mehrwertmacher'\n",
    "password = 'fW18ObHgb8qVhlQUsNpx'\n",
    "driver= '{ODBC Driver 17 for SQL Server}'"
   ]
  },
  {
   "cell_type": "markdown",
   "id": "3fe00f94",
   "metadata": {},
   "source": [
    "# Abfrge Geschlecht"
   ]
  },
  {
   "cell_type": "code",
   "execution_count": 26,
   "id": "44800d65",
   "metadata": {
    "ExecuteTime": {
     "end_time": "2021-07-22T09:51:10.470633Z",
     "start_time": "2021-07-22T09:51:10.464651Z"
    }
   },
   "outputs": [],
   "source": [
    "sql_kum = '''\n",
    "declare @Von DATE = '2021-04-12',\n",
    "@Bis DATE = '2021-06-05', \n",
    "@Wellestart INTEGER = 4, \n",
    "@Welleende INTEGER = 8, \n",
    "@Ausgabestart INTEGER = 1, \n",
    "@Ausgabeende INTEGER = 5;\n",
    "\n",
    "\n",
    "WITH complete AS (\n",
    "SELECT ts.TeilartikelId, ts.TeilartikelveroeffentlichungId\n",
    "FROM TeilartikelStatistiken ts\n",
    "JOIN vw_Artikellesewerte_Kumuliert_AktiveWellen_Vorberechnet kum\n",
    "ON kum.ArtikelId = ts.TeilartikelVeroeffentlichungId\n",
    "WHERE kum.Erscheinungsdatum BETWEEN @Von AND @Bis\n",
    "AND kum.Wellennummer BETWEEN @Wellestart AND @Welleende),\n",
    "\n",
    "\n",
    "male AS (\n",
    "SELECT Lesewert LW_m, Blickwert BW_m, Durchlesewert DW_m, TeilartikelId, TeilartikelVeroeffentlichungId\n",
    "FROM TeilartikelStatistiken \n",
    "WHERE Geschlecht = 'm'\n",
    "AND Kumuliert = 1), \n",
    "female AS (\n",
    "SELECT Lesewert LW_w, Blickwert BW_w, Durchlesewert DW_w, TeilartikelId, TeilartikelVeroeffentlichungId\n",
    "FROM TeilartikelStatistiken \n",
    "WHERE Geschlecht = 'w'\n",
    "AND Kumuliert = 1), \n",
    "\n",
    "\n",
    "age_40_59 AS (\n",
    "SELECT Lesewert LW_40bis59, Blickwert BW_40bis59, Durchlesewert DW_40bis59, TeilartikelId, TeilartikelVeroeffentlichungId\n",
    "FROM TeilartikelStatistiken\n",
    "WHERE AltersgruppenId = 3\n",
    "AND Kumuliert = 1), \n",
    "\n",
    "age_60_79 AS (\n",
    "SELECT Lesewert LW_60bis79, Blickwert BW_60bis79, Durchlesewert DW_60bis79, TeilartikelId, TeilartikelVeroeffentlichungId\n",
    "FROM TeilartikelStatistiken\n",
    "WHERE AltersgruppenId = 4\n",
    "AND Kumuliert = 1),\n",
    "platzierung AS (\n",
    "SELECT Platzierung, TeilartikelId, TeilartikelVeroeffentlichungId\n",
    "FROM TeilartikelStatistiken\n",
    "WHERE Kumuliert = 1\n",
    "AND Geschlecht IS NULL \n",
    "AND AltersgruppenId IS NULL\n",
    "AND OrtsgruppenId IS NULL\n",
    ")\n",
    "\n",
    "\n",
    "\n",
    "\n",
    "SELECT DISTINCT c.TeilartikelVeroeffentlichungId, c.TeilartikelId, p.Platzierung, f.LW_w, f.BW_w, f.DW_w, m.LW_m, m.BW_m, m.DW_m, \n",
    "age1.LW_40bis59, age1.BW_40bis59, age1.DW_40bis59, \n",
    "age2.LW_60bis79, age2.BW_60bis79, age2.DW_60bis79\n",
    "\n",
    "\n",
    "  \n",
    "FROM complete c\n",
    "LEFT JOIN male m\n",
    "ON c.TeilartikelVeroeffentlichungId = m.TeilartikelVeroeffentlichungId\n",
    "LEFT JOIN female f\n",
    "ON c.TeilartikelVeroeffentlichungId = f.TeilartikelVeroeffentlichungId\n",
    "\n",
    "LEFT JOIN age_40_59 age1\n",
    "ON c.TeilartikelVeroeffentlichungId = age1.TeilartikelVeroeffentlichungId\n",
    "LEFT JOIN age_60_79 age2\n",
    "ON c.TeilartikelVeroeffentlichungId = age2.TeilartikelVeroeffentlichungId\n",
    "\n",
    "LEFT JOIN platzierung p\n",
    "ON c.TeilartikelVeroeffentlichungId = p.TeilartikelVeroeffentlichungId\n",
    "ORDER BY c.TeilartikelVeroeffentlichungId\n",
    "\n",
    "\n",
    "\n",
    "'''"
   ]
  },
  {
   "cell_type": "code",
   "execution_count": 27,
   "id": "af0281e9",
   "metadata": {
    "ExecuteTime": {
     "end_time": "2021-07-22T09:51:24.823658Z",
     "start_time": "2021-07-22T09:51:13.229784Z"
    }
   },
   "outputs": [],
   "source": [
    "cnxn = pyodbc.connect('DRIVER='+driver+';SERVER='+server+';DATABASE='+database+';UID='+username+';PWD='+ password)\n",
    "cursor = cnxn.cursor()"
   ]
  },
  {
   "cell_type": "code",
   "execution_count": 28,
   "id": "900761c4",
   "metadata": {
    "ExecuteTime": {
     "end_time": "2021-07-22T09:53:28.080435Z",
     "start_time": "2021-07-22T09:51:24.851585Z"
    }
   },
   "outputs": [],
   "source": [
    "df_kum = pd.read_sql(sql_kum, cnxn)\n"
   ]
  },
  {
   "cell_type": "code",
   "execution_count": 21,
   "id": "f930fa0f",
   "metadata": {
    "ExecuteTime": {
     "end_time": "2021-07-22T09:49:49.621154Z",
     "start_time": "2021-07-22T09:49:48.643347Z"
    }
   },
   "outputs": [],
   "source": [
    "df_nichtkum.to_csv(\"./Daten/geschlecht_nichtkum.csv\", index=False, decimal=\",\")"
   ]
  },
  {
   "cell_type": "code",
   "execution_count": 29,
   "id": "e0ff3480",
   "metadata": {
    "ExecuteTime": {
     "end_time": "2021-07-22T09:53:28.119324Z",
     "start_time": "2021-07-22T09:53:28.095387Z"
    }
   },
   "outputs": [
    {
     "data": {
      "text/html": [
       "<div>\n",
       "<style scoped>\n",
       "    .dataframe tbody tr th:only-of-type {\n",
       "        vertical-align: middle;\n",
       "    }\n",
       "\n",
       "    .dataframe tbody tr th {\n",
       "        vertical-align: top;\n",
       "    }\n",
       "\n",
       "    .dataframe thead th {\n",
       "        text-align: right;\n",
       "    }\n",
       "</style>\n",
       "<table border=\"1\" class=\"dataframe\">\n",
       "  <thead>\n",
       "    <tr style=\"text-align: right;\">\n",
       "      <th></th>\n",
       "      <th>TeilartikelVeroeffentlichungId</th>\n",
       "      <th>TeilartikelId</th>\n",
       "      <th>Platzierung</th>\n",
       "      <th>LW_w</th>\n",
       "      <th>BW_w</th>\n",
       "      <th>DW_w</th>\n",
       "      <th>LW_m</th>\n",
       "      <th>BW_m</th>\n",
       "      <th>DW_m</th>\n",
       "      <th>LW_40bis59</th>\n",
       "      <th>BW_40bis59</th>\n",
       "      <th>DW_40bis59</th>\n",
       "      <th>LW_60bis79</th>\n",
       "      <th>BW_60bis79</th>\n",
       "      <th>DW_60bis79</th>\n",
       "    </tr>\n",
       "  </thead>\n",
       "  <tbody>\n",
       "    <tr>\n",
       "      <th>0</th>\n",
       "      <td>15904</td>\n",
       "      <td>4996</td>\n",
       "      <td>117</td>\n",
       "      <td>2.020906</td>\n",
       "      <td>2.857143</td>\n",
       "      <td>70.731709</td>\n",
       "      <td>1.850385</td>\n",
       "      <td>3.030303</td>\n",
       "      <td>61.062718</td>\n",
       "      <td>0.896700</td>\n",
       "      <td>2.941176</td>\n",
       "      <td>30.487804</td>\n",
       "      <td>1.382114</td>\n",
       "      <td>2.222222</td>\n",
       "      <td>62.195122</td>\n",
       "    </tr>\n",
       "    <tr>\n",
       "      <th>1</th>\n",
       "      <td>15905</td>\n",
       "      <td>4997</td>\n",
       "      <td>22</td>\n",
       "      <td>22.698380</td>\n",
       "      <td>32.592593</td>\n",
       "      <td>69.642758</td>\n",
       "      <td>28.291848</td>\n",
       "      <td>40.243902</td>\n",
       "      <td>70.300955</td>\n",
       "      <td>31.025763</td>\n",
       "      <td>42.857143</td>\n",
       "      <td>72.393447</td>\n",
       "      <td>23.609429</td>\n",
       "      <td>34.523810</td>\n",
       "      <td>68.385934</td>\n",
       "    </tr>\n",
       "    <tr>\n",
       "      <th>2</th>\n",
       "      <td>15907</td>\n",
       "      <td>5001</td>\n",
       "      <td>40</td>\n",
       "      <td>11.781824</td>\n",
       "      <td>19.259259</td>\n",
       "      <td>61.174854</td>\n",
       "      <td>23.250857</td>\n",
       "      <td>32.113821</td>\n",
       "      <td>72.401401</td>\n",
       "      <td>22.662862</td>\n",
       "      <td>30.952381</td>\n",
       "      <td>73.218477</td>\n",
       "      <td>17.461048</td>\n",
       "      <td>32.142857</td>\n",
       "      <td>54.323260</td>\n",
       "    </tr>\n",
       "    <tr>\n",
       "      <th>3</th>\n",
       "      <td>15909</td>\n",
       "      <td>5002</td>\n",
       "      <td>30</td>\n",
       "      <td>20.343800</td>\n",
       "      <td>25.892857</td>\n",
       "      <td>78.569160</td>\n",
       "      <td>23.315128</td>\n",
       "      <td>27.669903</td>\n",
       "      <td>84.261691</td>\n",
       "      <td>13.542252</td>\n",
       "      <td>20.000000</td>\n",
       "      <td>67.711258</td>\n",
       "      <td>18.521660</td>\n",
       "      <td>24.657534</td>\n",
       "      <td>75.115620</td>\n",
       "    </tr>\n",
       "    <tr>\n",
       "      <th>4</th>\n",
       "      <td>15910</td>\n",
       "      <td>5000</td>\n",
       "      <td>55</td>\n",
       "      <td>16.888311</td>\n",
       "      <td>28.148148</td>\n",
       "      <td>59.997948</td>\n",
       "      <td>11.362304</td>\n",
       "      <td>17.479675</td>\n",
       "      <td>65.002946</td>\n",
       "      <td>33.922770</td>\n",
       "      <td>47.619048</td>\n",
       "      <td>71.237816</td>\n",
       "      <td>8.368143</td>\n",
       "      <td>15.476190</td>\n",
       "      <td>54.071076</td>\n",
       "    </tr>\n",
       "    <tr>\n",
       "      <th>...</th>\n",
       "      <td>...</td>\n",
       "      <td>...</td>\n",
       "      <td>...</td>\n",
       "      <td>...</td>\n",
       "      <td>...</td>\n",
       "      <td>...</td>\n",
       "      <td>...</td>\n",
       "      <td>...</td>\n",
       "      <td>...</td>\n",
       "      <td>...</td>\n",
       "      <td>...</td>\n",
       "      <td>...</td>\n",
       "      <td>...</td>\n",
       "      <td>...</td>\n",
       "      <td>...</td>\n",
       "    </tr>\n",
       "    <tr>\n",
       "      <th>40190</th>\n",
       "      <td>61520</td>\n",
       "      <td>19307</td>\n",
       "      <td>193</td>\n",
       "      <td>1.378246</td>\n",
       "      <td>1.388889</td>\n",
       "      <td>99.233719</td>\n",
       "      <td>0.799169</td>\n",
       "      <td>6.153846</td>\n",
       "      <td>12.986490</td>\n",
       "      <td>NaN</td>\n",
       "      <td>NaN</td>\n",
       "      <td>NaN</td>\n",
       "      <td>0.019620</td>\n",
       "      <td>5.405405</td>\n",
       "      <td>0.362976</td>\n",
       "    </tr>\n",
       "    <tr>\n",
       "      <th>40191</th>\n",
       "      <td>61521</td>\n",
       "      <td>19309</td>\n",
       "      <td>198</td>\n",
       "      <td>NaN</td>\n",
       "      <td>NaN</td>\n",
       "      <td>NaN</td>\n",
       "      <td>1.292884</td>\n",
       "      <td>4.615385</td>\n",
       "      <td>28.012482</td>\n",
       "      <td>NaN</td>\n",
       "      <td>NaN</td>\n",
       "      <td>NaN</td>\n",
       "      <td>2.662480</td>\n",
       "      <td>2.702703</td>\n",
       "      <td>98.511765</td>\n",
       "    </tr>\n",
       "    <tr>\n",
       "      <th>40192</th>\n",
       "      <td>61522</td>\n",
       "      <td>19276</td>\n",
       "      <td>128</td>\n",
       "      <td>7.907650</td>\n",
       "      <td>18.055556</td>\n",
       "      <td>43.796218</td>\n",
       "      <td>7.943694</td>\n",
       "      <td>10.769231</td>\n",
       "      <td>73.762869</td>\n",
       "      <td>0.973703</td>\n",
       "      <td>18.181818</td>\n",
       "      <td>5.355364</td>\n",
       "      <td>11.992963</td>\n",
       "      <td>18.918919</td>\n",
       "      <td>63.391375</td>\n",
       "    </tr>\n",
       "    <tr>\n",
       "      <th>40193</th>\n",
       "      <td>61523</td>\n",
       "      <td>19298</td>\n",
       "      <td>158</td>\n",
       "      <td>5.137060</td>\n",
       "      <td>9.722222</td>\n",
       "      <td>52.838335</td>\n",
       "      <td>4.035573</td>\n",
       "      <td>6.153846</td>\n",
       "      <td>65.578065</td>\n",
       "      <td>5.738078</td>\n",
       "      <td>9.090909</td>\n",
       "      <td>63.118858</td>\n",
       "      <td>6.993049</td>\n",
       "      <td>8.108108</td>\n",
       "      <td>86.247604</td>\n",
       "    </tr>\n",
       "    <tr>\n",
       "      <th>40194</th>\n",
       "      <td>61524</td>\n",
       "      <td>19304</td>\n",
       "      <td>150</td>\n",
       "      <td>7.324163</td>\n",
       "      <td>9.722222</td>\n",
       "      <td>75.334249</td>\n",
       "      <td>3.801035</td>\n",
       "      <td>5.384615</td>\n",
       "      <td>70.590659</td>\n",
       "      <td>3.132284</td>\n",
       "      <td>9.090909</td>\n",
       "      <td>34.455128</td>\n",
       "      <td>7.948718</td>\n",
       "      <td>8.108108</td>\n",
       "      <td>98.034187</td>\n",
       "    </tr>\n",
       "  </tbody>\n",
       "</table>\n",
       "<p>40195 rows × 15 columns</p>\n",
       "</div>"
      ],
      "text/plain": [
       "       TeilartikelVeroeffentlichungId  TeilartikelId  Platzierung       LW_w  \\\n",
       "0                               15904           4996          117   2.020906   \n",
       "1                               15905           4997           22  22.698380   \n",
       "2                               15907           5001           40  11.781824   \n",
       "3                               15909           5002           30  20.343800   \n",
       "4                               15910           5000           55  16.888311   \n",
       "...                               ...            ...          ...        ...   \n",
       "40190                           61520          19307          193   1.378246   \n",
       "40191                           61521          19309          198        NaN   \n",
       "40192                           61522          19276          128   7.907650   \n",
       "40193                           61523          19298          158   5.137060   \n",
       "40194                           61524          19304          150   7.324163   \n",
       "\n",
       "            BW_w       DW_w       LW_m       BW_m       DW_m  LW_40bis59  \\\n",
       "0       2.857143  70.731709   1.850385   3.030303  61.062718    0.896700   \n",
       "1      32.592593  69.642758  28.291848  40.243902  70.300955   31.025763   \n",
       "2      19.259259  61.174854  23.250857  32.113821  72.401401   22.662862   \n",
       "3      25.892857  78.569160  23.315128  27.669903  84.261691   13.542252   \n",
       "4      28.148148  59.997948  11.362304  17.479675  65.002946   33.922770   \n",
       "...          ...        ...        ...        ...        ...         ...   \n",
       "40190   1.388889  99.233719   0.799169   6.153846  12.986490         NaN   \n",
       "40191        NaN        NaN   1.292884   4.615385  28.012482         NaN   \n",
       "40192  18.055556  43.796218   7.943694  10.769231  73.762869    0.973703   \n",
       "40193   9.722222  52.838335   4.035573   6.153846  65.578065    5.738078   \n",
       "40194   9.722222  75.334249   3.801035   5.384615  70.590659    3.132284   \n",
       "\n",
       "       BW_40bis59  DW_40bis59  LW_60bis79  BW_60bis79  DW_60bis79  \n",
       "0        2.941176   30.487804    1.382114    2.222222   62.195122  \n",
       "1       42.857143   72.393447   23.609429   34.523810   68.385934  \n",
       "2       30.952381   73.218477   17.461048   32.142857   54.323260  \n",
       "3       20.000000   67.711258   18.521660   24.657534   75.115620  \n",
       "4       47.619048   71.237816    8.368143   15.476190   54.071076  \n",
       "...           ...         ...         ...         ...         ...  \n",
       "40190         NaN         NaN    0.019620    5.405405    0.362976  \n",
       "40191         NaN         NaN    2.662480    2.702703   98.511765  \n",
       "40192   18.181818    5.355364   11.992963   18.918919   63.391375  \n",
       "40193    9.090909   63.118858    6.993049    8.108108   86.247604  \n",
       "40194    9.090909   34.455128    7.948718    8.108108   98.034187  \n",
       "\n",
       "[40195 rows x 15 columns]"
      ]
     },
     "execution_count": 29,
     "metadata": {},
     "output_type": "execute_result"
    }
   ],
   "source": [
    "df_kum"
   ]
  },
  {
   "cell_type": "code",
   "execution_count": 30,
   "id": "30750d22",
   "metadata": {
    "ExecuteTime": {
     "end_time": "2021-07-22T09:59:00.160042Z",
     "start_time": "2021-07-22T09:58:59.138475Z"
    }
   },
   "outputs": [],
   "source": [
    "df_kum.to_csv(\"./Daten/geschlecht_kum.csv\", index=False, decimal=\",\")"
   ]
  },
  {
   "cell_type": "code",
   "execution_count": null,
   "id": "90383388",
   "metadata": {},
   "outputs": [],
   "source": []
  },
  {
   "cell_type": "markdown",
   "id": "4ff9f38f",
   "metadata": {},
   "source": [
    "# Abfrage nach Wochenendleser vs. Wochenleser"
   ]
  },
  {
   "cell_type": "code",
   "execution_count": null,
   "id": "e0d38ac1",
   "metadata": {},
   "outputs": [],
   "source": []
  },
  {
   "cell_type": "code",
   "execution_count": null,
   "id": "c4241855",
   "metadata": {},
   "outputs": [],
   "source": []
  },
  {
   "cell_type": "code",
   "execution_count": null,
   "id": "0a5f0731",
   "metadata": {},
   "outputs": [],
   "source": []
  },
  {
   "cell_type": "code",
   "execution_count": null,
   "id": "9ae76ee6",
   "metadata": {},
   "outputs": [],
   "source": []
  },
  {
   "cell_type": "markdown",
   "id": "d9510712",
   "metadata": {},
   "source": [
    "# Abfrage Kumulierte Texte mit NB "
   ]
  },
  {
   "cell_type": "code",
   "execution_count": 6,
   "id": "8dc62ffa",
   "metadata": {
    "ExecuteTime": {
     "end_time": "2021-08-30T19:35:09.654150Z",
     "start_time": "2021-08-30T19:35:09.648203Z"
    }
   },
   "outputs": [],
   "source": [
    "sql_kum = '''\n",
    "declare @Von DATE = '2021-04-12',\n",
    "@Bis DATE = '2021-06-05', \n",
    "@Wellestart INTEGER = 4, \n",
    "@Welleende INTEGER = 8, \n",
    "@Ausgabestart INTEGER = 1, \n",
    "@Ausgabeende INTEGER = 5;\n",
    "\n",
    "\n",
    "\n",
    "SELECT * \n",
    "FROM vw_Artikellesewerte_Kumuliert_AktiveWellen_Vorberechnet kum\n",
    "WHERE kum.Erscheinungsdatum BETWEEN @Von AND @Bis\n",
    "AND kum.Wellennummer BETWEEN @Wellestart AND @Welleende\n",
    "\n",
    "'''"
   ]
  },
  {
   "cell_type": "code",
   "execution_count": 7,
   "id": "e033439a",
   "metadata": {
    "ExecuteTime": {
     "end_time": "2021-08-30T19:35:10.928300Z",
     "start_time": "2021-08-30T19:35:10.349855Z"
    }
   },
   "outputs": [],
   "source": [
    "cnxn = pyodbc.connect('DRIVER='+driver+';SERVER='+server+';DATABASE='+database+';UID='+username+';PWD='+ password)\n",
    "cursor = cnxn.cursor()"
   ]
  },
  {
   "cell_type": "code",
   "execution_count": 8,
   "id": "4bc850ee",
   "metadata": {
    "ExecuteTime": {
     "end_time": "2021-08-30T19:36:20.911875Z",
     "start_time": "2021-08-30T19:35:10.956226Z"
    }
   },
   "outputs": [],
   "source": [
    "df_kum = pd.read_sql(sql_kum, cnxn)"
   ]
  },
  {
   "cell_type": "code",
   "execution_count": 9,
   "id": "e7226ec1",
   "metadata": {
    "ExecuteTime": {
     "end_time": "2021-08-30T19:37:21.142911Z",
     "start_time": "2021-08-30T19:37:20.061560Z"
    }
   },
   "outputs": [],
   "source": [
    "df_kum.to_csv(\"kum_mit_nb.csv\", index=False)"
   ]
  },
  {
   "cell_type": "code",
   "execution_count": null,
   "id": "2e63b1fb",
   "metadata": {},
   "outputs": [],
   "source": []
  },
  {
   "cell_type": "markdown",
   "id": "81985a36",
   "metadata": {},
   "source": [
    "# Alle Artikeltexte"
   ]
  },
  {
   "cell_type": "code",
   "execution_count": 11,
   "id": "0355846b",
   "metadata": {
    "ExecuteTime": {
     "end_time": "2021-08-30T19:39:56.248701Z",
     "start_time": "2021-08-30T19:39:56.241723Z"
    }
   },
   "outputs": [],
   "source": [
    "sql_all = '''\n",
    "declare @Von DATE = '2021-04-12',\n",
    "@Bis DATE = '2021-06-05', \n",
    "@Wellestart INTEGER = 4, \n",
    "@Welleende INTEGER = 8, \n",
    "@Ausgabestart INTEGER = 1, \n",
    "@Ausgabeende INTEGER = 5;\n",
    "\n",
    "\n",
    "\n",
    "SELECT * \n",
    "FROM Teilartikelinhalte te\n",
    "\n",
    "'''"
   ]
  },
  {
   "cell_type": "code",
   "execution_count": 12,
   "id": "2f508bb5",
   "metadata": {
    "ExecuteTime": {
     "end_time": "2021-08-30T19:39:57.295005Z",
     "start_time": "2021-08-30T19:39:56.606748Z"
    }
   },
   "outputs": [],
   "source": [
    "cnxn = pyodbc.connect('DRIVER='+driver+';SERVER='+server+';DATABASE='+database+';UID='+username+';PWD='+ password)\n",
    "cursor = cnxn.cursor()"
   ]
  },
  {
   "cell_type": "code",
   "execution_count": 13,
   "id": "5d951774",
   "metadata": {
    "ExecuteTime": {
     "end_time": "2021-08-30T19:41:08.191064Z",
     "start_time": "2021-08-30T19:39:57.501677Z"
    }
   },
   "outputs": [],
   "source": [
    "df_all = pd.read_sql(sql_all, cnxn)"
   ]
  },
  {
   "cell_type": "code",
   "execution_count": 14,
   "id": "70261239",
   "metadata": {
    "ExecuteTime": {
     "end_time": "2021-08-30T19:45:42.812496Z",
     "start_time": "2021-08-30T19:45:42.789556Z"
    }
   },
   "outputs": [
    {
     "data": {
      "text/plain": [
       "(19658, 14)"
      ]
     },
     "execution_count": 14,
     "metadata": {},
     "output_type": "execute_result"
    }
   ],
   "source": [
    "df_all.shape"
   ]
  },
  {
   "cell_type": "code",
   "execution_count": 15,
   "id": "6fc4b1bb",
   "metadata": {
    "ExecuteTime": {
     "end_time": "2021-08-30T19:45:45.422326Z",
     "start_time": "2021-08-30T19:45:45.372422Z"
    }
   },
   "outputs": [
    {
     "data": {
      "text/html": [
       "<div>\n",
       "<style scoped>\n",
       "    .dataframe tbody tr th:only-of-type {\n",
       "        vertical-align: middle;\n",
       "    }\n",
       "\n",
       "    .dataframe tbody tr th {\n",
       "        vertical-align: top;\n",
       "    }\n",
       "\n",
       "    .dataframe thead th {\n",
       "        text-align: right;\n",
       "    }\n",
       "</style>\n",
       "<table border=\"1\" class=\"dataframe\">\n",
       "  <thead>\n",
       "    <tr style=\"text-align: right;\">\n",
       "      <th></th>\n",
       "      <th>Id</th>\n",
       "      <th>TeilartikelId</th>\n",
       "      <th>Dachzeilentext</th>\n",
       "      <th>Ueberschrifttext</th>\n",
       "      <th>Untertiteltext</th>\n",
       "      <th>Artikeltext</th>\n",
       "      <th>ArtikeltextHtml</th>\n",
       "      <th>Vorspanntext</th>\n",
       "      <th>Unterschrifttext</th>\n",
       "      <th>Bildunterschrifttext</th>\n",
       "      <th>Importdatum</th>\n",
       "      <th>VersionId</th>\n",
       "      <th>RowVersion</th>\n",
       "      <th>Wortanzahl</th>\n",
       "    </tr>\n",
       "  </thead>\n",
       "  <tbody>\n",
       "    <tr>\n",
       "      <th>0</th>\n",
       "      <td>1</td>\n",
       "      <td>1</td>\n",
       "      <td></td>\n",
       "      <td>Gewinnzahlen</td>\n",
       "      <td></td>\n",
       "      <td>Gewinnzahlen vom Wochenende\\r\\nLotto (20.03.):...</td>\n",
       "      <td></td>\n",
       "      <td></td>\n",
       "      <td></td>\n",
       "      <td></td>\n",
       "      <td>2021-03-22 13:59:51.917</td>\n",
       "      <td>None</td>\n",
       "      <td>b'\\x00\\x00\\x00\\x00\\x00\\x00\\xbf\\x12'</td>\n",
       "      <td>None</td>\n",
       "    </tr>\n",
       "    <tr>\n",
       "      <th>1</th>\n",
       "      <td>2</td>\n",
       "      <td>3</td>\n",
       "      <td></td>\n",
       "      <td>Glühende Bäche</td>\n",
       "      <td></td>\n",
       "      <td>Ein Hubschrauber überfliegt am Samstag den Fag...</td>\n",
       "      <td></td>\n",
       "      <td></td>\n",
       "      <td></td>\n",
       "      <td></td>\n",
       "      <td>2021-03-22 14:04:29.337</td>\n",
       "      <td>None</td>\n",
       "      <td>b'\\x00\\x00\\x00\\x00\\x00\\x00\\xcfA'</td>\n",
       "      <td>None</td>\n",
       "    </tr>\n",
       "    <tr>\n",
       "      <th>2</th>\n",
       "      <td>3</td>\n",
       "      <td>4</td>\n",
       "      <td></td>\n",
       "      <td>Türkei schwächt den Schutz von Frauen</td>\n",
       "      <td>Präsident Erdoğan tritt aus der Istanbul-Konve...</td>\n",
       "      <td>Istanbul – Mit dem Austritt aus der Istanbul-K...</td>\n",
       "      <td></td>\n",
       "      <td></td>\n",
       "      <td></td>\n",
       "      <td></td>\n",
       "      <td>2021-03-22 14:04:30.353</td>\n",
       "      <td>None</td>\n",
       "      <td>b'\\x00\\x00\\x00\\x00\\x00\\x00\\xcfX'</td>\n",
       "      <td>None</td>\n",
       "    </tr>\n",
       "    <tr>\n",
       "      <th>3</th>\n",
       "      <td>4</td>\n",
       "      <td>2</td>\n",
       "      <td></td>\n",
       "      <td>HEUTE</td>\n",
       "      <td></td>\n",
       "      <td>Meinung\\r\\nDie Bundesregierung verpasst\\r\\nein...</td>\n",
       "      <td></td>\n",
       "      <td></td>\n",
       "      <td></td>\n",
       "      <td>Foto: Hector Vivas/Getty</td>\n",
       "      <td>2021-03-22 14:04:24.517</td>\n",
       "      <td>None</td>\n",
       "      <td>b'\\x00\\x00\\x00\\x00\\x00\\x00\\xce\\xaf'</td>\n",
       "      <td>None</td>\n",
       "    </tr>\n",
       "    <tr>\n",
       "      <th>4</th>\n",
       "      <td>5</td>\n",
       "      <td>5</td>\n",
       "      <td></td>\n",
       "      <td>SZ App</td>\n",
       "      <td></td>\n",
       "      <td>Die SZ gibt es als App\\r\\nfür Tablet und Smart...</td>\n",
       "      <td></td>\n",
       "      <td></td>\n",
       "      <td></td>\n",
       "      <td></td>\n",
       "      <td>2021-03-22 14:04:25.620</td>\n",
       "      <td>None</td>\n",
       "      <td>b'\\x00\\x00\\x00\\x00\\x00\\x00\\xce\\xd2'</td>\n",
       "      <td>None</td>\n",
       "    </tr>\n",
       "    <tr>\n",
       "      <th>...</th>\n",
       "      <td>...</td>\n",
       "      <td>...</td>\n",
       "      <td>...</td>\n",
       "      <td>...</td>\n",
       "      <td>...</td>\n",
       "      <td>...</td>\n",
       "      <td>...</td>\n",
       "      <td>...</td>\n",
       "      <td>...</td>\n",
       "      <td>...</td>\n",
       "      <td>...</td>\n",
       "      <td>...</td>\n",
       "      <td>...</td>\n",
       "      <td>...</td>\n",
       "    </tr>\n",
       "    <tr>\n",
       "      <th>19653</th>\n",
       "      <td>19683</td>\n",
       "      <td>19668</td>\n",
       "      <td></td>\n",
       "      <td>ohne_Titel</td>\n",
       "      <td></td>\n",
       "      <td>Leserbriefe stellen keine redaktionelle Meinun...</td>\n",
       "      <td></td>\n",
       "      <td></td>\n",
       "      <td></td>\n",
       "      <td></td>\n",
       "      <td>2021-06-07 03:04:08.390</td>\n",
       "      <td>None</td>\n",
       "      <td>b\"\\x00\\x00\\x00\\x00\\x00\\xdcW'\"</td>\n",
       "      <td>None</td>\n",
       "    </tr>\n",
       "    <tr>\n",
       "      <th>19654</th>\n",
       "      <td>19684</td>\n",
       "      <td>19669</td>\n",
       "      <td></td>\n",
       "      <td>Motorradfahrer von Auto erfasst</td>\n",
       "      <td></td>\n",
       "      <td>Gauting – Ein 29-jähriger Motorradfahrer aus M...</td>\n",
       "      <td></td>\n",
       "      <td></td>\n",
       "      <td></td>\n",
       "      <td></td>\n",
       "      <td>2021-06-07 03:04:08.423</td>\n",
       "      <td>None</td>\n",
       "      <td>b'\\x00\\x00\\x00\\x00\\x00\\xdcW*'</td>\n",
       "      <td>None</td>\n",
       "    </tr>\n",
       "    <tr>\n",
       "      <th>19655</th>\n",
       "      <td>19685</td>\n",
       "      <td>19670</td>\n",
       "      <td></td>\n",
       "      <td>Mörderisches Puzzle</td>\n",
       "      <td>Die Gautinger Autorin Anna Schneider ist mit d...</td>\n",
       "      <td>Gauting – Alexa Jahn hat ihren Dienst in der K...</td>\n",
       "      <td></td>\n",
       "      <td></td>\n",
       "      <td></td>\n",
       "      <td>Der zweite Fall ist schon fertig, der dritte i...</td>\n",
       "      <td>2021-06-07 03:04:08.487</td>\n",
       "      <td>None</td>\n",
       "      <td>b'\\x00\\x00\\x00\\x00\\x00\\xdcW,'</td>\n",
       "      <td>None</td>\n",
       "    </tr>\n",
       "    <tr>\n",
       "      <th>19656</th>\n",
       "      <td>19686</td>\n",
       "      <td>19671</td>\n",
       "      <td></td>\n",
       "      <td>LESERBRIEFE</td>\n",
       "      <td></td>\n",
       "      <td></td>\n",
       "      <td></td>\n",
       "      <td></td>\n",
       "      <td></td>\n",
       "      <td></td>\n",
       "      <td>2021-06-07 03:04:08.590</td>\n",
       "      <td>None</td>\n",
       "      <td>b'\\x00\\x00\\x00\\x00\\x00\\xdcW8'</td>\n",
       "      <td>None</td>\n",
       "    </tr>\n",
       "    <tr>\n",
       "      <th>19657</th>\n",
       "      <td>19687</td>\n",
       "      <td>19672</td>\n",
       "      <td>KLINIK–NEUBAU IN SEEFELD</td>\n",
       "      <td>Schlechtes Gewissen</td>\n",
       "      <td></td>\n",
       "      <td>Zur Berichterstattung über den geplanten Klini...</td>\n",
       "      <td></td>\n",
       "      <td></td>\n",
       "      <td></td>\n",
       "      <td></td>\n",
       "      <td>2021-06-07 03:04:08.620</td>\n",
       "      <td>None</td>\n",
       "      <td>b'\\x00\\x00\\x00\\x00\\x00\\xdcW;'</td>\n",
       "      <td>None</td>\n",
       "    </tr>\n",
       "  </tbody>\n",
       "</table>\n",
       "<p>19658 rows × 14 columns</p>\n",
       "</div>"
      ],
      "text/plain": [
       "          Id  TeilartikelId            Dachzeilentext  \\\n",
       "0          1              1                             \n",
       "1          2              3                             \n",
       "2          3              4                             \n",
       "3          4              2                             \n",
       "4          5              5                             \n",
       "...      ...            ...                       ...   \n",
       "19653  19683          19668                             \n",
       "19654  19684          19669                             \n",
       "19655  19685          19670                             \n",
       "19656  19686          19671                             \n",
       "19657  19687          19672  KLINIK–NEUBAU IN SEEFELD   \n",
       "\n",
       "                            Ueberschrifttext  \\\n",
       "0                               Gewinnzahlen   \n",
       "1                             Glühende Bäche   \n",
       "2      Türkei schwächt den Schutz von Frauen   \n",
       "3                                      HEUTE   \n",
       "4                                     SZ App   \n",
       "...                                      ...   \n",
       "19653                             ohne_Titel   \n",
       "19654        Motorradfahrer von Auto erfasst   \n",
       "19655                    Mörderisches Puzzle   \n",
       "19656                            LESERBRIEFE   \n",
       "19657                    Schlechtes Gewissen   \n",
       "\n",
       "                                          Untertiteltext  \\\n",
       "0                                                          \n",
       "1                                                          \n",
       "2      Präsident Erdoğan tritt aus der Istanbul-Konve...   \n",
       "3                                                          \n",
       "4                                                          \n",
       "...                                                  ...   \n",
       "19653                                                      \n",
       "19654                                                      \n",
       "19655  Die Gautinger Autorin Anna Schneider ist mit d...   \n",
       "19656                                                      \n",
       "19657                                                      \n",
       "\n",
       "                                             Artikeltext ArtikeltextHtml  \\\n",
       "0      Gewinnzahlen vom Wochenende\\r\\nLotto (20.03.):...                   \n",
       "1      Ein Hubschrauber überfliegt am Samstag den Fag...                   \n",
       "2      Istanbul – Mit dem Austritt aus der Istanbul-K...                   \n",
       "3      Meinung\\r\\nDie Bundesregierung verpasst\\r\\nein...                   \n",
       "4      Die SZ gibt es als App\\r\\nfür Tablet und Smart...                   \n",
       "...                                                  ...             ...   \n",
       "19653  Leserbriefe stellen keine redaktionelle Meinun...                   \n",
       "19654  Gauting – Ein 29-jähriger Motorradfahrer aus M...                   \n",
       "19655  Gauting – Alexa Jahn hat ihren Dienst in der K...                   \n",
       "19656                                                                      \n",
       "19657  Zur Berichterstattung über den geplanten Klini...                   \n",
       "\n",
       "      Vorspanntext Unterschrifttext  \\\n",
       "0                                     \n",
       "1                                     \n",
       "2                                     \n",
       "3                                     \n",
       "4                                     \n",
       "...            ...              ...   \n",
       "19653                                 \n",
       "19654                                 \n",
       "19655                                 \n",
       "19656                                 \n",
       "19657                                 \n",
       "\n",
       "                                    Bildunterschrifttext  \\\n",
       "0                                                          \n",
       "1                                                          \n",
       "2                                                          \n",
       "3                               Foto: Hector Vivas/Getty   \n",
       "4                                                          \n",
       "...                                                  ...   \n",
       "19653                                                      \n",
       "19654                                                      \n",
       "19655  Der zweite Fall ist schon fertig, der dritte i...   \n",
       "19656                                                      \n",
       "19657                                                      \n",
       "\n",
       "                  Importdatum VersionId                           RowVersion  \\\n",
       "0     2021-03-22 13:59:51.917      None  b'\\x00\\x00\\x00\\x00\\x00\\x00\\xbf\\x12'   \n",
       "1     2021-03-22 14:04:29.337      None     b'\\x00\\x00\\x00\\x00\\x00\\x00\\xcfA'   \n",
       "2     2021-03-22 14:04:30.353      None     b'\\x00\\x00\\x00\\x00\\x00\\x00\\xcfX'   \n",
       "3     2021-03-22 14:04:24.517      None  b'\\x00\\x00\\x00\\x00\\x00\\x00\\xce\\xaf'   \n",
       "4     2021-03-22 14:04:25.620      None  b'\\x00\\x00\\x00\\x00\\x00\\x00\\xce\\xd2'   \n",
       "...                       ...       ...                                  ...   \n",
       "19653 2021-06-07 03:04:08.390      None        b\"\\x00\\x00\\x00\\x00\\x00\\xdcW'\"   \n",
       "19654 2021-06-07 03:04:08.423      None        b'\\x00\\x00\\x00\\x00\\x00\\xdcW*'   \n",
       "19655 2021-06-07 03:04:08.487      None        b'\\x00\\x00\\x00\\x00\\x00\\xdcW,'   \n",
       "19656 2021-06-07 03:04:08.590      None        b'\\x00\\x00\\x00\\x00\\x00\\xdcW8'   \n",
       "19657 2021-06-07 03:04:08.620      None        b'\\x00\\x00\\x00\\x00\\x00\\xdcW;'   \n",
       "\n",
       "      Wortanzahl  \n",
       "0           None  \n",
       "1           None  \n",
       "2           None  \n",
       "3           None  \n",
       "4           None  \n",
       "...          ...  \n",
       "19653       None  \n",
       "19654       None  \n",
       "19655       None  \n",
       "19656       None  \n",
       "19657       None  \n",
       "\n",
       "[19658 rows x 14 columns]"
      ]
     },
     "execution_count": 15,
     "metadata": {},
     "output_type": "execute_result"
    }
   ],
   "source": [
    "df_all"
   ]
  },
  {
   "cell_type": "markdown",
   "id": "2a8e0155",
   "metadata": {},
   "source": [
    "# Nichtkum-Artikel "
   ]
  },
  {
   "cell_type": "code",
   "execution_count": 9,
   "id": "d7fb9cb5",
   "metadata": {
    "ExecuteTime": {
     "end_time": "2021-09-10T12:43:12.362935Z",
     "start_time": "2021-09-10T12:43:12.358945Z"
    }
   },
   "outputs": [],
   "source": [
    "sql_nichtkum = '''\n",
    "declare @Von DATE = '2021-04-12',\n",
    "@Bis DATE = '2021-06-05', \n",
    "@Wellestart INTEGER = 4, \n",
    "@Welleende INTEGER = 8, \n",
    "@Ausgabestart INTEGER = 1, \n",
    "@Ausgabeende INTEGER = 5;\n",
    "\n",
    "\n",
    "\n",
    "SELECT * \n",
    "FROM vw_Artikellesewerte_Kumuliert_AktiveWellen_Vorberechnet kum\n",
    "WHERE kum.Erscheinungsdatum BETWEEN @Von AND @Bis\n",
    "AND kum.Wellennummer BETWEEN @Wellestart AND @Welleende\n",
    "\n",
    "'''"
   ]
  },
  {
   "cell_type": "code",
   "execution_count": null,
   "id": "deab18b7",
   "metadata": {},
   "outputs": [],
   "source": []
  },
  {
   "cell_type": "code",
   "execution_count": 10,
   "id": "a555a244",
   "metadata": {
    "ExecuteTime": {
     "end_time": "2021-09-10T12:43:14.194426Z",
     "start_time": "2021-09-10T12:43:13.109018Z"
    }
   },
   "outputs": [],
   "source": [
    "cnxn = pyodbc.connect('DRIVER='+driver+';SERVER='+server+';DATABASE='+database+';UID='+username+';PWD='+ password)\n",
    "cursor = cnxn.cursor()"
   ]
  },
  {
   "cell_type": "code",
   "execution_count": 11,
   "id": "32599d8a",
   "metadata": {
    "ExecuteTime": {
     "end_time": "2021-09-10T12:44:10.132649Z",
     "start_time": "2021-09-10T12:43:14.789966Z"
    }
   },
   "outputs": [],
   "source": [
    "df_nichtkum = pd.read_sql(sql_nichtkum, cnxn)"
   ]
  },
  {
   "cell_type": "code",
   "execution_count": 12,
   "id": "15ab2ab1",
   "metadata": {
    "ExecuteTime": {
     "end_time": "2021-09-10T12:48:39.534460Z",
     "start_time": "2021-09-10T12:48:39.524484Z"
    }
   },
   "outputs": [
    {
     "data": {
      "text/plain": [
       "(40195, 26)"
      ]
     },
     "execution_count": 12,
     "metadata": {},
     "output_type": "execute_result"
    }
   ],
   "source": [
    "df_nichtkum.shape"
   ]
  },
  {
   "cell_type": "code",
   "execution_count": 16,
   "id": "33783890",
   "metadata": {
    "ExecuteTime": {
     "end_time": "2021-09-10T12:49:32.807363Z",
     "start_time": "2021-09-10T12:49:32.786795Z"
    }
   },
   "outputs": [],
   "source": [
    "df_nk = df_nichtkum.copy()"
   ]
  },
  {
   "cell_type": "code",
   "execution_count": 17,
   "id": "249a1c6c",
   "metadata": {
    "ExecuteTime": {
     "end_time": "2021-09-10T12:49:53.648329Z",
     "start_time": "2021-09-10T12:49:53.612420Z"
    }
   },
   "outputs": [
    {
     "data": {
      "text/plain": [
       "(36983, 26)"
      ]
     },
     "execution_count": 17,
     "metadata": {},
     "output_type": "execute_result"
    }
   ],
   "source": [
    "df_nk = df_nk[df_nk[\"NB\"]!=\"NB\"]\n",
    "df_nk.shape"
   ]
  },
  {
   "cell_type": "code",
   "execution_count": 18,
   "id": "70707cd2",
   "metadata": {
    "ExecuteTime": {
     "end_time": "2021-09-10T12:50:08.585011Z",
     "start_time": "2021-09-10T12:50:08.470161Z"
    }
   },
   "outputs": [
    {
     "data": {
      "text/html": [
       "<div>\n",
       "<style scoped>\n",
       "    .dataframe tbody tr th:only-of-type {\n",
       "        vertical-align: middle;\n",
       "    }\n",
       "\n",
       "    .dataframe tbody tr th {\n",
       "        vertical-align: top;\n",
       "    }\n",
       "\n",
       "    .dataframe thead th {\n",
       "        text-align: right;\n",
       "    }\n",
       "</style>\n",
       "<table border=\"1\" class=\"dataframe\">\n",
       "  <thead>\n",
       "    <tr style=\"text-align: right;\">\n",
       "      <th></th>\n",
       "      <th>SplitId</th>\n",
       "      <th>ArtikelId</th>\n",
       "      <th>Ueberschrifttext</th>\n",
       "      <th>ErscheinungsId</th>\n",
       "      <th>AusgabeId</th>\n",
       "      <th>Erscheinungsdatum</th>\n",
       "      <th>Seitennummer</th>\n",
       "      <th>Ressortname</th>\n",
       "      <th>UnterRessortname</th>\n",
       "      <th>Ausgabeleser (Erscheinung)</th>\n",
       "      <th>...</th>\n",
       "      <th>Platzierungen</th>\n",
       "      <th>Darstellungsformen</th>\n",
       "      <th>Beschreibung</th>\n",
       "      <th>Handlungsorte</th>\n",
       "      <th>Akteure</th>\n",
       "      <th>Themen</th>\n",
       "      <th>Ausgabename</th>\n",
       "      <th>Wellennummer</th>\n",
       "      <th>offen/codiert</th>\n",
       "      <th>NB</th>\n",
       "    </tr>\n",
       "  </thead>\n",
       "  <tbody>\n",
       "    <tr>\n",
       "      <th>1</th>\n",
       "      <td>4997</td>\n",
       "      <td>15905</td>\n",
       "      <td>Einfach zu wenig Boxen</td>\n",
       "      <td>81</td>\n",
       "      <td>1</td>\n",
       "      <td>2021-04-12</td>\n",
       "      <td>15</td>\n",
       "      <td>R2466</td>\n",
       "      <td>R2466</td>\n",
       "      <td>381</td>\n",
       "      <td>...</td>\n",
       "      <td>AA</td>\n",
       "      <td>BF</td>\n",
       "      <td>Analyse</td>\n",
       "      <td>Köln, Hamburg, Australien, Los Angeles, Ägypte...</td>\n",
       "      <td>Ever Given, Hapag-Lloyd, Rainer Horn</td>\n",
       "      <td>Business und Finanzen, Industrie und Branchen ...</td>\n",
       "      <td>HF3</td>\n",
       "      <td>4</td>\n",
       "      <td>codiert</td>\n",
       "      <td>None</td>\n",
       "    </tr>\n",
       "    <tr>\n",
       "      <th>2</th>\n",
       "      <td>5001</td>\n",
       "      <td>15907</td>\n",
       "      <td>Bittere Printen</td>\n",
       "      <td>81</td>\n",
       "      <td>1</td>\n",
       "      <td>2021-04-12</td>\n",
       "      <td>15</td>\n",
       "      <td>R2466</td>\n",
       "      <td>R2466</td>\n",
       "      <td>381</td>\n",
       "      <td>...</td>\n",
       "      <td>SK</td>\n",
       "      <td>BF</td>\n",
       "      <td>None</td>\n",
       "      <td>Deutschland, Washington, Brüssel, Vereinigte S...</td>\n",
       "      <td>Joe Biden, Gabriel Felbermayr, Donald Trump, A...</td>\n",
       "      <td>Business allgemein, Business und Finanzen, Ges...</td>\n",
       "      <td>HF3</td>\n",
       "      <td>4</td>\n",
       "      <td>codiert</td>\n",
       "      <td>None</td>\n",
       "    </tr>\n",
       "    <tr>\n",
       "      <th>3</th>\n",
       "      <td>5002</td>\n",
       "      <td>15909</td>\n",
       "      <td>Freudige Erwartung</td>\n",
       "      <td>81</td>\n",
       "      <td>1</td>\n",
       "      <td>2021-04-12</td>\n",
       "      <td>2</td>\n",
       "      <td>R2461</td>\n",
       "      <td>R2461</td>\n",
       "      <td>318</td>\n",
       "      <td>...</td>\n",
       "      <td>TS1</td>\n",
       "      <td>BF</td>\n",
       "      <td>Bericht</td>\n",
       "      <td>Deutschland, Corona</td>\n",
       "      <td>Markus Söder, Armin Laschet, Dorothee Bär, Tho...</td>\n",
       "      <td>Politik, Wahlen, Politische Institutionen &amp; Er...</td>\n",
       "      <td>HF3</td>\n",
       "      <td>4</td>\n",
       "      <td>codiert</td>\n",
       "      <td>None</td>\n",
       "    </tr>\n",
       "    <tr>\n",
       "      <th>4</th>\n",
       "      <td>5000</td>\n",
       "      <td>15910</td>\n",
       "      <td>Trauer im Königreich</td>\n",
       "      <td>81</td>\n",
       "      <td>1</td>\n",
       "      <td>2021-04-12</td>\n",
       "      <td>1</td>\n",
       "      <td>R2441</td>\n",
       "      <td>R2441</td>\n",
       "      <td>381</td>\n",
       "      <td>...</td>\n",
       "      <td>ÜA</td>\n",
       "      <td>BN</td>\n",
       "      <td>None</td>\n",
       "      <td>London, Westminster, Windsor, Elizabeth</td>\n",
       "      <td>Elizabeth II., Piccadilly Circus</td>\n",
       "      <td>Popkultur, Promi-Familien, Society/Promis/Klat...</td>\n",
       "      <td>HF3</td>\n",
       "      <td>4</td>\n",
       "      <td>codiert</td>\n",
       "      <td>None</td>\n",
       "    </tr>\n",
       "    <tr>\n",
       "      <th>5</th>\n",
       "      <td>5004</td>\n",
       "      <td>15911</td>\n",
       "      <td>Wie Hund und Katz</td>\n",
       "      <td>81</td>\n",
       "      <td>1</td>\n",
       "      <td>2021-04-12</td>\n",
       "      <td>16</td>\n",
       "      <td>R2466</td>\n",
       "      <td>R2466</td>\n",
       "      <td>381</td>\n",
       "      <td>...</td>\n",
       "      <td>TS1</td>\n",
       "      <td>KM</td>\n",
       "      <td>Nach Corona</td>\n",
       "      <td>Deutschland</td>\n",
       "      <td>Zooplus, Thomas Schröder</td>\n",
       "      <td>Haustiere und freilebende Tiere, Haustiere, Ti...</td>\n",
       "      <td>HF3</td>\n",
       "      <td>4</td>\n",
       "      <td>codiert</td>\n",
       "      <td>None</td>\n",
       "    </tr>\n",
       "    <tr>\n",
       "      <th>...</th>\n",
       "      <td>...</td>\n",
       "      <td>...</td>\n",
       "      <td>...</td>\n",
       "      <td>...</td>\n",
       "      <td>...</td>\n",
       "      <td>...</td>\n",
       "      <td>...</td>\n",
       "      <td>...</td>\n",
       "      <td>...</td>\n",
       "      <td>...</td>\n",
       "      <td>...</td>\n",
       "      <td>...</td>\n",
       "      <td>...</td>\n",
       "      <td>...</td>\n",
       "      <td>...</td>\n",
       "      <td>...</td>\n",
       "      <td>...</td>\n",
       "      <td>...</td>\n",
       "      <td>...</td>\n",
       "      <td>...</td>\n",
       "      <td>...</td>\n",
       "    </tr>\n",
       "    <tr>\n",
       "      <th>40190</th>\n",
       "      <td>19176</td>\n",
       "      <td>61251</td>\n",
       "      <td>Aufgemerkt</td>\n",
       "      <td>299</td>\n",
       "      <td>4</td>\n",
       "      <td>2021-06-05</td>\n",
       "      <td>40</td>\n",
       "      <td>R2411</td>\n",
       "      <td>R2411</td>\n",
       "      <td>329</td>\n",
       "      <td>...</td>\n",
       "      <td>TS1</td>\n",
       "      <td>NA</td>\n",
       "      <td>None</td>\n",
       "      <td>None</td>\n",
       "      <td>Netflix, Barack Obama, Amanda Gorman, Michelle...</td>\n",
       "      <td>Filme, Horrorfilme, Politische Institutionen &amp;...</td>\n",
       "      <td>1MG_Ebersberg</td>\n",
       "      <td>8</td>\n",
       "      <td>codiert</td>\n",
       "      <td>None</td>\n",
       "    </tr>\n",
       "    <tr>\n",
       "      <th>40191</th>\n",
       "      <td>19420</td>\n",
       "      <td>61252</td>\n",
       "      <td>KFC kommt nach Parsdorf</td>\n",
       "      <td>299</td>\n",
       "      <td>4</td>\n",
       "      <td>2021-06-05</td>\n",
       "      <td>77</td>\n",
       "      <td>R2339</td>\n",
       "      <td>R2339</td>\n",
       "      <td>48</td>\n",
       "      <td>...</td>\n",
       "      <td>ZA</td>\n",
       "      <td>BF</td>\n",
       "      <td>None</td>\n",
       "      <td>Deutschland, Vereinigte Staaten von Amerika</td>\n",
       "      <td>Christlich-Soziale Union in Bayern</td>\n",
       "      <td>Business allgemein, Business und Finanzen, Ind...</td>\n",
       "      <td>1MG_Ebersberg</td>\n",
       "      <td>8</td>\n",
       "      <td>codiert</td>\n",
       "      <td>None</td>\n",
       "    </tr>\n",
       "    <tr>\n",
       "      <th>40192</th>\n",
       "      <td>19318</td>\n",
       "      <td>61254</td>\n",
       "      <td>OP-Masken für Schüler</td>\n",
       "      <td>299</td>\n",
       "      <td>4</td>\n",
       "      <td>2021-06-05</td>\n",
       "      <td>79</td>\n",
       "      <td>R4124</td>\n",
       "      <td>R4124</td>\n",
       "      <td>202</td>\n",
       "      <td>...</td>\n",
       "      <td>TS1</td>\n",
       "      <td>NA</td>\n",
       "      <td>None</td>\n",
       "      <td>München</td>\n",
       "      <td>None</td>\n",
       "      <td>Bildung, Fern- und Online-Unterricht, Grundsch...</td>\n",
       "      <td>1MG_Ebersberg</td>\n",
       "      <td>8</td>\n",
       "      <td>codiert</td>\n",
       "      <td>None</td>\n",
       "    </tr>\n",
       "    <tr>\n",
       "      <th>40193</th>\n",
       "      <td>19419</td>\n",
       "      <td>61255</td>\n",
       "      <td>Zorneding</td>\n",
       "      <td>299</td>\n",
       "      <td>4</td>\n",
       "      <td>2021-06-05</td>\n",
       "      <td>77</td>\n",
       "      <td>R2339</td>\n",
       "      <td>R2339</td>\n",
       "      <td>48</td>\n",
       "      <td>...</td>\n",
       "      <td>TS1</td>\n",
       "      <td>AK, NA</td>\n",
       "      <td>None</td>\n",
       "      <td>None</td>\n",
       "      <td>None</td>\n",
       "      <td>Haustiere und freilebende Tiere, Veranstaltungen</td>\n",
       "      <td>1MG_Ebersberg</td>\n",
       "      <td>8</td>\n",
       "      <td>codiert</td>\n",
       "      <td>None</td>\n",
       "    </tr>\n",
       "    <tr>\n",
       "      <th>40194</th>\n",
       "      <td>19317</td>\n",
       "      <td>61256</td>\n",
       "      <td>„Bayern geht es besser“</td>\n",
       "      <td>299</td>\n",
       "      <td>4</td>\n",
       "      <td>2021-06-05</td>\n",
       "      <td>79</td>\n",
       "      <td>R4124</td>\n",
       "      <td>R4124</td>\n",
       "      <td>202</td>\n",
       "      <td>...</td>\n",
       "      <td>SK</td>\n",
       "      <td>BF</td>\n",
       "      <td>Feature</td>\n",
       "      <td>München</td>\n",
       "      <td>Markus Söder, Hubert</td>\n",
       "      <td>Impfstoffe, Medizinische Gesundheitsversorgung...</td>\n",
       "      <td>1MG_Ebersberg</td>\n",
       "      <td>8</td>\n",
       "      <td>codiert</td>\n",
       "      <td>None</td>\n",
       "    </tr>\n",
       "  </tbody>\n",
       "</table>\n",
       "<p>36983 rows × 26 columns</p>\n",
       "</div>"
      ],
      "text/plain": [
       "       SplitId  ArtikelId         Ueberschrifttext  ErscheinungsId  AusgabeId  \\\n",
       "1         4997      15905   Einfach zu wenig Boxen              81          1   \n",
       "2         5001      15907          Bittere Printen              81          1   \n",
       "3         5002      15909       Freudige Erwartung              81          1   \n",
       "4         5000      15910     Trauer im Königreich              81          1   \n",
       "5         5004      15911        Wie Hund und Katz              81          1   \n",
       "...        ...        ...                      ...             ...        ...   \n",
       "40190    19176      61251               Aufgemerkt             299          4   \n",
       "40191    19420      61252  KFC kommt nach Parsdorf             299          4   \n",
       "40192    19318      61254    OP-Masken für Schüler             299          4   \n",
       "40193    19419      61255                Zorneding             299          4   \n",
       "40194    19317      61256  „Bayern geht es besser“             299          4   \n",
       "\n",
       "      Erscheinungsdatum  Seitennummer Ressortname UnterRessortname  \\\n",
       "1            2021-04-12            15       R2466            R2466   \n",
       "2            2021-04-12            15       R2466            R2466   \n",
       "3            2021-04-12             2       R2461            R2461   \n",
       "4            2021-04-12             1       R2441            R2441   \n",
       "5            2021-04-12            16       R2466            R2466   \n",
       "...                 ...           ...         ...              ...   \n",
       "40190        2021-06-05            40       R2411            R2411   \n",
       "40191        2021-06-05            77       R2339            R2339   \n",
       "40192        2021-06-05            79       R4124            R4124   \n",
       "40193        2021-06-05            77       R2339            R2339   \n",
       "40194        2021-06-05            79       R4124            R4124   \n",
       "\n",
       "       Ausgabeleser (Erscheinung)  ...  Platzierungen  Darstellungsformen  \\\n",
       "1                             381  ...             AA                  BF   \n",
       "2                             381  ...             SK                  BF   \n",
       "3                             318  ...            TS1                  BF   \n",
       "4                             381  ...             ÜA                  BN   \n",
       "5                             381  ...            TS1                  KM   \n",
       "...                           ...  ...            ...                 ...   \n",
       "40190                         329  ...            TS1                  NA   \n",
       "40191                          48  ...             ZA                  BF   \n",
       "40192                         202  ...            TS1                  NA   \n",
       "40193                          48  ...            TS1              AK, NA   \n",
       "40194                         202  ...             SK                  BF   \n",
       "\n",
       "       Beschreibung                                      Handlungsorte  \\\n",
       "1           Analyse  Köln, Hamburg, Australien, Los Angeles, Ägypte...   \n",
       "2              None  Deutschland, Washington, Brüssel, Vereinigte S...   \n",
       "3           Bericht                                Deutschland, Corona   \n",
       "4              None            London, Westminster, Windsor, Elizabeth   \n",
       "5       Nach Corona                                        Deutschland   \n",
       "...             ...                                                ...   \n",
       "40190          None                                               None   \n",
       "40191          None        Deutschland, Vereinigte Staaten von Amerika   \n",
       "40192          None                                            München   \n",
       "40193          None                                               None   \n",
       "40194       Feature                                            München   \n",
       "\n",
       "                                                 Akteure  \\\n",
       "1                   Ever Given, Hapag-Lloyd, Rainer Horn   \n",
       "2      Joe Biden, Gabriel Felbermayr, Donald Trump, A...   \n",
       "3      Markus Söder, Armin Laschet, Dorothee Bär, Tho...   \n",
       "4                       Elizabeth II., Piccadilly Circus   \n",
       "5                               Zooplus, Thomas Schröder   \n",
       "...                                                  ...   \n",
       "40190  Netflix, Barack Obama, Amanda Gorman, Michelle...   \n",
       "40191                 Christlich-Soziale Union in Bayern   \n",
       "40192                                               None   \n",
       "40193                                               None   \n",
       "40194                               Markus Söder, Hubert   \n",
       "\n",
       "                                                  Themen    Ausgabename  \\\n",
       "1      Business und Finanzen, Industrie und Branchen ...            HF3   \n",
       "2      Business allgemein, Business und Finanzen, Ges...            HF3   \n",
       "3      Politik, Wahlen, Politische Institutionen & Er...            HF3   \n",
       "4      Popkultur, Promi-Familien, Society/Promis/Klat...            HF3   \n",
       "5      Haustiere und freilebende Tiere, Haustiere, Ti...            HF3   \n",
       "...                                                  ...            ...   \n",
       "40190  Filme, Horrorfilme, Politische Institutionen &...  1MG_Ebersberg   \n",
       "40191  Business allgemein, Business und Finanzen, Ind...  1MG_Ebersberg   \n",
       "40192  Bildung, Fern- und Online-Unterricht, Grundsch...  1MG_Ebersberg   \n",
       "40193   Haustiere und freilebende Tiere, Veranstaltungen  1MG_Ebersberg   \n",
       "40194  Impfstoffe, Medizinische Gesundheitsversorgung...  1MG_Ebersberg   \n",
       "\n",
       "      Wellennummer offen/codiert    NB  \n",
       "1                4       codiert  None  \n",
       "2                4       codiert  None  \n",
       "3                4       codiert  None  \n",
       "4                4       codiert  None  \n",
       "5                4       codiert  None  \n",
       "...            ...           ...   ...  \n",
       "40190            8       codiert  None  \n",
       "40191            8       codiert  None  \n",
       "40192            8       codiert  None  \n",
       "40193            8       codiert  None  \n",
       "40194            8       codiert  None  \n",
       "\n",
       "[36983 rows x 26 columns]"
      ]
     },
     "execution_count": 18,
     "metadata": {},
     "output_type": "execute_result"
    }
   ],
   "source": [
    "df_nk"
   ]
  },
  {
   "cell_type": "code",
   "execution_count": 20,
   "id": "0c2225da",
   "metadata": {
    "ExecuteTime": {
     "end_time": "2021-09-10T12:52:47.153164Z",
     "start_time": "2021-09-10T12:52:46.485913Z"
    }
   },
   "outputs": [],
   "source": [
    "df_nichtkum.to_csv(\"nichtkum_mit_nb.csv\", index=False)"
   ]
  },
  {
   "cell_type": "code",
   "execution_count": null,
   "id": "10020f86",
   "metadata": {},
   "outputs": [],
   "source": []
  },
  {
   "cell_type": "markdown",
   "id": "c8e0faec",
   "metadata": {},
   "source": [
    "# LW für Wochenend-Leser heraussuchen"
   ]
  },
  {
   "cell_type": "code",
   "execution_count": 37,
   "id": "b7f9eb59",
   "metadata": {
    "ExecuteTime": {
     "end_time": "2021-09-10T13:48:43.262428Z",
     "start_time": "2021-09-10T13:48:42.651146Z"
    }
   },
   "outputs": [],
   "source": [
    "cnxn = pyodbc.connect('DRIVER='+driver+';SERVER='+server+';DATABASE='+database+';UID='+username+';PWD='+ password)\n",
    "cursor = cnxn.cursor()"
   ]
  },
  {
   "cell_type": "code",
   "execution_count": 38,
   "id": "99d40b5e",
   "metadata": {
    "ExecuteTime": {
     "end_time": "2021-09-10T13:48:43.587202Z",
     "start_time": "2021-09-10T13:48:43.581185Z"
    }
   },
   "outputs": [],
   "source": [
    "sql_all = '''\n",
    "\n",
    "\n",
    "SELECT * \n",
    "FROM TeilnehmerDurchlesewerte\n",
    "\n",
    "\n",
    "\n",
    "\n",
    "'''\n",
    "\n",
    "sql_scan = '''\n",
    "\n",
    "SELECT * \n",
    "FROM ScanAuswertungen\n",
    "\n",
    "'''\n"
   ]
  },
  {
   "cell_type": "code",
   "execution_count": 31,
   "id": "99b69f18",
   "metadata": {
    "ExecuteTime": {
     "end_time": "2021-09-10T13:46:03.275343Z",
     "start_time": "2021-09-10T13:45:50.936789Z"
    }
   },
   "outputs": [],
   "source": [
    "df_all = pd.read_sql(sql_all, cnxn)"
   ]
  },
  {
   "cell_type": "code",
   "execution_count": 178,
   "id": "dff2f97d",
   "metadata": {
    "ExecuteTime": {
     "end_time": "2021-09-10T19:22:48.256864Z",
     "start_time": "2021-09-10T19:22:48.149798Z"
    }
   },
   "outputs": [],
   "source": [
    "df_all.to_pickle(\"df_scans.pkl\")"
   ]
  },
  {
   "cell_type": "code",
   "execution_count": 39,
   "id": "b1a615f3",
   "metadata": {
    "ExecuteTime": {
     "end_time": "2021-09-10T13:50:27.355159Z",
     "start_time": "2021-09-10T13:48:46.546652Z"
    }
   },
   "outputs": [],
   "source": [
    "df_scan = pd.read_sql(sql_scan, cnxn)"
   ]
  },
  {
   "cell_type": "code",
   "execution_count": 174,
   "id": "aadfc569",
   "metadata": {
    "ExecuteTime": {
     "end_time": "2021-09-10T19:14:45.848085Z",
     "start_time": "2021-09-10T19:14:45.811151Z"
    }
   },
   "outputs": [
    {
     "data": {
      "text/plain": [
       "618"
      ]
     },
     "execution_count": 174,
     "metadata": {},
     "output_type": "execute_result"
    }
   ],
   "source": [
    "df_scan.WellenteilnahmenId.nunique()"
   ]
  },
  {
   "cell_type": "code",
   "execution_count": 175,
   "id": "891f1b5d",
   "metadata": {
    "ExecuteTime": {
     "end_time": "2021-09-10T19:15:19.376025Z",
     "start_time": "2021-09-10T19:15:09.691700Z"
    }
   },
   "outputs": [],
   "source": [
    "df_scan.to_csv(\"df_scanauswertung.csv\", index=False)"
   ]
  },
  {
   "cell_type": "code",
   "execution_count": 46,
   "id": "558a00f3",
   "metadata": {
    "ExecuteTime": {
     "end_time": "2021-09-10T13:56:28.373363Z",
     "start_time": "2021-09-10T13:56:27.997596Z"
    }
   },
   "outputs": [
    {
     "name": "stdout",
     "output_type": "stream",
     "text": [
      "<class 'pandas.core.frame.DataFrame'>\n",
      "RangeIndex: 728696 entries, 0 to 728695\n",
      "Data columns (total 19 columns):\n",
      " #   Column                          Non-Null Count   Dtype         \n",
      "---  ------                          --------------   -----         \n",
      " 0   Id                              728696 non-null  int64         \n",
      " 1   Dateiname                       728696 non-null  object        \n",
      " 2   Dateidatum                      728696 non-null  datetime64[ns]\n",
      " 3   Xmlzeile                        728696 non-null  bool          \n",
      " 4   Scanzeile                       728696 non-null  object        \n",
      " 5   Suchzeile                       633922 non-null  object        \n",
      " 6   Treffer                         728696 non-null  bool          \n",
      " 7   Artikelzeile                    0 non-null       object        \n",
      " 8   TeilnehmerDurchlesewert         600292 non-null  float64       \n",
      " 9   Bewertung                       728696 non-null  object        \n",
      " 10  Erfassungsdatum                 728696 non-null  object        \n",
      " 11  Erfassungsuhrzeit               728696 non-null  object        \n",
      " 12  Abgeschlossen                   728696 non-null  bool          \n",
      " 13  WellenteilnahmenId              728696 non-null  int64         \n",
      " 14  TeilartikelVeroeffentlichungId  617832 non-null  float64       \n",
      " 15  Erscheinungsdatum               728696 non-null  object        \n",
      " 16  XPosition                       0 non-null       object        \n",
      " 17  YPosition                       0 non-null       object        \n",
      " 18  Seitennummer                    0 non-null       object        \n",
      "dtypes: bool(3), datetime64[ns](1), float64(2), int64(2), object(11)\n",
      "memory usage: 91.0+ MB\n"
     ]
    }
   ],
   "source": [
    "df_scan.info()"
   ]
  },
  {
   "cell_type": "code",
   "execution_count": 50,
   "id": "488ad663",
   "metadata": {
    "ExecuteTime": {
     "end_time": "2021-09-10T14:02:08.037615Z",
     "start_time": "2021-09-10T14:02:08.028638Z"
    }
   },
   "outputs": [
    {
     "data": {
      "text/plain": [
       "0         2021-03-15\n",
       "1         2021-03-15\n",
       "2         2021-03-15\n",
       "3         2021-03-15\n",
       "4         2021-03-15\n",
       "             ...    \n",
       "728691    2021-07-08\n",
       "728692    2021-07-08\n",
       "728693    2021-07-08\n",
       "728694    2021-07-08\n",
       "728695    2021-07-08\n",
       "Name: Erscheinungsdatum, Length: 728696, dtype: object"
      ]
     },
     "execution_count": 50,
     "metadata": {},
     "output_type": "execute_result"
    }
   ],
   "source": [
    "df_scan.Erscheinungsdatum"
   ]
  },
  {
   "cell_type": "code",
   "execution_count": 47,
   "id": "07f329ed",
   "metadata": {
    "ExecuteTime": {
     "end_time": "2021-09-10T13:57:04.787511Z",
     "start_time": "2021-09-10T13:57:04.673812Z"
    }
   },
   "outputs": [],
   "source": [
    "dfs = df_scan.copy()"
   ]
  },
  {
   "cell_type": "code",
   "execution_count": 62,
   "id": "bd2bff16",
   "metadata": {
    "ExecuteTime": {
     "end_time": "2021-09-10T14:09:53.184795Z",
     "start_time": "2021-09-10T14:09:53.176850Z"
    }
   },
   "outputs": [
    {
     "data": {
      "text/plain": [
       "Index(['Id', 'Dateiname', 'Dateidatum', 'Xmlzeile', 'Scanzeile', 'Suchzeile',\n",
       "       'Treffer', 'Artikelzeile', 'TeilnehmerDurchlesewert', 'Bewertung',\n",
       "       'Erfassungsdatum', 'Erfassungsuhrzeit', 'Abgeschlossen',\n",
       "       'WellenteilnahmenId', 'TeilartikelVeroeffentlichungId',\n",
       "       'Erscheinungsdatum', 'XPosition', 'YPosition', 'Seitennummer'],\n",
       "      dtype='object')"
      ]
     },
     "execution_count": 62,
     "metadata": {},
     "output_type": "execute_result"
    }
   ],
   "source": [
    "dfs.columns"
   ]
  },
  {
   "cell_type": "code",
   "execution_count": 87,
   "id": "4953f371",
   "metadata": {
    "ExecuteTime": {
     "end_time": "2021-09-10T14:34:42.659736Z",
     "start_time": "2021-09-10T14:34:42.630176Z"
    }
   },
   "outputs": [
    {
     "ename": "AttributeError",
     "evalue": "'DataFrame' object has no attribute 'Erscheinungsdatum'",
     "output_type": "error",
     "traceback": [
      "\u001b[1;31m---------------------------------------------------------------------------\u001b[0m",
      "\u001b[1;31mAttributeError\u001b[0m                            Traceback (most recent call last)",
      "\u001b[1;32m<ipython-input-87-e2061258fd08>\u001b[0m in \u001b[0;36m<module>\u001b[1;34m\u001b[0m\n\u001b[0;32m     26\u001b[0m     \u001b[1;32mreturn\u001b[0m \u001b[0mnew_df\u001b[0m\u001b[1;33m\u001b[0m\u001b[1;33m\u001b[0m\u001b[0m\n\u001b[0;32m     27\u001b[0m \u001b[1;33m\u001b[0m\u001b[0m\n\u001b[1;32m---> 28\u001b[1;33m \u001b[0mdd\u001b[0m \u001b[1;33m=\u001b[0m \u001b[0mcreate_bw\u001b[0m\u001b[1;33m(\u001b[0m\u001b[0mdf_all\u001b[0m\u001b[1;33m)\u001b[0m\u001b[1;33m\u001b[0m\u001b[1;33m\u001b[0m\u001b[0m\n\u001b[0m",
      "\u001b[1;32m<ipython-input-87-e2061258fd08>\u001b[0m in \u001b[0;36mcreate_bw\u001b[1;34m(df)\u001b[0m\n\u001b[0;32m      4\u001b[0m     \u001b[0mnew_df\u001b[0m \u001b[1;33m=\u001b[0m \u001b[0mpd\u001b[0m\u001b[1;33m.\u001b[0m\u001b[0mDataFrame\u001b[0m\u001b[1;33m(\u001b[0m\u001b[0mcolumns\u001b[0m\u001b[1;33m=\u001b[0m\u001b[0mcols\u001b[0m\u001b[1;33m)\u001b[0m\u001b[1;33m\u001b[0m\u001b[1;33m\u001b[0m\u001b[0m\n\u001b[0;32m      5\u001b[0m \u001b[1;33m\u001b[0m\u001b[0m\n\u001b[1;32m----> 6\u001b[1;33m     \u001b[1;32mfor\u001b[0m \u001b[0mdate\u001b[0m \u001b[1;32min\u001b[0m \u001b[0mdf\u001b[0m\u001b[1;33m.\u001b[0m\u001b[0mErscheinungsdatum\u001b[0m\u001b[1;33m.\u001b[0m\u001b[0munique\u001b[0m\u001b[1;33m(\u001b[0m\u001b[1;33m)\u001b[0m\u001b[1;33m:\u001b[0m\u001b[1;33m\u001b[0m\u001b[1;33m\u001b[0m\u001b[0m\n\u001b[0m\u001b[0;32m      7\u001b[0m \u001b[1;33m\u001b[0m\u001b[0m\n\u001b[0;32m      8\u001b[0m         \u001b[0mdf_\u001b[0m \u001b[1;33m=\u001b[0m \u001b[0mdf\u001b[0m\u001b[1;33m[\u001b[0m\u001b[0mdf\u001b[0m\u001b[1;33m[\u001b[0m\u001b[1;34m\"Erscheinungsdatum\"\u001b[0m\u001b[1;33m]\u001b[0m\u001b[1;33m==\u001b[0m\u001b[0mdate\u001b[0m\u001b[1;33m]\u001b[0m\u001b[1;33m\u001b[0m\u001b[1;33m\u001b[0m\u001b[0m\n",
      "\u001b[1;32mc:\\users\\c_knoop\\appdata\\local\\programs\\python\\python39\\lib\\site-packages\\pandas\\core\\generic.py\u001b[0m in \u001b[0;36m__getattr__\u001b[1;34m(self, name)\u001b[0m\n\u001b[0;32m   5485\u001b[0m         ):\n\u001b[0;32m   5486\u001b[0m             \u001b[1;32mreturn\u001b[0m \u001b[0mself\u001b[0m\u001b[1;33m[\u001b[0m\u001b[0mname\u001b[0m\u001b[1;33m]\u001b[0m\u001b[1;33m\u001b[0m\u001b[1;33m\u001b[0m\u001b[0m\n\u001b[1;32m-> 5487\u001b[1;33m         \u001b[1;32mreturn\u001b[0m \u001b[0mobject\u001b[0m\u001b[1;33m.\u001b[0m\u001b[0m__getattribute__\u001b[0m\u001b[1;33m(\u001b[0m\u001b[0mself\u001b[0m\u001b[1;33m,\u001b[0m \u001b[0mname\u001b[0m\u001b[1;33m)\u001b[0m\u001b[1;33m\u001b[0m\u001b[1;33m\u001b[0m\u001b[0m\n\u001b[0m\u001b[0;32m   5488\u001b[0m \u001b[1;33m\u001b[0m\u001b[0m\n\u001b[0;32m   5489\u001b[0m     \u001b[1;32mdef\u001b[0m \u001b[0m__setattr__\u001b[0m\u001b[1;33m(\u001b[0m\u001b[0mself\u001b[0m\u001b[1;33m,\u001b[0m \u001b[0mname\u001b[0m\u001b[1;33m:\u001b[0m \u001b[0mstr\u001b[0m\u001b[1;33m,\u001b[0m \u001b[0mvalue\u001b[0m\u001b[1;33m)\u001b[0m \u001b[1;33m->\u001b[0m \u001b[1;32mNone\u001b[0m\u001b[1;33m:\u001b[0m\u001b[1;33m\u001b[0m\u001b[1;33m\u001b[0m\u001b[0m\n",
      "\u001b[1;31mAttributeError\u001b[0m: 'DataFrame' object has no attribute 'Erscheinungsdatum'"
     ]
    }
   ],
   "source": [
    "def create_bw(df):\n",
    "    \n",
    "    cols = [\"ArtikelId\", \"BW\", \"DW\", \"Datum\"]\n",
    "    new_df = pd.DataFrame(columns=cols)\n",
    "    \n",
    "    for date in df.Erscheinungsdatum.unique():\n",
    "       \n",
    "        df_ = df[df[\"Erscheinungsdatum\"]==date]\n",
    "        \n",
    "        all_reader = df_.WellenteilnahmenId.nunique()\n",
    "    \n",
    "        liste_all_articles = df_.TeilartikelVeroeffentlichungId.unique()\n",
    "        \n",
    "        for ari in liste_all_articles: \n",
    "            df_ari = df_[df_[\"TeilartikelVeroeffentlichungId\"]==ari]\n",
    "            anzahl_leser_artikel = df_ari.shape[0]\n",
    "            \n",
    "            bw = anzahl_leser_artikel / all_reader * 100\n",
    "            dw = df_ari.TeilnehmerDurchlesewert.mean()\n",
    "            \n",
    "        \n",
    "            new_ser = pd.Series([ari, bw, dw, date], index=cols)\n",
    "\n",
    "            new_df = new_df.append(new_ser, ignore_index=True)\n",
    "\n",
    "    return new_df\n",
    "\n",
    "dd = create_bw(df_all)    "
   ]
  },
  {
   "cell_type": "code",
   "execution_count": 125,
   "id": "9385236a",
   "metadata": {
    "ExecuteTime": {
     "end_time": "2021-09-10T15:23:31.939956Z",
     "start_time": "2021-09-10T15:22:26.672054Z"
    }
   },
   "outputs": [],
   "source": [
    "def create_bw_2(df):\n",
    "    \n",
    "    cols = [\"SplitId\", \"BW\", \"DW\", \"AusgabeErscheinungId\", \"Leser_Ausgabe\", \"Leser_Artikel\"]\n",
    "    new_df = pd.DataFrame(columns=cols)\n",
    "    \n",
    "    for aus in df.AusgabeErscheinungId.unique():\n",
    "       \n",
    "        df_ = df[df[\"AusgabeErscheinungId\"]==aus]\n",
    "        \n",
    "        all_reader = df_.WellenteilnahmenId.nunique()\n",
    "    \n",
    "        liste_all_articles = df_.TeilartikelId.unique()\n",
    "        \n",
    "        for ari in liste_all_articles: \n",
    "            df_ari = df_[df_[\"TeilartikelId\"]==ari]\n",
    "            anzahl_leser_artikel = df_ari.shape[0]\n",
    "            \n",
    "            bw = anzahl_leser_artikel / all_reader * 100\n",
    "            dw = df_ari.TeilnehmerDurchlesewert.mean()\n",
    "            \n",
    "        \n",
    "            new_ser = pd.Series([ari, bw, dw, aus, all_reader, anzahl_leser_artikel], index=cols)\n",
    "\n",
    "            new_df = new_df.append(new_ser, ignore_index=True)\n",
    "\n",
    "    return new_df\n",
    "\n",
    "dd = create_bw_2(df_all)    "
   ]
  },
  {
   "cell_type": "code",
   "execution_count": 117,
   "id": "dc7a675c",
   "metadata": {
    "ExecuteTime": {
     "end_time": "2021-09-10T15:17:34.555449Z",
     "start_time": "2021-09-10T15:17:34.548502Z"
    }
   },
   "outputs": [],
   "source": [
    "test = dd[dd[\"AusgabeErscheinungId\"]==236]\n",
    "test[test[\"ArtikelId\"]==15245]\n",
    "#dd.rename(columns={\"ArtikelId\":\"SplitId\"}, inplace=True)"
   ]
  },
  {
   "cell_type": "code",
   "execution_count": 173,
   "id": "ac1453e6",
   "metadata": {
    "ExecuteTime": {
     "end_time": "2021-09-10T19:12:57.844519Z",
     "start_time": "2021-09-10T19:12:57.579927Z"
    }
   },
   "outputs": [],
   "source": [
    "dd.to_csv(\"df_teilnehmer.csv\", index=False)"
   ]
  },
  {
   "cell_type": "code",
   "execution_count": null,
   "id": "67812e7d",
   "metadata": {},
   "outputs": [],
   "source": []
  },
  {
   "cell_type": "code",
   "execution_count": null,
   "id": "b1e61856",
   "metadata": {},
   "outputs": [],
   "source": [
    "def create_bw_3(df):\n",
    "    \n",
    "    cols = [\"SplitId\", \"BW\", \"DW\", \"AusgabeErscheinungId\", \"Leser_Ausgabe\", \"Leser_Artikel\"]\n",
    "    new_df = pd.DataFrame(columns=cols)\n",
    "    \n",
    "   \n",
    "       \n",
    "        df_ = df[df[\"AusgabeErscheinungId\"]==aus]\n",
    "        \n",
    "        all_reader = df_.WellenteilnahmenId.nunique()\n",
    "    \n",
    "        liste_all_articles = df_.TeilartikelId.unique()\n",
    "        \n",
    "        for ari in liste_all_articles: \n",
    "            df_ari = df_[df_[\"TeilartikelId\"]==ari]\n",
    "            anzahl_leser_artikel = df_ari.shape[0]\n",
    "            \n",
    "            bw = anzahl_leser_artikel / all_reader * 100\n",
    "            dw = df_ari.TeilnehmerDurchlesewert.mean()\n",
    "            \n",
    "        \n",
    "            new_ser = pd.Series([ari, bw, dw, aus, all_reader, anzahl_leser_artikel], index=cols)\n",
    "\n",
    "            new_df = new_df.append(new_ser, ignore_index=True)\n",
    "\n",
    "    return new_df\n",
    "\n",
    "dd = create_bw_2(df_all)    "
   ]
  },
  {
   "cell_type": "code",
   "execution_count": 131,
   "id": "ad6dd32a",
   "metadata": {
    "ExecuteTime": {
     "end_time": "2021-09-10T15:25:31.585279Z",
     "start_time": "2021-09-10T15:25:31.567362Z"
    }
   },
   "outputs": [
    {
     "data": {
      "text/html": [
       "<div>\n",
       "<style scoped>\n",
       "    .dataframe tbody tr th:only-of-type {\n",
       "        vertical-align: middle;\n",
       "    }\n",
       "\n",
       "    .dataframe tbody tr th {\n",
       "        vertical-align: top;\n",
       "    }\n",
       "\n",
       "    .dataframe thead th {\n",
       "        text-align: right;\n",
       "    }\n",
       "</style>\n",
       "<table border=\"1\" class=\"dataframe\">\n",
       "  <thead>\n",
       "    <tr style=\"text-align: right;\">\n",
       "      <th></th>\n",
       "      <th>Id</th>\n",
       "      <th>TeilartikelVeroeffentlichungenId</th>\n",
       "      <th>WellenteilnahmenId</th>\n",
       "      <th>TeilnehmerDurchlesewert</th>\n",
       "      <th>Bewertung</th>\n",
       "      <th>ScanAuswertungId</th>\n",
       "      <th>TeilartikelId</th>\n",
       "      <th>AusgabeErscheinungId</th>\n",
       "      <th>XPosition</th>\n",
       "      <th>YPosition</th>\n",
       "    </tr>\n",
       "  </thead>\n",
       "  <tbody>\n",
       "    <tr>\n",
       "      <th>0</th>\n",
       "      <td>1</td>\n",
       "      <td>4790</td>\n",
       "      <td>494</td>\n",
       "      <td>88.235291</td>\n",
       "      <td>0.0</td>\n",
       "      <td>34</td>\n",
       "      <td>1521</td>\n",
       "      <td>27</td>\n",
       "      <td>None</td>\n",
       "      <td>None</td>\n",
       "    </tr>\n",
       "    <tr>\n",
       "      <th>1</th>\n",
       "      <td>2</td>\n",
       "      <td>4806</td>\n",
       "      <td>494</td>\n",
       "      <td>78.378380</td>\n",
       "      <td>0.0</td>\n",
       "      <td>36</td>\n",
       "      <td>1540</td>\n",
       "      <td>27</td>\n",
       "      <td>None</td>\n",
       "      <td>None</td>\n",
       "    </tr>\n",
       "    <tr>\n",
       "      <th>2</th>\n",
       "      <td>3</td>\n",
       "      <td>4797</td>\n",
       "      <td>494</td>\n",
       "      <td>71.974525</td>\n",
       "      <td>0.0</td>\n",
       "      <td>32</td>\n",
       "      <td>1628</td>\n",
       "      <td>27</td>\n",
       "      <td>None</td>\n",
       "      <td>None</td>\n",
       "    </tr>\n",
       "    <tr>\n",
       "      <th>3</th>\n",
       "      <td>4</td>\n",
       "      <td>4795</td>\n",
       "      <td>494</td>\n",
       "      <td>99.149376</td>\n",
       "      <td>0.0</td>\n",
       "      <td>43</td>\n",
       "      <td>1570</td>\n",
       "      <td>27</td>\n",
       "      <td>None</td>\n",
       "      <td>None</td>\n",
       "    </tr>\n",
       "    <tr>\n",
       "      <th>4</th>\n",
       "      <td>5</td>\n",
       "      <td>4789</td>\n",
       "      <td>494</td>\n",
       "      <td>89.199997</td>\n",
       "      <td>0.0</td>\n",
       "      <td>41</td>\n",
       "      <td>1503</td>\n",
       "      <td>27</td>\n",
       "      <td>None</td>\n",
       "      <td>None</td>\n",
       "    </tr>\n",
       "    <tr>\n",
       "      <th>...</th>\n",
       "      <td>...</td>\n",
       "      <td>...</td>\n",
       "      <td>...</td>\n",
       "      <td>...</td>\n",
       "      <td>...</td>\n",
       "      <td>...</td>\n",
       "      <td>...</td>\n",
       "      <td>...</td>\n",
       "      <td>...</td>\n",
       "      <td>...</td>\n",
       "    </tr>\n",
       "    <tr>\n",
       "      <th>476602</th>\n",
       "      <td>482294</td>\n",
       "      <td>60519</td>\n",
       "      <td>364</td>\n",
       "      <td>28.119801</td>\n",
       "      <td>0.0</td>\n",
       "      <td>729214</td>\n",
       "      <td>19274</td>\n",
       "      <td>297</td>\n",
       "      <td>None</td>\n",
       "      <td>None</td>\n",
       "    </tr>\n",
       "    <tr>\n",
       "      <th>476603</th>\n",
       "      <td>482295</td>\n",
       "      <td>60591</td>\n",
       "      <td>364</td>\n",
       "      <td>99.370110</td>\n",
       "      <td>0.0</td>\n",
       "      <td>729215</td>\n",
       "      <td>19301</td>\n",
       "      <td>297</td>\n",
       "      <td>None</td>\n",
       "      <td>None</td>\n",
       "    </tr>\n",
       "    <tr>\n",
       "      <th>476604</th>\n",
       "      <td>482296</td>\n",
       "      <td>60688</td>\n",
       "      <td>364</td>\n",
       "      <td>99.511772</td>\n",
       "      <td>0.0</td>\n",
       "      <td>729216</td>\n",
       "      <td>19327</td>\n",
       "      <td>297</td>\n",
       "      <td>None</td>\n",
       "      <td>None</td>\n",
       "    </tr>\n",
       "    <tr>\n",
       "      <th>476605</th>\n",
       "      <td>482297</td>\n",
       "      <td>60523</td>\n",
       "      <td>364</td>\n",
       "      <td>99.486412</td>\n",
       "      <td>0.0</td>\n",
       "      <td>729217</td>\n",
       "      <td>19273</td>\n",
       "      <td>297</td>\n",
       "      <td>None</td>\n",
       "      <td>None</td>\n",
       "    </tr>\n",
       "    <tr>\n",
       "      <th>476606</th>\n",
       "      <td>482298</td>\n",
       "      <td>60488</td>\n",
       "      <td>364</td>\n",
       "      <td>99.262589</td>\n",
       "      <td>0.0</td>\n",
       "      <td>729222</td>\n",
       "      <td>19106</td>\n",
       "      <td>297</td>\n",
       "      <td>None</td>\n",
       "      <td>None</td>\n",
       "    </tr>\n",
       "  </tbody>\n",
       "</table>\n",
       "<p>476607 rows × 10 columns</p>\n",
       "</div>"
      ],
      "text/plain": [
       "            Id  TeilartikelVeroeffentlichungenId  WellenteilnahmenId  \\\n",
       "0            1                              4790                 494   \n",
       "1            2                              4806                 494   \n",
       "2            3                              4797                 494   \n",
       "3            4                              4795                 494   \n",
       "4            5                              4789                 494   \n",
       "...        ...                               ...                 ...   \n",
       "476602  482294                             60519                 364   \n",
       "476603  482295                             60591                 364   \n",
       "476604  482296                             60688                 364   \n",
       "476605  482297                             60523                 364   \n",
       "476606  482298                             60488                 364   \n",
       "\n",
       "        TeilnehmerDurchlesewert  Bewertung  ScanAuswertungId  TeilartikelId  \\\n",
       "0                     88.235291        0.0                34           1521   \n",
       "1                     78.378380        0.0                36           1540   \n",
       "2                     71.974525        0.0                32           1628   \n",
       "3                     99.149376        0.0                43           1570   \n",
       "4                     89.199997        0.0                41           1503   \n",
       "...                         ...        ...               ...            ...   \n",
       "476602                28.119801        0.0            729214          19274   \n",
       "476603                99.370110        0.0            729215          19301   \n",
       "476604                99.511772        0.0            729216          19327   \n",
       "476605                99.486412        0.0            729217          19273   \n",
       "476606                99.262589        0.0            729222          19106   \n",
       "\n",
       "        AusgabeErscheinungId XPosition YPosition  \n",
       "0                         27      None      None  \n",
       "1                         27      None      None  \n",
       "2                         27      None      None  \n",
       "3                         27      None      None  \n",
       "4                         27      None      None  \n",
       "...                      ...       ...       ...  \n",
       "476602                   297      None      None  \n",
       "476603                   297      None      None  \n",
       "476604                   297      None      None  \n",
       "476605                   297      None      None  \n",
       "476606                   297      None      None  \n",
       "\n",
       "[476607 rows x 10 columns]"
      ]
     },
     "execution_count": 131,
     "metadata": {},
     "output_type": "execute_result"
    }
   ],
   "source": [
    "df_all"
   ]
  },
  {
   "cell_type": "code",
   "execution_count": 110,
   "id": "8707dd33",
   "metadata": {
    "ExecuteTime": {
     "end_time": "2021-09-10T15:13:31.180087Z",
     "start_time": "2021-09-10T15:13:31.138200Z"
    }
   },
   "outputs": [],
   "source": [
    "df_m_nk = pd.merge(dfnk[[\"ArtikelId\", \"SplitId\", \"Ressort\", \"Ressort_neu3\", \"LW\", \"BW\", \"DW\"]],\\\n",
    "                dd[[\"ArtikelId\" ,\"BW\", \"DW\"]], on=\"ArtikelId\")"
   ]
  },
  {
   "cell_type": "code",
   "execution_count": 126,
   "id": "54d2a955",
   "metadata": {
    "ExecuteTime": {
     "end_time": "2021-09-10T15:23:32.203059Z",
     "start_time": "2021-09-10T15:23:32.175126Z"
    }
   },
   "outputs": [],
   "source": [
    "df_m_k = pd.merge(df_k[[\"SplitId\", \"Ressort\", \"Ressort_neu3\", \"LW\", \"BW\", \"DW\"]],\\\n",
    "                dd[[\"SplitId\" ,\"BW\", \"DW\"]], on=\"SplitId\")"
   ]
  },
  {
   "cell_type": "code",
   "execution_count": 127,
   "id": "16aafc44",
   "metadata": {
    "ExecuteTime": {
     "end_time": "2021-09-10T15:23:32.499260Z",
     "start_time": "2021-09-10T15:23:32.479315Z"
    }
   },
   "outputs": [
    {
     "data": {
      "text/html": [
       "<div>\n",
       "<style scoped>\n",
       "    .dataframe tbody tr th:only-of-type {\n",
       "        vertical-align: middle;\n",
       "    }\n",
       "\n",
       "    .dataframe tbody tr th {\n",
       "        vertical-align: top;\n",
       "    }\n",
       "\n",
       "    .dataframe thead th {\n",
       "        text-align: right;\n",
       "    }\n",
       "</style>\n",
       "<table border=\"1\" class=\"dataframe\">\n",
       "  <thead>\n",
       "    <tr style=\"text-align: right;\">\n",
       "      <th></th>\n",
       "      <th>SplitId</th>\n",
       "      <th>Ressort</th>\n",
       "      <th>Ressort_neu3</th>\n",
       "      <th>LW</th>\n",
       "      <th>BW_x</th>\n",
       "      <th>DW_x</th>\n",
       "      <th>BW_y</th>\n",
       "      <th>DW_y</th>\n",
       "    </tr>\n",
       "  </thead>\n",
       "  <tbody>\n",
       "    <tr>\n",
       "      <th>0</th>\n",
       "      <td>5617</td>\n",
       "      <td>Lokales</td>\n",
       "      <td>Landkreis Starnberg</td>\n",
       "      <td>10.25</td>\n",
       "      <td>14.52</td>\n",
       "      <td>70.62</td>\n",
       "      <td>14.516129</td>\n",
       "      <td>70.621753</td>\n",
       "    </tr>\n",
       "    <tr>\n",
       "      <th>1</th>\n",
       "      <td>7222</td>\n",
       "      <td>Lokales</td>\n",
       "      <td>Landkreis Starnberg</td>\n",
       "      <td>16.12</td>\n",
       "      <td>17.65</td>\n",
       "      <td>91.33</td>\n",
       "      <td>17.391304</td>\n",
       "      <td>91.329286</td>\n",
       "    </tr>\n",
       "    <tr>\n",
       "      <th>2</th>\n",
       "      <td>5922</td>\n",
       "      <td>Lokales</td>\n",
       "      <td>Landkreis Starnberg</td>\n",
       "      <td>17.95</td>\n",
       "      <td>22.95</td>\n",
       "      <td>78.22</td>\n",
       "      <td>22.950820</td>\n",
       "      <td>78.221779</td>\n",
       "    </tr>\n",
       "    <tr>\n",
       "      <th>3</th>\n",
       "      <td>5924</td>\n",
       "      <td>Lokales</td>\n",
       "      <td>Landkreis Starnberg</td>\n",
       "      <td>7.13</td>\n",
       "      <td>13.11</td>\n",
       "      <td>54.34</td>\n",
       "      <td>13.114754</td>\n",
       "      <td>54.343622</td>\n",
       "    </tr>\n",
       "    <tr>\n",
       "      <th>4</th>\n",
       "      <td>5927</td>\n",
       "      <td>Lokales</td>\n",
       "      <td>Landkreis Starnberg</td>\n",
       "      <td>9.96</td>\n",
       "      <td>13.11</td>\n",
       "      <td>75.96</td>\n",
       "      <td>13.114754</td>\n",
       "      <td>75.961536</td>\n",
       "    </tr>\n",
       "    <tr>\n",
       "      <th>...</th>\n",
       "      <td>...</td>\n",
       "      <td>...</td>\n",
       "      <td>...</td>\n",
       "      <td>...</td>\n",
       "      <td>...</td>\n",
       "      <td>...</td>\n",
       "      <td>...</td>\n",
       "      <td>...</td>\n",
       "    </tr>\n",
       "    <tr>\n",
       "      <th>35773</th>\n",
       "      <td>14323</td>\n",
       "      <td>Schule und Hochschule</td>\n",
       "      <td>Schule und Hochschule</td>\n",
       "      <td>7.97</td>\n",
       "      <td>8.94</td>\n",
       "      <td>89.13</td>\n",
       "      <td>8.928571</td>\n",
       "      <td>95.444917</td>\n",
       "    </tr>\n",
       "    <tr>\n",
       "      <th>35774</th>\n",
       "      <td>14323</td>\n",
       "      <td>Schule und Hochschule</td>\n",
       "      <td>Schule und Hochschule</td>\n",
       "      <td>7.97</td>\n",
       "      <td>8.94</td>\n",
       "      <td>89.13</td>\n",
       "      <td>5.263158</td>\n",
       "      <td>57.415255</td>\n",
       "    </tr>\n",
       "    <tr>\n",
       "      <th>35775</th>\n",
       "      <td>14323</td>\n",
       "      <td>Schule und Hochschule</td>\n",
       "      <td>Schule und Hochschule</td>\n",
       "      <td>7.97</td>\n",
       "      <td>8.94</td>\n",
       "      <td>89.13</td>\n",
       "      <td>15.873016</td>\n",
       "      <td>86.430086</td>\n",
       "    </tr>\n",
       "    <tr>\n",
       "      <th>35776</th>\n",
       "      <td>14323</td>\n",
       "      <td>Schule und Hochschule</td>\n",
       "      <td>Schule und Hochschule</td>\n",
       "      <td>7.97</td>\n",
       "      <td>8.94</td>\n",
       "      <td>89.13</td>\n",
       "      <td>1.666667</td>\n",
       "      <td>96.927963</td>\n",
       "    </tr>\n",
       "    <tr>\n",
       "      <th>35777</th>\n",
       "      <td>14323</td>\n",
       "      <td>Schule und Hochschule</td>\n",
       "      <td>Schule und Hochschule</td>\n",
       "      <td>7.97</td>\n",
       "      <td>8.94</td>\n",
       "      <td>89.13</td>\n",
       "      <td>10.569106</td>\n",
       "      <td>95.493809</td>\n",
       "    </tr>\n",
       "  </tbody>\n",
       "</table>\n",
       "<p>35778 rows × 8 columns</p>\n",
       "</div>"
      ],
      "text/plain": [
       "       SplitId                Ressort           Ressort_neu3     LW   BW_x  \\\n",
       "0         5617                Lokales    Landkreis Starnberg  10.25  14.52   \n",
       "1         7222                Lokales    Landkreis Starnberg  16.12  17.65   \n",
       "2         5922                Lokales    Landkreis Starnberg  17.95  22.95   \n",
       "3         5924                Lokales    Landkreis Starnberg   7.13  13.11   \n",
       "4         5927                Lokales    Landkreis Starnberg   9.96  13.11   \n",
       "...        ...                    ...                    ...    ...    ...   \n",
       "35773    14323  Schule und Hochschule  Schule und Hochschule   7.97   8.94   \n",
       "35774    14323  Schule und Hochschule  Schule und Hochschule   7.97   8.94   \n",
       "35775    14323  Schule und Hochschule  Schule und Hochschule   7.97   8.94   \n",
       "35776    14323  Schule und Hochschule  Schule und Hochschule   7.97   8.94   \n",
       "35777    14323  Schule und Hochschule  Schule und Hochschule   7.97   8.94   \n",
       "\n",
       "        DW_x       BW_y       DW_y  \n",
       "0      70.62  14.516129  70.621753  \n",
       "1      91.33  17.391304  91.329286  \n",
       "2      78.22  22.950820  78.221779  \n",
       "3      54.34  13.114754  54.343622  \n",
       "4      75.96  13.114754  75.961536  \n",
       "...      ...        ...        ...  \n",
       "35773  89.13   8.928571  95.444917  \n",
       "35774  89.13   5.263158  57.415255  \n",
       "35775  89.13  15.873016  86.430086  \n",
       "35776  89.13   1.666667  96.927963  \n",
       "35777  89.13  10.569106  95.493809  \n",
       "\n",
       "[35778 rows x 8 columns]"
      ]
     },
     "execution_count": 127,
     "metadata": {},
     "output_type": "execute_result"
    }
   ],
   "source": [
    "df_m_k"
   ]
  },
  {
   "cell_type": "code",
   "execution_count": 128,
   "id": "a8a8618a",
   "metadata": {
    "ExecuteTime": {
     "end_time": "2021-09-10T15:23:39.868021Z",
     "start_time": "2021-09-10T15:23:39.422215Z"
    }
   },
   "outputs": [],
   "source": [
    "df_m_k.to_clipboard(decimal=\",\", index=False)"
   ]
  },
  {
   "cell_type": "code",
   "execution_count": 130,
   "id": "6d2753ee",
   "metadata": {
    "ExecuteTime": {
     "end_time": "2021-09-10T15:24:15.047291Z",
     "start_time": "2021-09-10T15:24:15.038347Z"
    }
   },
   "outputs": [
    {
     "data": {
      "text/plain": [
       "12937"
      ]
     },
     "execution_count": 130,
     "metadata": {},
     "output_type": "execute_result"
    }
   ],
   "source": [
    "dd.SplitId.nunique()"
   ]
  },
  {
   "cell_type": "code",
   "execution_count": 113,
   "id": "0d7ffd61",
   "metadata": {
    "ExecuteTime": {
     "end_time": "2021-09-10T15:16:01.517487Z",
     "start_time": "2021-09-10T15:16:01.499536Z"
    }
   },
   "outputs": [
    {
     "data": {
      "text/html": [
       "<div>\n",
       "<style scoped>\n",
       "    .dataframe tbody tr th:only-of-type {\n",
       "        vertical-align: middle;\n",
       "    }\n",
       "\n",
       "    .dataframe tbody tr th {\n",
       "        vertical-align: top;\n",
       "    }\n",
       "\n",
       "    .dataframe thead th {\n",
       "        text-align: right;\n",
       "    }\n",
       "</style>\n",
       "<table border=\"1\" class=\"dataframe\">\n",
       "  <thead>\n",
       "    <tr style=\"text-align: right;\">\n",
       "      <th></th>\n",
       "      <th>ArtikelId</th>\n",
       "      <th>SplitId</th>\n",
       "      <th>Ressort</th>\n",
       "      <th>Ressort_neu3</th>\n",
       "      <th>LW</th>\n",
       "      <th>BW_x</th>\n",
       "      <th>DW_x</th>\n",
       "      <th>BW_y</th>\n",
       "      <th>DW_y</th>\n",
       "    </tr>\n",
       "  </thead>\n",
       "  <tbody>\n",
       "    <tr>\n",
       "      <th>24050</th>\n",
       "      <td>47897</td>\n",
       "      <td>15245</td>\n",
       "      <td>Sport</td>\n",
       "      <td>Sport</td>\n",
       "      <td>3.779401</td>\n",
       "      <td>4.132231</td>\n",
       "      <td>91.461499</td>\n",
       "      <td>4.132231</td>\n",
       "      <td>91.461499</td>\n",
       "    </tr>\n",
       "  </tbody>\n",
       "</table>\n",
       "</div>"
      ],
      "text/plain": [
       "       ArtikelId  SplitId Ressort Ressort_neu3        LW      BW_x       DW_x  \\\n",
       "24050      47897    15245   Sport        Sport  3.779401  4.132231  91.461499   \n",
       "\n",
       "           BW_y       DW_y  \n",
       "24050  4.132231  91.461499  "
      ]
     },
     "execution_count": 113,
     "metadata": {},
     "output_type": "execute_result"
    }
   ],
   "source": [
    "df_m_nk[df_m_nk[\"SplitId\"]==15245]"
   ]
  },
  {
   "cell_type": "code",
   "execution_count": null,
   "id": "047363ff",
   "metadata": {},
   "outputs": [],
   "source": [
    "te = df_nk[df_nk[\"\"]]"
   ]
  },
  {
   "cell_type": "code",
   "execution_count": null,
   "id": "83e3d1ab",
   "metadata": {},
   "outputs": [],
   "source": [
    "df_m = "
   ]
  },
  {
   "cell_type": "code",
   "execution_count": 107,
   "id": "61a2476b",
   "metadata": {
    "ExecuteTime": {
     "end_time": "2021-09-10T15:11:45.446170Z",
     "start_time": "2021-09-10T15:11:45.439188Z"
    }
   },
   "outputs": [
    {
     "data": {
      "text/plain": [
       "Index(['SplitId', 'ArtikelId', 'Artikel', 'ErscheinungsId', 'AusgabeId',\n",
       "       'Datum', 'Seite', 'Ausgabeleser', 'Artikelleser', 'BW', 'DW', 'LW',\n",
       "       'Seitentitel', 'Platzierungen', 'Darstellungsformen', 'Beschreibung',\n",
       "       'Handlungsorte', 'Akteure', 'Themen', 'Ausgabe', 'Ressort', 'Layerlink',\n",
       "       'Ausgabeteil', 'Kumulierung', 'Wellennummer', 'Dachzeile', 'Wochentag',\n",
       "       'Worte', 'Seitenreihung', 'Optik', 'Ressort_neu', 'Ressort_neu2', 'DF',\n",
       "       'Sortierung_Ressort_neu.1', 'PL.1', 'PL_Sortierung', 'Wortzahl_nk',\n",
       "       'Optik_nein', 'Wortzahl_neu_nk', 'Platzierung_neu_nk',\n",
       "       'Platzierung_neu_Sortierung_nk', 'Ressort_neu3'],\n",
       "      dtype='object')"
      ]
     },
     "execution_count": 107,
     "metadata": {},
     "output_type": "execute_result"
    }
   ],
   "source": [
    "dfnk.columns"
   ]
  },
  {
   "cell_type": "code",
   "execution_count": 104,
   "id": "80dbf0fe",
   "metadata": {
    "ExecuteTime": {
     "end_time": "2021-09-10T15:10:34.215408Z",
     "start_time": "2021-09-10T15:10:33.559195Z"
    }
   },
   "outputs": [
    {
     "name": "stderr",
     "output_type": "stream",
     "text": [
      "<ipython-input-104-63b93aa3c438>:1: DtypeWarning: Columns (25) have mixed types.Specify dtype option on import or set low_memory=False.\n",
      "  dfnk = pd.read_clipboard(decimal=\",\")\n"
     ]
    }
   ],
   "source": [
    "dfnk = pd.read_clipboard(decimal=\",\")"
   ]
  },
  {
   "cell_type": "code",
   "execution_count": 106,
   "id": "46bbd6a7",
   "metadata": {
    "ExecuteTime": {
     "end_time": "2021-09-10T15:10:49.280771Z",
     "start_time": "2021-09-10T15:10:49.219935Z"
    }
   },
   "outputs": [
    {
     "name": "stdout",
     "output_type": "stream",
     "text": [
      "<class 'pandas.core.frame.DataFrame'>\n",
      "RangeIndex: 35723 entries, 0 to 35722\n",
      "Data columns (total 42 columns):\n",
      " #   Column                         Non-Null Count  Dtype  \n",
      "---  ------                         --------------  -----  \n",
      " 0   SplitId                        35723 non-null  int64  \n",
      " 1   ArtikelId                      35723 non-null  int64  \n",
      " 2   Artikel                        35709 non-null  object \n",
      " 3   ErscheinungsId                 35723 non-null  int64  \n",
      " 4   AusgabeId                      35723 non-null  int64  \n",
      " 5   Datum                          35723 non-null  object \n",
      " 6   Seite                          35723 non-null  int64  \n",
      " 7   Ausgabeleser                   35723 non-null  int64  \n",
      " 8   Artikelleser                   35723 non-null  int64  \n",
      " 9   BW                             35723 non-null  float64\n",
      " 10  DW                             35723 non-null  float64\n",
      " 11  LW                             35723 non-null  float64\n",
      " 12  Seitentitel                    35723 non-null  object \n",
      " 13  Platzierungen                  35723 non-null  object \n",
      " 14  Darstellungsformen             27337 non-null  object \n",
      " 15  Beschreibung                   16439 non-null  object \n",
      " 16  Handlungsorte                  30488 non-null  object \n",
      " 17  Akteure                        29753 non-null  object \n",
      " 18  Themen                         35723 non-null  object \n",
      " 19  Ausgabe                        35723 non-null  object \n",
      " 20  Ressort                        35723 non-null  object \n",
      " 21  Layerlink                      35723 non-null  object \n",
      " 22  Ausgabeteil                    35723 non-null  object \n",
      " 23  Kumulierung                    35723 non-null  object \n",
      " 24  Wellennummer                   35723 non-null  int64  \n",
      " 25  Dachzeile                      10024 non-null  object \n",
      " 26  Wochentag                      35718 non-null  object \n",
      " 27  Worte                          35718 non-null  float64\n",
      " 28  Seitenreihung                  35718 non-null  float64\n",
      " 29  Optik                          35718 non-null  object \n",
      " 30  Ressort_neu                    35718 non-null  object \n",
      " 31  Ressort_neu2                   35718 non-null  object \n",
      " 32  DF                             35644 non-null  object \n",
      " 33  Sortierung_Ressort_neu.1       33066 non-null  float64\n",
      " 34  PL.1                           35164 non-null  object \n",
      " 35  PL_Sortierung                  35164 non-null  float64\n",
      " 36  Wortzahl_nk                    35723 non-null  object \n",
      " 37  Optik_nein                     35723 non-null  object \n",
      " 38  Wortzahl_neu_nk                35723 non-null  object \n",
      " 39  Platzierung_neu_nk             35723 non-null  object \n",
      " 40  Platzierung_neu_Sortierung_nk  35723 non-null  int64  \n",
      " 41  Ressort_neu3                   35723 non-null  object \n",
      "dtypes: float64(7), int64(9), object(26)\n",
      "memory usage: 11.4+ MB\n"
     ]
    }
   ],
   "source": [
    "dfnk.info()"
   ]
  },
  {
   "cell_type": "code",
   "execution_count": null,
   "id": "9443de4c",
   "metadata": {},
   "outputs": [],
   "source": []
  },
  {
   "cell_type": "markdown",
   "id": "130bace8",
   "metadata": {},
   "source": [
    "## Teilnehmer "
   ]
  },
  {
   "cell_type": "code",
   "execution_count": 75,
   "id": "d8c632a9",
   "metadata": {
    "ExecuteTime": {
     "end_time": "2021-09-10T14:26:52.655951Z",
     "start_time": "2021-09-10T14:26:52.640993Z"
    }
   },
   "outputs": [
    {
     "name": "stdout",
     "output_type": "stream",
     "text": [
      "<class 'pandas.core.frame.DataFrame'>\n",
      "RangeIndex: 48959 entries, 0 to 48958\n",
      "Data columns (total 4 columns):\n",
      " #   Column     Non-Null Count  Dtype  \n",
      "---  ------     --------------  -----  \n",
      " 0   ArtikelId  48859 non-null  float64\n",
      " 1   BW         48959 non-null  float64\n",
      " 2   DW         48154 non-null  float64\n",
      " 3   Datum      48959 non-null  object \n",
      "dtypes: float64(3), object(1)\n",
      "memory usage: 1.5+ MB\n"
     ]
    }
   ],
   "source": [
    "dd[\"ArtikelId\"]"
   ]
  },
  {
   "cell_type": "code",
   "execution_count": 99,
   "id": "20b5fca6",
   "metadata": {
    "ExecuteTime": {
     "end_time": "2021-09-10T14:42:47.102062Z",
     "start_time": "2021-09-10T14:42:47.086419Z"
    }
   },
   "outputs": [
    {
     "data": {
      "text/html": [
       "<div>\n",
       "<style scoped>\n",
       "    .dataframe tbody tr th:only-of-type {\n",
       "        vertical-align: middle;\n",
       "    }\n",
       "\n",
       "    .dataframe tbody tr th {\n",
       "        vertical-align: top;\n",
       "    }\n",
       "\n",
       "    .dataframe thead th {\n",
       "        text-align: right;\n",
       "    }\n",
       "</style>\n",
       "<table border=\"1\" class=\"dataframe\">\n",
       "  <thead>\n",
       "    <tr style=\"text-align: right;\">\n",
       "      <th></th>\n",
       "      <th>Artikel-Blickwert (Erscheinung) in %</th>\n",
       "      <th>Artikel-Durchlesewerte (Erscheinung) in %</th>\n",
       "      <th>Artikel-Lesewert (Erscheinung) in %</th>\n",
       "    </tr>\n",
       "  </thead>\n",
       "  <tbody>\n",
       "    <tr>\n",
       "      <th>30240</th>\n",
       "      <td>3.072626</td>\n",
       "      <td>69.936914</td>\n",
       "      <td>2.1489</td>\n",
       "    </tr>\n",
       "  </tbody>\n",
       "</table>\n",
       "</div>"
      ],
      "text/plain": [
       "       Artikel-Blickwert (Erscheinung) in %  \\\n",
       "30240                              3.072626   \n",
       "\n",
       "       Artikel-Durchlesewerte (Erscheinung) in %  \\\n",
       "30240                                  69.936914   \n",
       "\n",
       "       Artikel-Lesewert (Erscheinung) in %  \n",
       "30240                               2.1489  "
      ]
     },
     "execution_count": 99,
     "metadata": {},
     "output_type": "execute_result"
    }
   ],
   "source": [
    "t = df_nk[df_nk[\"ArtikelId\"]==56146]\n",
    "t[['Artikel-Blickwert (Erscheinung) in %',\n",
    "       'Artikel-Durchlesewerte (Erscheinung) in %',\n",
    "       'Artikel-Lesewert (Erscheinung) in %']]"
   ]
  },
  {
   "cell_type": "code",
   "execution_count": null,
   "id": "da3ed9d5",
   "metadata": {},
   "outputs": [],
   "source": []
  },
  {
   "cell_type": "code",
   "execution_count": 121,
   "id": "7230dfac",
   "metadata": {
    "ExecuteTime": {
     "end_time": "2021-09-10T15:19:01.867687Z",
     "start_time": "2021-09-10T15:19:01.622305Z"
    }
   },
   "outputs": [],
   "source": [
    "df_k = pd.read_clipboard(decimal=\",\")"
   ]
  },
  {
   "cell_type": "code",
   "execution_count": 122,
   "id": "e4b5b14e",
   "metadata": {
    "ExecuteTime": {
     "end_time": "2021-09-10T15:19:04.442312Z",
     "start_time": "2021-09-10T15:19:04.398436Z"
    }
   },
   "outputs": [
    {
     "data": {
      "text/html": [
       "<div>\n",
       "<style scoped>\n",
       "    .dataframe tbody tr th:only-of-type {\n",
       "        vertical-align: middle;\n",
       "    }\n",
       "\n",
       "    .dataframe tbody tr th {\n",
       "        vertical-align: top;\n",
       "    }\n",
       "\n",
       "    .dataframe thead th {\n",
       "        text-align: right;\n",
       "    }\n",
       "</style>\n",
       "<table border=\"1\" class=\"dataframe\">\n",
       "  <thead>\n",
       "    <tr style=\"text-align: right;\">\n",
       "      <th></th>\n",
       "      <th>SplitId</th>\n",
       "      <th>ArtikelId</th>\n",
       "      <th>Artikel</th>\n",
       "      <th>ErscheinungsId</th>\n",
       "      <th>AusgabeId</th>\n",
       "      <th>Datum</th>\n",
       "      <th>Seite</th>\n",
       "      <th>Ausgabeleser</th>\n",
       "      <th>Artikelleser</th>\n",
       "      <th>BW</th>\n",
       "      <th>...</th>\n",
       "      <th>Wortzahl</th>\n",
       "      <th>Ressort_neu</th>\n",
       "      <th>Sortierung_Ressort_neu.1</th>\n",
       "      <th>Ressort_neu2</th>\n",
       "      <th>Sortierung_Ressort_neu.2</th>\n",
       "      <th>Wortzahl_neu</th>\n",
       "      <th>Platzierung_neu</th>\n",
       "      <th>Platzierung_neu_Sortierung</th>\n",
       "      <th>Ressort_neu3</th>\n",
       "      <th>Wochenende</th>\n",
       "    </tr>\n",
       "  </thead>\n",
       "  <tbody>\n",
       "    <tr>\n",
       "      <th>0</th>\n",
       "      <td>5617</td>\n",
       "      <td>17831</td>\n",
       "      <td>Motorradfahrerin stößt mit Kleinbus zusammen</td>\n",
       "      <td>90</td>\n",
       "      <td>5</td>\n",
       "      <td>13.04.2021</td>\n",
       "      <td>39</td>\n",
       "      <td>62</td>\n",
       "      <td>9</td>\n",
       "      <td>14.52</td>\n",
       "      <td>...</td>\n",
       "      <td>unter 100</td>\n",
       "      <td>Landkreis Starnberg</td>\n",
       "      <td>210.0</td>\n",
       "      <td>Landkreis Starnberg</td>\n",
       "      <td>210.0</td>\n",
       "      <td>unter 500</td>\n",
       "      <td>Einspalter</td>\n",
       "      <td>3</td>\n",
       "      <td>Landkreis Starnberg</td>\n",
       "      <td>nein</td>\n",
       "    </tr>\n",
       "    <tr>\n",
       "      <th>1</th>\n",
       "      <td>7222</td>\n",
       "      <td>22808</td>\n",
       "      <td>Handwerker unterwegs mit zwei Promille</td>\n",
       "      <td>115</td>\n",
       "      <td>5</td>\n",
       "      <td>19.04.2021</td>\n",
       "      <td>35</td>\n",
       "      <td>68</td>\n",
       "      <td>12</td>\n",
       "      <td>17.65</td>\n",
       "      <td>...</td>\n",
       "      <td>unter 100</td>\n",
       "      <td>Landkreis Starnberg</td>\n",
       "      <td>210.0</td>\n",
       "      <td>Landkreis Starnberg</td>\n",
       "      <td>210.0</td>\n",
       "      <td>unter 500</td>\n",
       "      <td>Einspalter</td>\n",
       "      <td>3</td>\n",
       "      <td>Landkreis Starnberg</td>\n",
       "      <td>nein</td>\n",
       "    </tr>\n",
       "    <tr>\n",
       "      <th>2</th>\n",
       "      <td>5922</td>\n",
       "      <td>18655</td>\n",
       "      <td>Berger Rathausspitze negativ getestet</td>\n",
       "      <td>95</td>\n",
       "      <td>5</td>\n",
       "      <td>14.04.2021</td>\n",
       "      <td>35</td>\n",
       "      <td>61</td>\n",
       "      <td>14</td>\n",
       "      <td>22.95</td>\n",
       "      <td>...</td>\n",
       "      <td>unter 100</td>\n",
       "      <td>Landkreis Starnberg</td>\n",
       "      <td>210.0</td>\n",
       "      <td>Lok 1 Starnberg</td>\n",
       "      <td>187.0</td>\n",
       "      <td>unter 500</td>\n",
       "      <td>Einspalter</td>\n",
       "      <td>3</td>\n",
       "      <td>Landkreis Starnberg</td>\n",
       "      <td>nein</td>\n",
       "    </tr>\n",
       "    <tr>\n",
       "      <th>3</th>\n",
       "      <td>5924</td>\n",
       "      <td>18682</td>\n",
       "      <td>Haltestelle in Tutzing verlegt</td>\n",
       "      <td>95</td>\n",
       "      <td>5</td>\n",
       "      <td>14.04.2021</td>\n",
       "      <td>37</td>\n",
       "      <td>61</td>\n",
       "      <td>8</td>\n",
       "      <td>13.11</td>\n",
       "      <td>...</td>\n",
       "      <td>unter 100</td>\n",
       "      <td>Landkreis Starnberg</td>\n",
       "      <td>210.0</td>\n",
       "      <td>Landkreis Starnberg</td>\n",
       "      <td>210.0</td>\n",
       "      <td>unter 500</td>\n",
       "      <td>Einspalter</td>\n",
       "      <td>3</td>\n",
       "      <td>Landkreis Starnberg</td>\n",
       "      <td>nein</td>\n",
       "    </tr>\n",
       "    <tr>\n",
       "      <th>4</th>\n",
       "      <td>5927</td>\n",
       "      <td>18696</td>\n",
       "      <td>Kreativ, mobil und umweltschonend</td>\n",
       "      <td>95</td>\n",
       "      <td>5</td>\n",
       "      <td>14.04.2021</td>\n",
       "      <td>37</td>\n",
       "      <td>61</td>\n",
       "      <td>8</td>\n",
       "      <td>13.11</td>\n",
       "      <td>...</td>\n",
       "      <td>unter 100</td>\n",
       "      <td>Landkreis Starnberg</td>\n",
       "      <td>210.0</td>\n",
       "      <td>Landkreis Starnberg</td>\n",
       "      <td>210.0</td>\n",
       "      <td>unter 500</td>\n",
       "      <td>Einspalter</td>\n",
       "      <td>3</td>\n",
       "      <td>Landkreis Starnberg</td>\n",
       "      <td>nein</td>\n",
       "    </tr>\n",
       "    <tr>\n",
       "      <th>...</th>\n",
       "      <td>...</td>\n",
       "      <td>...</td>\n",
       "      <td>...</td>\n",
       "      <td>...</td>\n",
       "      <td>...</td>\n",
       "      <td>...</td>\n",
       "      <td>...</td>\n",
       "      <td>...</td>\n",
       "      <td>...</td>\n",
       "      <td>...</td>\n",
       "      <td>...</td>\n",
       "      <td>...</td>\n",
       "      <td>...</td>\n",
       "      <td>...</td>\n",
       "      <td>...</td>\n",
       "      <td>...</td>\n",
       "      <td>...</td>\n",
       "      <td>...</td>\n",
       "      <td>...</td>\n",
       "      <td>...</td>\n",
       "      <td>...</td>\n",
       "    </tr>\n",
       "    <tr>\n",
       "      <th>11316</th>\n",
       "      <td>6061</td>\n",
       "      <td>18822</td>\n",
       "      <td>Geschenk aus Malta</td>\n",
       "      <td>96</td>\n",
       "      <td>1</td>\n",
       "      <td>15.04.2021</td>\n",
       "      <td>32</td>\n",
       "      <td>381</td>\n",
       "      <td>30</td>\n",
       "      <td>7.87</td>\n",
       "      <td>...</td>\n",
       "      <td>unter 100</td>\n",
       "      <td>Reise</td>\n",
       "      <td>150.0</td>\n",
       "      <td>Reise</td>\n",
       "      <td>150.0</td>\n",
       "      <td>unter 500</td>\n",
       "      <td>Einspalter</td>\n",
       "      <td>3</td>\n",
       "      <td>Reise</td>\n",
       "      <td>nein</td>\n",
       "    </tr>\n",
       "    <tr>\n",
       "      <th>11317</th>\n",
       "      <td>7954</td>\n",
       "      <td>24844</td>\n",
       "      <td>Neue Kreuzfahrten</td>\n",
       "      <td>126</td>\n",
       "      <td>1</td>\n",
       "      <td>22.04.2021</td>\n",
       "      <td>32</td>\n",
       "      <td>405</td>\n",
       "      <td>17</td>\n",
       "      <td>4.20</td>\n",
       "      <td>...</td>\n",
       "      <td>unter 100</td>\n",
       "      <td>Reise</td>\n",
       "      <td>150.0</td>\n",
       "      <td>Reise</td>\n",
       "      <td>150.0</td>\n",
       "      <td>unter 500</td>\n",
       "      <td>Einspalter</td>\n",
       "      <td>3</td>\n",
       "      <td>Reise</td>\n",
       "      <td>nein</td>\n",
       "    </tr>\n",
       "    <tr>\n",
       "      <th>11318</th>\n",
       "      <td>7988</td>\n",
       "      <td>24887</td>\n",
       "      <td>Portugal öffnet</td>\n",
       "      <td>126</td>\n",
       "      <td>1</td>\n",
       "      <td>22.04.2021</td>\n",
       "      <td>32</td>\n",
       "      <td>405</td>\n",
       "      <td>33</td>\n",
       "      <td>8.15</td>\n",
       "      <td>...</td>\n",
       "      <td>unter 100</td>\n",
       "      <td>Reise</td>\n",
       "      <td>150.0</td>\n",
       "      <td>Reise</td>\n",
       "      <td>150.0</td>\n",
       "      <td>unter 500</td>\n",
       "      <td>Einspalter</td>\n",
       "      <td>3</td>\n",
       "      <td>Reise</td>\n",
       "      <td>nein</td>\n",
       "    </tr>\n",
       "    <tr>\n",
       "      <th>11319</th>\n",
       "      <td>14280</td>\n",
       "      <td>45021</td>\n",
       "      <td>Lehrer als Blitzableiter</td>\n",
       "      <td>221</td>\n",
       "      <td>1</td>\n",
       "      <td>17.05.2021</td>\n",
       "      <td>13</td>\n",
       "      <td>358</td>\n",
       "      <td>36</td>\n",
       "      <td>10.06</td>\n",
       "      <td>...</td>\n",
       "      <td>unter 100</td>\n",
       "      <td>Schule und Hochschule</td>\n",
       "      <td>NaN</td>\n",
       "      <td>Schule und Hochschule</td>\n",
       "      <td>NaN</td>\n",
       "      <td>unter 500</td>\n",
       "      <td>Einspalter</td>\n",
       "      <td>3</td>\n",
       "      <td>Schule und Hochschule</td>\n",
       "      <td>nein</td>\n",
       "    </tr>\n",
       "    <tr>\n",
       "      <th>11320</th>\n",
       "      <td>14323</td>\n",
       "      <td>45066</td>\n",
       "      <td>Unis verlieren Gasthörer</td>\n",
       "      <td>221</td>\n",
       "      <td>1</td>\n",
       "      <td>17.05.2021</td>\n",
       "      <td>13</td>\n",
       "      <td>358</td>\n",
       "      <td>32</td>\n",
       "      <td>8.94</td>\n",
       "      <td>...</td>\n",
       "      <td>unter 100</td>\n",
       "      <td>Schule und Hochschule</td>\n",
       "      <td>NaN</td>\n",
       "      <td>Schule und Hochschule</td>\n",
       "      <td>NaN</td>\n",
       "      <td>unter 500</td>\n",
       "      <td>Einspalter</td>\n",
       "      <td>3</td>\n",
       "      <td>Schule und Hochschule</td>\n",
       "      <td>nein</td>\n",
       "    </tr>\n",
       "  </tbody>\n",
       "</table>\n",
       "<p>11321 rows × 44 columns</p>\n",
       "</div>"
      ],
      "text/plain": [
       "       SplitId  ArtikelId                                       Artikel  \\\n",
       "0         5617      17831  Motorradfahrerin stößt mit Kleinbus zusammen   \n",
       "1         7222      22808        Handwerker unterwegs mit zwei Promille   \n",
       "2         5922      18655         Berger Rathausspitze negativ getestet   \n",
       "3         5924      18682                Haltestelle in Tutzing verlegt   \n",
       "4         5927      18696             Kreativ, mobil und umweltschonend   \n",
       "...        ...        ...                                           ...   \n",
       "11316     6061      18822                            Geschenk aus Malta   \n",
       "11317     7954      24844                             Neue Kreuzfahrten   \n",
       "11318     7988      24887                               Portugal öffnet   \n",
       "11319    14280      45021                      Lehrer als Blitzableiter   \n",
       "11320    14323      45066                      Unis verlieren Gasthörer   \n",
       "\n",
       "       ErscheinungsId  AusgabeId       Datum  Seite  Ausgabeleser  \\\n",
       "0                  90          5  13.04.2021     39            62   \n",
       "1                 115          5  19.04.2021     35            68   \n",
       "2                  95          5  14.04.2021     35            61   \n",
       "3                  95          5  14.04.2021     37            61   \n",
       "4                  95          5  14.04.2021     37            61   \n",
       "...               ...        ...         ...    ...           ...   \n",
       "11316              96          1  15.04.2021     32           381   \n",
       "11317             126          1  22.04.2021     32           405   \n",
       "11318             126          1  22.04.2021     32           405   \n",
       "11319             221          1  17.05.2021     13           358   \n",
       "11320             221          1  17.05.2021     13           358   \n",
       "\n",
       "       Artikelleser     BW  ...   Wortzahl            Ressort_neu  \\\n",
       "0                 9  14.52  ...  unter 100    Landkreis Starnberg   \n",
       "1                12  17.65  ...  unter 100    Landkreis Starnberg   \n",
       "2                14  22.95  ...  unter 100    Landkreis Starnberg   \n",
       "3                 8  13.11  ...  unter 100    Landkreis Starnberg   \n",
       "4                 8  13.11  ...  unter 100    Landkreis Starnberg   \n",
       "...             ...    ...  ...        ...                    ...   \n",
       "11316            30   7.87  ...  unter 100                  Reise   \n",
       "11317            17   4.20  ...  unter 100                  Reise   \n",
       "11318            33   8.15  ...  unter 100                  Reise   \n",
       "11319            36  10.06  ...  unter 100  Schule und Hochschule   \n",
       "11320            32   8.94  ...  unter 100  Schule und Hochschule   \n",
       "\n",
       "      Sortierung_Ressort_neu.1           Ressort_neu2  \\\n",
       "0                        210.0    Landkreis Starnberg   \n",
       "1                        210.0    Landkreis Starnberg   \n",
       "2                        210.0        Lok 1 Starnberg   \n",
       "3                        210.0    Landkreis Starnberg   \n",
       "4                        210.0    Landkreis Starnberg   \n",
       "...                        ...                    ...   \n",
       "11316                    150.0                  Reise   \n",
       "11317                    150.0                  Reise   \n",
       "11318                    150.0                  Reise   \n",
       "11319                      NaN  Schule und Hochschule   \n",
       "11320                      NaN  Schule und Hochschule   \n",
       "\n",
       "      Sortierung_Ressort_neu.2 Wortzahl_neu Platzierung_neu  \\\n",
       "0                        210.0    unter 500      Einspalter   \n",
       "1                        210.0    unter 500      Einspalter   \n",
       "2                        187.0    unter 500      Einspalter   \n",
       "3                        210.0    unter 500      Einspalter   \n",
       "4                        210.0    unter 500      Einspalter   \n",
       "...                        ...          ...             ...   \n",
       "11316                    150.0    unter 500      Einspalter   \n",
       "11317                    150.0    unter 500      Einspalter   \n",
       "11318                    150.0    unter 500      Einspalter   \n",
       "11319                      NaN    unter 500      Einspalter   \n",
       "11320                      NaN    unter 500      Einspalter   \n",
       "\n",
       "      Platzierung_neu_Sortierung           Ressort_neu3 Wochenende  \n",
       "0                              3    Landkreis Starnberg       nein  \n",
       "1                              3    Landkreis Starnberg       nein  \n",
       "2                              3    Landkreis Starnberg       nein  \n",
       "3                              3    Landkreis Starnberg       nein  \n",
       "4                              3    Landkreis Starnberg       nein  \n",
       "...                          ...                    ...        ...  \n",
       "11316                          3                  Reise       nein  \n",
       "11317                          3                  Reise       nein  \n",
       "11318                          3                  Reise       nein  \n",
       "11319                          3  Schule und Hochschule       nein  \n",
       "11320                          3  Schule und Hochschule       nein  \n",
       "\n",
       "[11321 rows x 44 columns]"
      ]
     },
     "execution_count": 122,
     "metadata": {},
     "output_type": "execute_result"
    }
   ],
   "source": [
    "df_k"
   ]
  },
  {
   "cell_type": "code",
   "execution_count": null,
   "id": "2fa370a0",
   "metadata": {},
   "outputs": [],
   "source": []
  },
  {
   "cell_type": "code",
   "execution_count": 136,
   "id": "38951b5a",
   "metadata": {
    "ExecuteTime": {
     "end_time": "2021-09-10T15:36:52.008783Z",
     "start_time": "2021-09-10T15:36:51.396514Z"
    }
   },
   "outputs": [],
   "source": [
    "# nur WellenteiehamenId von Nutzern, deren Nutzer Id mit 2014 anfange\n",
    "\n",
    "cnxn = pyodbc.connect('DRIVER='+driver+';SERVER='+server+';DATABASE='+database+';UID='+username+';PWD='+ password)\n",
    "cursor = cnxn.cursor()"
   ]
  },
  {
   "cell_type": "code",
   "execution_count": 142,
   "id": "14d40880",
   "metadata": {
    "ExecuteTime": {
     "end_time": "2021-09-10T15:38:43.826736Z",
     "start_time": "2021-09-10T15:38:43.822717Z"
    }
   },
   "outputs": [],
   "source": [
    "sql_teilnehmer = '''\n",
    "\n",
    "SELECT te.Teilnehmernummer, we.Id as WellenteilnahmenId, we.WellenId, we.Abgebrochen\n",
    "\n",
    "FROM Teilnehmer te\n",
    "JOIN Wellenteilnahmen we\n",
    "on te.Id = we.TeilnehmerId\n",
    "\n",
    "'''"
   ]
  },
  {
   "cell_type": "code",
   "execution_count": 143,
   "id": "c436cf98",
   "metadata": {
    "ExecuteTime": {
     "end_time": "2021-09-10T15:38:44.966490Z",
     "start_time": "2021-09-10T15:38:44.843931Z"
    }
   },
   "outputs": [],
   "source": [
    "df_te = pd.read_sql(sql_teilnehmer, cnxn)"
   ]
  },
  {
   "cell_type": "code",
   "execution_count": 176,
   "id": "463a86eb",
   "metadata": {
    "ExecuteTime": {
     "end_time": "2021-09-10T19:18:27.155187Z",
     "start_time": "2021-09-10T19:18:27.125906Z"
    }
   },
   "outputs": [],
   "source": [
    "df_te.to_pickle(\"teilnehmer.pkl\")"
   ]
  },
  {
   "cell_type": "code",
   "execution_count": 168,
   "id": "0231b871",
   "metadata": {
    "ExecuteTime": {
     "end_time": "2021-09-10T15:44:37.664740Z",
     "start_time": "2021-09-10T15:44:37.659755Z"
    }
   },
   "outputs": [],
   "source": [
    "df_teil = df_te[df_te[\"Abgebrochen\"]==0]"
   ]
  },
  {
   "cell_type": "code",
   "execution_count": 169,
   "id": "8c001291",
   "metadata": {
    "ExecuteTime": {
     "end_time": "2021-09-10T15:44:41.740495Z",
     "start_time": "2021-09-10T15:44:41.736477Z"
    }
   },
   "outputs": [],
   "source": [
    "#df_teil = df_te.copy()"
   ]
  },
  {
   "cell_type": "code",
   "execution_count": 171,
   "id": "800435c6",
   "metadata": {
    "ExecuteTime": {
     "end_time": "2021-09-10T15:46:27.061001Z",
     "start_time": "2021-09-10T15:46:27.053989Z"
    }
   },
   "outputs": [],
   "source": [
    "df_tt= df_teil[df_teil[\"Teilnehmernummer\"].str[:4]==\"2014\"]\n",
    "wid = df_tt.WellenteilnahmenId.unique()"
   ]
  },
  {
   "cell_type": "code",
   "execution_count": 161,
   "id": "ae46e54e",
   "metadata": {
    "ExecuteTime": {
     "end_time": "2021-09-10T15:40:53.561187Z",
     "start_time": "2021-09-10T15:40:53.544272Z"
    }
   },
   "outputs": [
    {
     "data": {
      "text/plain": [
       "599"
      ]
     },
     "execution_count": 161,
     "metadata": {},
     "output_type": "execute_result"
    }
   ],
   "source": [
    "df_all.WellenteilnahmenId.nunique()"
   ]
  },
  {
   "cell_type": "code",
   "execution_count": null,
   "id": "2b3bd174",
   "metadata": {},
   "outputs": [],
   "source": []
  }
 ],
 "metadata": {
  "hide_input": false,
  "kernelspec": {
   "display_name": "Python 3",
   "language": "python",
   "name": "python3"
  },
  "language_info": {
   "codemirror_mode": {
    "name": "ipython",
    "version": 3
   },
   "file_extension": ".py",
   "mimetype": "text/x-python",
   "name": "python",
   "nbconvert_exporter": "python",
   "pygments_lexer": "ipython3",
   "version": "3.9.5"
  },
  "toc": {
   "base_numbering": 1,
   "nav_menu": {},
   "number_sections": true,
   "sideBar": true,
   "skip_h1_title": false,
   "title_cell": "Table of Contents",
   "title_sidebar": "Contents",
   "toc_cell": false,
   "toc_position": {},
   "toc_section_display": true,
   "toc_window_display": false
  },
  "varInspector": {
   "cols": {
    "lenName": 16,
    "lenType": 16,
    "lenVar": 40
   },
   "kernels_config": {
    "python": {
     "delete_cmd_postfix": "",
     "delete_cmd_prefix": "del ",
     "library": "var_list.py",
     "varRefreshCmd": "print(var_dic_list())"
    },
    "r": {
     "delete_cmd_postfix": ") ",
     "delete_cmd_prefix": "rm(",
     "library": "var_list.r",
     "varRefreshCmd": "cat(var_dic_list()) "
    }
   },
   "types_to_exclude": [
    "module",
    "function",
    "builtin_function_or_method",
    "instance",
    "_Feature"
   ],
   "window_display": false
  }
 },
 "nbformat": 4,
 "nbformat_minor": 5
}
